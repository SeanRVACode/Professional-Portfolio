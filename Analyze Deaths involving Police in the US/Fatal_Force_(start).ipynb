{
  "cells": [
    {
      "cell_type": "markdown",
      "metadata": {
        "id": "0KrR-Qd_wXf-"
      },
      "source": [
        "# Introduction"
      ]
    },
    {
      "cell_type": "markdown",
      "metadata": {
        "id": "I6e2m4XsuRoL"
      },
      "source": [
        "Since Jan. 1, 2015, [The Washington Post](https://www.washingtonpost.com/) has been compiling a database of every fatal shooting in the US by a police officer in the line of duty. \n",
        "\n",
        "<center><img src=https://i.imgur.com/sX3K62b.png></center>\n",
        "\n",
        "While there are many challenges regarding data collection and reporting, The Washington Post has been tracking more than a dozen details about each killing. This includes the race, age and gender of the deceased, whether the person was armed, and whether the victim was experiencing a mental-health crisis. The Washington Post has gathered this supplemental information from law enforcement websites, local new reports, social media, and by monitoring independent databases such as \"Killed by police\" and \"Fatal Encounters\". The Post has also conducted additional reporting in many cases.\n",
        "\n",
        "There are 4 additional datasets: US census data on poverty rate, high school graduation rate, median household income, and racial demographics. [Source of census data](https://factfinder.census.gov/faces/nav/jsf/pages/community_facts.xhtml)."
      ]
    },
    {
      "cell_type": "markdown",
      "metadata": {
        "id": "JwGJl3mnw2Af"
      },
      "source": [
        "### Upgrade Plotly\n",
        "\n",
        "Run the cell below if you are working with Google Colab"
      ]
    },
    {
      "cell_type": "code",
      "execution_count": 54,
      "metadata": {
        "colab": {
          "base_uri": "https://localhost:8080/"
        },
        "id": "KvA9PBoRwvQG",
        "outputId": "ca6ee2a1-8da5-4f2d-f2b2-ea019cd92cae"
      },
      "outputs": [
        {
          "name": "stdout",
          "output_type": "stream",
          "text": [
            "/Users/spiacentini/Development/GitHub/Professional-Portfolio/Analyze Deaths involving Police in the US/.venv/bin/python: No module named pip\n",
            "Note: you may need to restart the kernel to use updated packages.\n"
          ]
        }
      ],
      "source": [
        "%pip install --upgrade plotly"
      ]
    },
    {
      "cell_type": "markdown",
      "metadata": {
        "id": "jqXsMLNJxELp"
      },
      "source": [
        "## Import Statements"
      ]
    },
    {
      "cell_type": "code",
      "execution_count": 55,
      "metadata": {
        "id": "TPhEXC2FxGSr"
      },
      "outputs": [],
      "source": [
        "import numpy as np\n",
        "import pandas as pd\n",
        "import plotly.express as px\n",
        "import matplotlib.pyplot as plt\n",
        "import seaborn as sns\n",
        "\n",
        "# This might be helpful:\n",
        "from collections import Counter\n",
        "\n",
        "\n",
        "# Add kernel with uv add --dev ipykernel"
      ]
    },
    {
      "cell_type": "markdown",
      "metadata": {
        "id": "SwKGmmaLxS2s"
      },
      "source": [
        "## Notebook Presentation"
      ]
    },
    {
      "cell_type": "code",
      "execution_count": 56,
      "metadata": {
        "id": "ayQQqhKtxBxj"
      },
      "outputs": [],
      "source": [
        "pd.options.display.float_format = '{:,.2f}'.format"
      ]
    },
    {
      "cell_type": "markdown",
      "metadata": {
        "id": "nKxJMOiMyAUF"
      },
      "source": [
        "## Load the Data"
      ]
    },
    {
      "cell_type": "code",
      "execution_count": 57,
      "metadata": {
        "_cell_guid": "abb0685f-f844-43f8-84c0-4cd54361c7bf",
        "_uuid": "9c06ed7c41db79ae9d940f2d52aeff23621b3037",
        "id": "8KmGeg6ouRoP"
      },
      "outputs": [],
      "source": [
        "df_hh_income = pd.read_csv('Median_Household_Income_2015.csv', encoding=\"windows-1252\")\n",
        "df_pct_poverty = pd.read_csv('Pct_People_Below_Poverty_Level.csv', encoding=\"windows-1252\")\n",
        "df_pct_completed_hs = pd.read_csv('Pct_Over_25_Completed_High_School.csv', encoding=\"windows-1252\")\n",
        "df_share_race_city = pd.read_csv('Share_of_Race_By_City.csv', encoding=\"windows-1252\")\n",
        "df_fatalities = pd.read_csv('Deaths_by_Police_US.csv', encoding=\"windows-1252\")"
      ]
    },
    {
      "cell_type": "markdown",
      "metadata": {
        "id": "6RuA5SvUyEaB"
      },
      "source": [
        "# Preliminary Data Exploration\n",
        "\n",
        "* What is the shape of the DataFrames? \n",
        "* How many rows and columns do they have?\n",
        "* What are the column names?\n",
        "* Are there any NaN values or duplicates?"
      ]
    },
    {
      "cell_type": "code",
      "execution_count": 58,
      "metadata": {
        "id": "3U9RcS1WyrRJ"
      },
      "outputs": [
        {
          "name": "stdout",
          "output_type": "stream",
          "text": [
            "The shape of df_hh_income: (29322, 3)\n",
            "There are 29322 rows and 3 columns\n",
            "Those column names are Index(['Geographic Area', 'City', 'Median Income'], dtype='object')\n",
            "Are there NaNs? True\n",
            "Are there duplicates? False\n",
            "The shape of df_pct_poverty: (29329, 3)\n",
            "There are 29329 rows and 3 columns\n",
            "Those column names are Index(['Geographic Area', 'City', 'poverty_rate'], dtype='object')\n",
            "Are there NaNs? False\n",
            "Are there duplicates? False\n",
            "The shape of df_pct_completed_hs: (29329, 3)\n",
            "There are 29329 rows and 3 columns\n",
            "Those column names are Index(['Geographic Area', 'City', 'percent_completed_hs'], dtype='object')\n",
            "Are there NaNs? False\n",
            "Are there duplicates? False\n",
            "The shape of df_share_race_city: (29268, 7)\n",
            "There are 29268 rows and 7 columns\n",
            "Those column names are Index(['Geographic area', 'City', 'share_white', 'share_black',\n",
            "       'share_native_american', 'share_asian', 'share_hispanic'],\n",
            "      dtype='object')\n",
            "Are there NaNs? False\n",
            "Are there duplicates? False\n",
            "The shape of df_fatalities: (2535, 14)\n",
            "There are 2535 rows and 14 columns\n",
            "Those column names are Index(['id', 'name', 'date', 'manner_of_death', 'armed', 'age', 'gender',\n",
            "       'race', 'city', 'state', 'signs_of_mental_illness', 'threat_level',\n",
            "       'flee', 'body_camera'],\n",
            "      dtype='object')\n",
            "Are there NaNs? True\n",
            "Are there duplicates? False\n"
          ]
        }
      ],
      "source": [
        "dfs = {\n",
        "    'df_hh_income':df_hh_income,\n",
        "    'df_pct_poverty':df_pct_poverty,\n",
        "    'df_pct_completed_hs':df_pct_completed_hs,\n",
        "    'df_share_race_city':df_share_race_city,\n",
        "    'df_fatalities':df_fatalities\n",
        "}\n",
        "\n",
        "for name,df in dfs.items():\n",
        "    print(f\"The shape of {name}: {df.shape}\")\n",
        "    print(f\"There are {df.shape[0]} rows and {df.shape[1]} columns\")\n",
        "    print(f\"Those column names are {df.columns}\")\n",
        "    print(f\"Are there NaNs? {df.isna().any().any()}\")\n",
        "    print(f\"Are there duplicates? {df.duplicated().any()}\")"
      ]
    },
    {
      "cell_type": "code",
      "execution_count": null,
      "metadata": {
        "id": "DmIARadGyrgs"
      },
      "outputs": [],
      "source": []
    },
    {
      "cell_type": "code",
      "execution_count": null,
      "metadata": {
        "id": "OSgTJoX7yrcS"
      },
      "outputs": [],
      "source": []
    },
    {
      "cell_type": "markdown",
      "metadata": {
        "id": "p72TfMvayr2C"
      },
      "source": [
        "## Data Cleaning - Check for Missing Values and Duplicates\n",
        "\n",
        "Consider how to deal with the NaN values. Perhaps substituting 0 is appropriate. "
      ]
    },
    {
      "cell_type": "code",
      "execution_count": 59,
      "metadata": {
        "id": "WEZuPaXvyxxp"
      },
      "outputs": [],
      "source": [
        "# Clean up the nan with \n",
        "for name,df in dfs.items():\n",
        "    df.fillna(0)"
      ]
    },
    {
      "cell_type": "code",
      "execution_count": 60,
      "metadata": {
        "id": "550aSczryx01"
      },
      "outputs": [],
      "source": [
        "\n",
        "plt.style.use('dark_background')"
      ]
    },
    {
      "cell_type": "markdown",
      "metadata": {
        "_uuid": "52b308c936f5835c5cd186497fe3f96e96372483",
        "id": "n3DrcXVQuRoZ"
      },
      "source": [
        "# Chart the Poverty Rate in each US State\n",
        "\n",
        "Create a bar chart that ranks the poverty rate from highest to lowest by US state. Which state has the highest poverty rate? Which state has the lowest poverty rate?  Bar Plot"
      ]
    },
    {
      "cell_type": "code",
      "execution_count": 61,
      "metadata": {
        "id": "mGxEzMDqzqmn"
      },
      "outputs": [
        {
          "data": {
            "application/vnd.microsoft.datawrangler.viewer.v0+json": {
              "columns": [
                {
                  "name": "index",
                  "rawType": "int64",
                  "type": "integer"
                },
                {
                  "name": "Geographic Area",
                  "rawType": "object",
                  "type": "string"
                },
                {
                  "name": "City",
                  "rawType": "object",
                  "type": "string"
                },
                {
                  "name": "poverty_rate",
                  "rawType": "object",
                  "type": "string"
                }
              ],
              "conversionMethod": "pd.DataFrame",
              "ref": "9580f58e-86cb-4e98-8886-7db1749743b5",
              "rows": [
                [
                  "0",
                  "AL",
                  "Abanda CDP",
                  "78.8"
                ],
                [
                  "1",
                  "AL",
                  "Abbeville city",
                  "29.1"
                ],
                [
                  "2",
                  "AL",
                  "Adamsville city",
                  "25.5"
                ],
                [
                  "3",
                  "AL",
                  "Addison town",
                  "30.7"
                ],
                [
                  "4",
                  "AL",
                  "Akron town",
                  "42"
                ]
              ],
              "shape": {
                "columns": 3,
                "rows": 5
              }
            },
            "text/html": [
              "<div>\n",
              "<style scoped>\n",
              "    .dataframe tbody tr th:only-of-type {\n",
              "        vertical-align: middle;\n",
              "    }\n",
              "\n",
              "    .dataframe tbody tr th {\n",
              "        vertical-align: top;\n",
              "    }\n",
              "\n",
              "    .dataframe thead th {\n",
              "        text-align: right;\n",
              "    }\n",
              "</style>\n",
              "<table border=\"1\" class=\"dataframe\">\n",
              "  <thead>\n",
              "    <tr style=\"text-align: right;\">\n",
              "      <th></th>\n",
              "      <th>Geographic Area</th>\n",
              "      <th>City</th>\n",
              "      <th>poverty_rate</th>\n",
              "    </tr>\n",
              "  </thead>\n",
              "  <tbody>\n",
              "    <tr>\n",
              "      <th>0</th>\n",
              "      <td>AL</td>\n",
              "      <td>Abanda CDP</td>\n",
              "      <td>78.8</td>\n",
              "    </tr>\n",
              "    <tr>\n",
              "      <th>1</th>\n",
              "      <td>AL</td>\n",
              "      <td>Abbeville city</td>\n",
              "      <td>29.1</td>\n",
              "    </tr>\n",
              "    <tr>\n",
              "      <th>2</th>\n",
              "      <td>AL</td>\n",
              "      <td>Adamsville city</td>\n",
              "      <td>25.5</td>\n",
              "    </tr>\n",
              "    <tr>\n",
              "      <th>3</th>\n",
              "      <td>AL</td>\n",
              "      <td>Addison town</td>\n",
              "      <td>30.7</td>\n",
              "    </tr>\n",
              "    <tr>\n",
              "      <th>4</th>\n",
              "      <td>AL</td>\n",
              "      <td>Akron town</td>\n",
              "      <td>42</td>\n",
              "    </tr>\n",
              "  </tbody>\n",
              "</table>\n",
              "</div>"
            ],
            "text/plain": [
              "  Geographic Area             City poverty_rate\n",
              "0              AL       Abanda CDP         78.8\n",
              "1              AL   Abbeville city         29.1\n",
              "2              AL  Adamsville city         25.5\n",
              "3              AL     Addison town         30.7\n",
              "4              AL       Akron town           42"
            ]
          },
          "execution_count": 61,
          "metadata": {},
          "output_type": "execute_result"
        }
      ],
      "source": [
        "df_pct_poverty.head()"
      ]
    },
    {
      "cell_type": "code",
      "execution_count": 62,
      "metadata": {
        "id": "B3AM6oJQ1D_P"
      },
      "outputs": [
        {
          "data": {
            "application/vnd.plotly.v1+json": {
              "config": {
                "plotlyServerURL": "https://plot.ly"
              },
              "data": [
                {
                  "hovertemplate": "Geographic Area=%{x}<br>Pct Pov=%{y}<extra></extra>",
                  "legendgroup": "NJ",
                  "marker": {
                    "color": "#636efa",
                    "pattern": {
                      "shape": ""
                    }
                  },
                  "name": "NJ",
                  "orientation": "v",
                  "showlegend": true,
                  "textposition": "auto",
                  "type": "bar",
                  "x": [
                    "NJ"
                  ],
                  "xaxis": "x",
                  "y": {
                    "bdata": "1NwuncdhIEA=",
                    "dtype": "f8"
                  },
                  "yaxis": "y"
                },
                {
                  "hovertemplate": "Geographic Area=%{x}<br>Pct Pov=%{y}<extra></extra>",
                  "legendgroup": "CT",
                  "marker": {
                    "color": "#EF553B",
                    "pattern": {
                      "shape": ""
                    }
                  },
                  "name": "CT",
                  "orientation": "v",
                  "showlegend": true,
                  "textposition": "auto",
                  "type": "bar",
                  "x": [
                    "CT"
                  ],
                  "xaxis": "x",
                  "y": {
                    "bdata": "ZmZmZmZGIkA=",
                    "dtype": "f8"
                  },
                  "yaxis": "y"
                },
                {
                  "hovertemplate": "Geographic Area=%{x}<br>Pct Pov=%{y}<extra></extra>",
                  "legendgroup": "MA",
                  "marker": {
                    "color": "#00cc96",
                    "pattern": {
                      "shape": ""
                    }
                  },
                  "name": "MA",
                  "orientation": "v",
                  "showlegend": true,
                  "textposition": "auto",
                  "type": "bar",
                  "x": [
                    "MA"
                  ],
                  "xaxis": "x",
                  "y": {
                    "bdata": "RiJ8Pq0rI0A=",
                    "dtype": "f8"
                  },
                  "yaxis": "y"
                },
                {
                  "hovertemplate": "Geographic Area=%{x}<br>Pct Pov=%{y}<extra></extra>",
                  "legendgroup": "WY",
                  "marker": {
                    "color": "#ab63fa",
                    "pattern": {
                      "shape": ""
                    }
                  },
                  "name": "WY",
                  "orientation": "v",
                  "showlegend": true,
                  "textposition": "auto",
                  "type": "bar",
                  "x": [
                    "WY"
                  ],
                  "xaxis": "x",
                  "y": {
                    "bdata": "x906r4DGI0A=",
                    "dtype": "f8"
                  },
                  "yaxis": "y"
                },
                {
                  "hovertemplate": "Geographic Area=%{x}<br>Pct Pov=%{y}<extra></extra>",
                  "legendgroup": "MD",
                  "marker": {
                    "color": "#FFA15A",
                    "pattern": {
                      "shape": ""
                    }
                  },
                  "name": "MD",
                  "orientation": "v",
                  "showlegend": true,
                  "textposition": "auto",
                  "type": "bar",
                  "x": [
                    "MD"
                  ],
                  "xaxis": "x",
                  "y": {
                    "bdata": "n/3N5dmfJEA=",
                    "dtype": "f8"
                  },
                  "yaxis": "y"
                },
                {
                  "hovertemplate": "Geographic Area=%{x}<br>Pct Pov=%{y}<extra></extra>",
                  "legendgroup": "RI",
                  "marker": {
                    "color": "#19d3f3",
                    "pattern": {
                      "shape": ""
                    }
                  },
                  "name": "RI",
                  "orientation": "v",
                  "showlegend": true,
                  "textposition": "auto",
                  "type": "bar",
                  "x": [
                    "RI"
                  ],
                  "xaxis": "x",
                  "y": {
                    "bdata": "0yd90ie9JEA=",
                    "dtype": "f8"
                  },
                  "yaxis": "y"
                },
                {
                  "hovertemplate": "Geographic Area=%{x}<br>Pct Pov=%{y}<extra></extra>",
                  "legendgroup": "NY",
                  "marker": {
                    "color": "#FF6692",
                    "pattern": {
                      "shape": ""
                    }
                  },
                  "name": "NY",
                  "orientation": "v",
                  "showlegend": true,
                  "textposition": "auto",
                  "type": "bar",
                  "x": [
                    "NY"
                  ],
                  "xaxis": "x",
                  "y": {
                    "bdata": "HN1gayJWJ0A=",
                    "dtype": "f8"
                  },
                  "yaxis": "y"
                },
                {
                  "hovertemplate": "Geographic Area=%{x}<br>Pct Pov=%{y}<extra></extra>",
                  "legendgroup": "UT",
                  "marker": {
                    "color": "#B6E880",
                    "pattern": {
                      "shape": ""
                    }
                  },
                  "name": "UT",
                  "orientation": "v",
                  "showlegend": true,
                  "textposition": "auto",
                  "type": "bar",
                  "x": [
                    "UT"
                  ],
                  "xaxis": "x",
                  "y": {
                    "bdata": "aeEMCCX3J0A=",
                    "dtype": "f8"
                  },
                  "yaxis": "y"
                },
                {
                  "hovertemplate": "Geographic Area=%{x}<br>Pct Pov=%{y}<extra></extra>",
                  "legendgroup": "ND",
                  "marker": {
                    "color": "#FF97FF",
                    "pattern": {
                      "shape": ""
                    }
                  },
                  "name": "ND",
                  "orientation": "v",
                  "showlegend": true,
                  "textposition": "auto",
                  "type": "bar",
                  "x": [
                    "ND"
                  ],
                  "xaxis": "x",
                  "y": {
                    "bdata": "T42XbhJTKEA=",
                    "dtype": "f8"
                  },
                  "yaxis": "y"
                },
                {
                  "hovertemplate": "Geographic Area=%{x}<br>Pct Pov=%{y}<extra></extra>",
                  "legendgroup": "IA",
                  "marker": {
                    "color": "#FECB52",
                    "pattern": {
                      "shape": ""
                    }
                  },
                  "name": "IA",
                  "orientation": "v",
                  "showlegend": true,
                  "textposition": "auto",
                  "type": "bar",
                  "x": [
                    "IA"
                  ],
                  "xaxis": "x",
                  "y": {
                    "bdata": "HJoTgMWVKEA=",
                    "dtype": "f8"
                  },
                  "yaxis": "y"
                },
                {
                  "hovertemplate": "Geographic Area=%{x}<br>Pct Pov=%{y}<extra></extra>",
                  "legendgroup": "NV",
                  "marker": {
                    "color": "#636efa",
                    "pattern": {
                      "shape": ""
                    }
                  },
                  "name": "NV",
                  "orientation": "v",
                  "showlegend": true,
                  "textposition": "auto",
                  "type": "bar",
                  "x": [
                    "NV"
                  ],
                  "xaxis": "x",
                  "y": {
                    "bdata": "UUWIt6vuKEA=",
                    "dtype": "f8"
                  },
                  "yaxis": "y"
                },
                {
                  "hovertemplate": "Geographic Area=%{x}<br>Pct Pov=%{y}<extra></extra>",
                  "legendgroup": "PA",
                  "marker": {
                    "color": "#EF553B",
                    "pattern": {
                      "shape": ""
                    }
                  },
                  "name": "PA",
                  "orientation": "v",
                  "showlegend": true,
                  "textposition": "auto",
                  "type": "bar",
                  "x": [
                    "PA"
                  ],
                  "xaxis": "x",
                  "y": {
                    "bdata": "JPLJ3/oHKUA=",
                    "dtype": "f8"
                  },
                  "yaxis": "y"
                },
                {
                  "hovertemplate": "Geographic Area=%{x}<br>Pct Pov=%{y}<extra></extra>",
                  "legendgroup": "DE",
                  "marker": {
                    "color": "#00cc96",
                    "pattern": {
                      "shape": ""
                    }
                  },
                  "name": "DE",
                  "orientation": "v",
                  "showlegend": true,
                  "textposition": "auto",
                  "type": "bar",
                  "x": [
                    "DE"
                  ],
                  "xaxis": "x",
                  "y": {
                    "bdata": "+AvumpccKUA=",
                    "dtype": "f8"
                  },
                  "yaxis": "y"
                },
                {
                  "hovertemplate": "Geographic Area=%{x}<br>Pct Pov=%{y}<extra></extra>",
                  "legendgroup": "NH",
                  "marker": {
                    "color": "#ab63fa",
                    "pattern": {
                      "shape": ""
                    }
                  },
                  "name": "NH",
                  "orientation": "v",
                  "showlegend": true,
                  "textposition": "auto",
                  "type": "bar",
                  "x": [
                    "NH"
                  ],
                  "xaxis": "x",
                  "y": {
                    "bdata": "gS+uftBRKUA=",
                    "dtype": "f8"
                  },
                  "yaxis": "y"
                },
                {
                  "hovertemplate": "Geographic Area=%{x}<br>Pct Pov=%{y}<extra></extra>",
                  "legendgroup": "WI",
                  "marker": {
                    "color": "#FFA15A",
                    "pattern": {
                      "shape": ""
                    }
                  },
                  "name": "WI",
                  "orientation": "v",
                  "showlegend": true,
                  "textposition": "auto",
                  "type": "bar",
                  "x": [
                    "WI"
                  ],
                  "xaxis": "x",
                  "y": {
                    "bdata": "exs726W3KUA=",
                    "dtype": "f8"
                  },
                  "yaxis": "y"
                },
                {
                  "hovertemplate": "Geographic Area=%{x}<br>Pct Pov=%{y}<extra></extra>",
                  "legendgroup": "NE",
                  "marker": {
                    "color": "#19d3f3",
                    "pattern": {
                      "shape": ""
                    }
                  },
                  "name": "NE",
                  "orientation": "v",
                  "showlegend": true,
                  "textposition": "auto",
                  "type": "bar",
                  "x": [
                    "NE"
                  ],
                  "xaxis": "x",
                  "y": {
                    "bdata": "2Yv4Qxr4KUA=",
                    "dtype": "f8"
                  },
                  "yaxis": "y"
                },
                {
                  "hovertemplate": "Geographic Area=%{x}<br>Pct Pov=%{y}<extra></extra>",
                  "legendgroup": "CO",
                  "marker": {
                    "color": "#FF6692",
                    "pattern": {
                      "shape": ""
                    }
                  },
                  "name": "CO",
                  "orientation": "v",
                  "showlegend": true,
                  "textposition": "auto",
                  "type": "bar",
                  "x": [
                    "CO"
                  ],
                  "xaxis": "x",
                  "y": {
                    "bdata": "UpzrGMW5KkA=",
                    "dtype": "f8"
                  },
                  "yaxis": "y"
                },
                {
                  "hovertemplate": "Geographic Area=%{x}<br>Pct Pov=%{y}<extra></extra>",
                  "legendgroup": "HI",
                  "marker": {
                    "color": "#B6E880",
                    "pattern": {
                      "shape": ""
                    }
                  },
                  "name": "HI",
                  "orientation": "v",
                  "showlegend": true,
                  "textposition": "auto",
                  "type": "bar",
                  "x": [
                    "HI"
                  ],
                  "xaxis": "x",
                  "y": {
                    "bdata": "jjRHmiPNKkA=",
                    "dtype": "f8"
                  },
                  "yaxis": "y"
                },
                {
                  "hovertemplate": "Geographic Area=%{x}<br>Pct Pov=%{y}<extra></extra>",
                  "legendgroup": "MN",
                  "marker": {
                    "color": "#FF97FF",
                    "pattern": {
                      "shape": ""
                    }
                  },
                  "name": "MN",
                  "orientation": "v",
                  "showlegend": true,
                  "textposition": "auto",
                  "type": "bar",
                  "x": [
                    "MN"
                  ],
                  "xaxis": "x",
                  "y": {
                    "bdata": "Et13KtF9K0A=",
                    "dtype": "f8"
                  },
                  "yaxis": "y"
                },
                {
                  "hovertemplate": "Geographic Area=%{x}<br>Pct Pov=%{y}<extra></extra>",
                  "legendgroup": "VT",
                  "marker": {
                    "color": "#FECB52",
                    "pattern": {
                      "shape": ""
                    }
                  },
                  "name": "VT",
                  "orientation": "v",
                  "showlegend": true,
                  "textposition": "auto",
                  "type": "bar",
                  "x": [
                    "VT"
                  ],
                  "xaxis": "x",
                  "y": {
                    "bdata": "YySyF2iSK0A=",
                    "dtype": "f8"
                  },
                  "yaxis": "y"
                },
                {
                  "hovertemplate": "Geographic Area=%{x}<br>Pct Pov=%{y}<extra></extra>",
                  "legendgroup": "IL",
                  "marker": {
                    "color": "#636efa",
                    "pattern": {
                      "shape": ""
                    }
                  },
                  "name": "IL",
                  "orientation": "v",
                  "showlegend": true,
                  "textposition": "auto",
                  "type": "bar",
                  "x": [
                    "IL"
                  ],
                  "xaxis": "x",
                  "y": {
                    "bdata": "Wz+PjXLCK0A=",
                    "dtype": "f8"
                  },
                  "yaxis": "y"
                },
                {
                  "hovertemplate": "Geographic Area=%{x}<br>Pct Pov=%{y}<extra></extra>",
                  "legendgroup": "VA",
                  "marker": {
                    "color": "#EF553B",
                    "pattern": {
                      "shape": ""
                    }
                  },
                  "name": "VA",
                  "orientation": "v",
                  "showlegend": true,
                  "textposition": "auto",
                  "type": "bar",
                  "x": [
                    "VA"
                  ],
                  "xaxis": "x",
                  "y": {
                    "bdata": "c3Hmh/IrLUA=",
                    "dtype": "f8"
                  },
                  "yaxis": "y"
                },
                {
                  "hovertemplate": "Geographic Area=%{x}<br>Pct Pov=%{y}<extra></extra>",
                  "legendgroup": "KS",
                  "marker": {
                    "color": "#00cc96",
                    "pattern": {
                      "shape": ""
                    }
                  },
                  "name": "KS",
                  "orientation": "v",
                  "showlegend": true,
                  "textposition": "auto",
                  "type": "bar",
                  "x": [
                    "KS"
                  ],
                  "xaxis": "x",
                  "y": {
                    "bdata": "j7fN+qWGLUA=",
                    "dtype": "f8"
                  },
                  "yaxis": "y"
                },
                {
                  "hovertemplate": "Geographic Area=%{x}<br>Pct Pov=%{y}<extra></extra>",
                  "legendgroup": "OH",
                  "marker": {
                    "color": "#ab63fa",
                    "pattern": {
                      "shape": ""
                    }
                  },
                  "name": "OH",
                  "orientation": "v",
                  "showlegend": true,
                  "textposition": "auto",
                  "type": "bar",
                  "x": [
                    "OH"
                  ],
                  "xaxis": "x",
                  "y": {
                    "bdata": "7MVfE8WzLUA=",
                    "dtype": "f8"
                  },
                  "yaxis": "y"
                },
                {
                  "hovertemplate": "Geographic Area=%{x}<br>Pct Pov=%{y}<extra></extra>",
                  "legendgroup": "WA",
                  "marker": {
                    "color": "#FFA15A",
                    "pattern": {
                      "shape": ""
                    }
                  },
                  "name": "WA",
                  "orientation": "v",
                  "showlegend": true,
                  "textposition": "auto",
                  "type": "bar",
                  "x": [
                    "WA"
                  ],
                  "xaxis": "x",
                  "y": {
                    "bdata": "uKqQDQQJLkA=",
                    "dtype": "f8"
                  },
                  "yaxis": "y"
                },
                {
                  "hovertemplate": "Geographic Area=%{x}<br>Pct Pov=%{y}<extra></extra>",
                  "legendgroup": "IN",
                  "marker": {
                    "color": "#19d3f3",
                    "pattern": {
                      "shape": ""
                    }
                  },
                  "name": "IN",
                  "orientation": "v",
                  "showlegend": true,
                  "textposition": "auto",
                  "type": "bar",
                  "x": [
                    "IN"
                  ],
                  "xaxis": "x",
                  "y": {
                    "bdata": "IFOGuez/LkA=",
                    "dtype": "f8"
                  },
                  "yaxis": "y"
                },
                {
                  "hovertemplate": "Geographic Area=%{x}<br>Pct Pov=%{y}<extra></extra>",
                  "legendgroup": "SD",
                  "marker": {
                    "color": "#FF6692",
                    "pattern": {
                      "shape": ""
                    }
                  },
                  "name": "SD",
                  "orientation": "v",
                  "showlegend": true,
                  "textposition": "auto",
                  "type": "bar",
                  "x": [
                    "SD"
                  ],
                  "xaxis": "x",
                  "y": {
                    "bdata": "REREREQIMEA=",
                    "dtype": "f8"
                  },
                  "yaxis": "y"
                },
                {
                  "hovertemplate": "Geographic Area=%{x}<br>Pct Pov=%{y}<extra></extra>",
                  "legendgroup": "MT",
                  "marker": {
                    "color": "#B6E880",
                    "pattern": {
                      "shape": ""
                    }
                  },
                  "name": "MT",
                  "orientation": "v",
                  "showlegend": true,
                  "textposition": "auto",
                  "type": "bar",
                  "x": [
                    "MT"
                  ],
                  "xaxis": "x",
                  "y": {
                    "bdata": "YSUhs4aDMEA=",
                    "dtype": "f8"
                  },
                  "yaxis": "y"
                },
                {
                  "hovertemplate": "Geographic Area=%{x}<br>Pct Pov=%{y}<extra></extra>",
                  "legendgroup": "OR",
                  "marker": {
                    "color": "#FF97FF",
                    "pattern": {
                      "shape": ""
                    }
                  },
                  "name": "OR",
                  "orientation": "v",
                  "showlegend": true,
                  "textposition": "auto",
                  "type": "bar",
                  "x": [
                    "OR"
                  ],
                  "xaxis": "x",
                  "y": {
                    "bdata": "JeFV6QGGMEA=",
                    "dtype": "f8"
                  },
                  "yaxis": "y"
                },
                {
                  "hovertemplate": "Geographic Area=%{x}<br>Pct Pov=%{y}<extra></extra>",
                  "legendgroup": "ME",
                  "marker": {
                    "color": "#FECB52",
                    "pattern": {
                      "shape": ""
                    }
                  },
                  "name": "ME",
                  "orientation": "v",
                  "showlegend": true,
                  "textposition": "auto",
                  "type": "bar",
                  "x": [
                    "ME"
                  ],
                  "xaxis": "x",
                  "y": {
                    "bdata": "s2z+GdPkMEA=",
                    "dtype": "f8"
                  },
                  "yaxis": "y"
                },
                {
                  "hovertemplate": "Geographic Area=%{x}<br>Pct Pov=%{y}<extra></extra>",
                  "legendgroup": "CA",
                  "marker": {
                    "color": "#636efa",
                    "pattern": {
                      "shape": ""
                    }
                  },
                  "name": "CA",
                  "orientation": "v",
                  "showlegend": true,
                  "textposition": "auto",
                  "type": "bar",
                  "x": [
                    "CA"
                  ],
                  "xaxis": "x",
                  "y": {
                    "bdata": "EvDiE+kfMUA=",
                    "dtype": "f8"
                  },
                  "yaxis": "y"
                },
                {
                  "hovertemplate": "Geographic Area=%{x}<br>Pct Pov=%{y}<extra></extra>",
                  "legendgroup": "FL",
                  "marker": {
                    "color": "#EF553B",
                    "pattern": {
                      "shape": ""
                    }
                  },
                  "name": "FL",
                  "orientation": "v",
                  "showlegend": true,
                  "textposition": "auto",
                  "type": "bar",
                  "x": [
                    "FL"
                  ],
                  "xaxis": "x",
                  "y": {
                    "bdata": "vRGdF+aQMUA=",
                    "dtype": "f8"
                  },
                  "yaxis": "y"
                },
                {
                  "hovertemplate": "Geographic Area=%{x}<br>Pct Pov=%{y}<extra></extra>",
                  "legendgroup": "MI",
                  "marker": {
                    "color": "#00cc96",
                    "pattern": {
                      "shape": ""
                    }
                  },
                  "name": "MI",
                  "orientation": "v",
                  "showlegend": true,
                  "textposition": "auto",
                  "type": "bar",
                  "x": [
                    "MI"
                  ],
                  "xaxis": "x",
                  "y": {
                    "bdata": "KHiqwJXmMUA=",
                    "dtype": "f8"
                  },
                  "yaxis": "y"
                },
                {
                  "hovertemplate": "Geographic Area=%{x}<br>Pct Pov=%{y}<extra></extra>",
                  "legendgroup": "DC",
                  "marker": {
                    "color": "#ab63fa",
                    "pattern": {
                      "shape": ""
                    }
                  },
                  "name": "DC",
                  "orientation": "v",
                  "showlegend": true,
                  "textposition": "auto",
                  "type": "bar",
                  "x": [
                    "DC"
                  ],
                  "xaxis": "x",
                  "y": {
                    "bdata": "AAAAAAAAMkA=",
                    "dtype": "f8"
                  },
                  "yaxis": "y"
                },
                {
                  "hovertemplate": "Geographic Area=%{x}<br>Pct Pov=%{y}<extra></extra>",
                  "legendgroup": "ID",
                  "marker": {
                    "color": "#FFA15A",
                    "pattern": {
                      "shape": ""
                    }
                  },
                  "name": "ID",
                  "orientation": "v",
                  "showlegend": true,
                  "textposition": "auto",
                  "type": "bar",
                  "x": [
                    "ID"
                  ],
                  "xaxis": "x",
                  "y": {
                    "bdata": "RZAOwKQ8MkA=",
                    "dtype": "f8"
                  },
                  "yaxis": "y"
                },
                {
                  "hovertemplate": "Geographic Area=%{x}<br>Pct Pov=%{y}<extra></extra>",
                  "legendgroup": "NC",
                  "marker": {
                    "color": "#19d3f3",
                    "pattern": {
                      "shape": ""
                    }
                  },
                  "name": "NC",
                  "orientation": "v",
                  "showlegend": true,
                  "textposition": "auto",
                  "type": "bar",
                  "x": [
                    "NC"
                  ],
                  "xaxis": "x",
                  "y": {
                    "bdata": "qjtKZU6/M0A=",
                    "dtype": "f8"
                  },
                  "yaxis": "y"
                },
                {
                  "hovertemplate": "Geographic Area=%{x}<br>Pct Pov=%{y}<extra></extra>",
                  "legendgroup": "AK",
                  "marker": {
                    "color": "#FF6692",
                    "pattern": {
                      "shape": ""
                    }
                  },
                  "name": "AK",
                  "orientation": "v",
                  "showlegend": true,
                  "textposition": "auto",
                  "type": "bar",
                  "x": [
                    "AK"
                  ],
                  "xaxis": "x",
                  "y": {
                    "bdata": "9x7J0F3aM0A=",
                    "dtype": "f8"
                  },
                  "yaxis": "y"
                },
                {
                  "hovertemplate": "Geographic Area=%{x}<br>Pct Pov=%{y}<extra></extra>",
                  "legendgroup": "TN",
                  "marker": {
                    "color": "#B6E880",
                    "pattern": {
                      "shape": ""
                    }
                  },
                  "name": "TN",
                  "orientation": "v",
                  "showlegend": true,
                  "textposition": "auto",
                  "type": "bar",
                  "x": [
                    "TN"
                  ],
                  "xaxis": "x",
                  "y": {
                    "bdata": "AjIaJiDjM0A=",
                    "dtype": "f8"
                  },
                  "yaxis": "y"
                },
                {
                  "hovertemplate": "Geographic Area=%{x}<br>Pct Pov=%{y}<extra></extra>",
                  "legendgroup": "TX",
                  "marker": {
                    "color": "#FF97FF",
                    "pattern": {
                      "shape": ""
                    }
                  },
                  "name": "TX",
                  "orientation": "v",
                  "showlegend": true,
                  "textposition": "auto",
                  "type": "bar",
                  "x": [
                    "TX"
                  ],
                  "xaxis": "x",
                  "y": {
                    "bdata": "F/GipQbrM0A=",
                    "dtype": "f8"
                  },
                  "yaxis": "y"
                },
                {
                  "hovertemplate": "Geographic Area=%{x}<br>Pct Pov=%{y}<extra></extra>",
                  "legendgroup": "KY",
                  "marker": {
                    "color": "#FECB52",
                    "pattern": {
                      "shape": ""
                    }
                  },
                  "name": "KY",
                  "orientation": "v",
                  "showlegend": true,
                  "textposition": "auto",
                  "type": "bar",
                  "x": [
                    "KY"
                  ],
                  "xaxis": "x",
                  "y": {
                    "bdata": "Fa5H4XoUNEA=",
                    "dtype": "f8"
                  },
                  "yaxis": "y"
                },
                {
                  "hovertemplate": "Geographic Area=%{x}<br>Pct Pov=%{y}<extra></extra>",
                  "legendgroup": "MO",
                  "marker": {
                    "color": "#636efa",
                    "pattern": {
                      "shape": ""
                    }
                  },
                  "name": "MO",
                  "orientation": "v",
                  "showlegend": true,
                  "textposition": "auto",
                  "type": "bar",
                  "x": [
                    "MO"
                  ],
                  "xaxis": "x",
                  "y": {
                    "bdata": "mpmZmRkbNEA=",
                    "dtype": "f8"
                  },
                  "yaxis": "y"
                },
                {
                  "hovertemplate": "Geographic Area=%{x}<br>Pct Pov=%{y}<extra></extra>",
                  "legendgroup": "AL",
                  "marker": {
                    "color": "#EF553B",
                    "pattern": {
                      "shape": ""
                    }
                  },
                  "name": "AL",
                  "orientation": "v",
                  "showlegend": true,
                  "textposition": "auto",
                  "type": "bar",
                  "x": [
                    "AL"
                  ],
                  "xaxis": "x",
                  "y": {
                    "bdata": "WhudoKelNEA=",
                    "dtype": "f8"
                  },
                  "yaxis": "y"
                },
                {
                  "hovertemplate": "Geographic Area=%{x}<br>Pct Pov=%{y}<extra></extra>",
                  "legendgroup": "OK",
                  "marker": {
                    "color": "#00cc96",
                    "pattern": {
                      "shape": ""
                    }
                  },
                  "name": "OK",
                  "orientation": "v",
                  "showlegend": true,
                  "textposition": "auto",
                  "type": "bar",
                  "x": [
                    "OK"
                  ],
                  "xaxis": "x",
                  "y": {
                    "bdata": "qvoC+zeoNEA=",
                    "dtype": "f8"
                  },
                  "yaxis": "y"
                },
                {
                  "hovertemplate": "Geographic Area=%{x}<br>Pct Pov=%{y}<extra></extra>",
                  "legendgroup": "WV",
                  "marker": {
                    "color": "#ab63fa",
                    "pattern": {
                      "shape": ""
                    }
                  },
                  "name": "WV",
                  "orientation": "v",
                  "showlegend": true,
                  "textposition": "auto",
                  "type": "bar",
                  "x": [
                    "WV"
                  ],
                  "xaxis": "x",
                  "y": {
                    "bdata": "Vj1/bWgiNUA=",
                    "dtype": "f8"
                  },
                  "yaxis": "y"
                },
                {
                  "hovertemplate": "Geographic Area=%{x}<br>Pct Pov=%{y}<extra></extra>",
                  "legendgroup": "SC",
                  "marker": {
                    "color": "#FFA15A",
                    "pattern": {
                      "shape": ""
                    }
                  },
                  "name": "SC",
                  "orientation": "v",
                  "showlegend": true,
                  "textposition": "auto",
                  "type": "bar",
                  "x": [
                    "SC"
                  ],
                  "xaxis": "x",
                  "y": {
                    "bdata": "4lDwTlkpNkA=",
                    "dtype": "f8"
                  },
                  "yaxis": "y"
                },
                {
                  "hovertemplate": "Geographic Area=%{x}<br>Pct Pov=%{y}<extra></extra>",
                  "legendgroup": "LA",
                  "marker": {
                    "color": "#19d3f3",
                    "pattern": {
                      "shape": ""
                    }
                  },
                  "name": "LA",
                  "orientation": "v",
                  "showlegend": true,
                  "textposition": "auto",
                  "type": "bar",
                  "x": [
                    "LA"
                  ],
                  "xaxis": "x",
                  "y": {
                    "bdata": "9LEkMcJWNkA=",
                    "dtype": "f8"
                  },
                  "yaxis": "y"
                },
                {
                  "hovertemplate": "Geographic Area=%{x}<br>Pct Pov=%{y}<extra></extra>",
                  "legendgroup": "AR",
                  "marker": {
                    "color": "#FF6692",
                    "pattern": {
                      "shape": ""
                    }
                  },
                  "name": "AR",
                  "orientation": "v",
                  "showlegend": true,
                  "textposition": "auto",
                  "type": "bar",
                  "x": [
                    "AR"
                  ],
                  "xaxis": "x",
                  "y": {
                    "bdata": "BjFaV5X2NkA=",
                    "dtype": "f8"
                  },
                  "yaxis": "y"
                },
                {
                  "hovertemplate": "Geographic Area=%{x}<br>Pct Pov=%{y}<extra></extra>",
                  "legendgroup": "NM",
                  "marker": {
                    "color": "#B6E880",
                    "pattern": {
                      "shape": ""
                    }
                  },
                  "name": "NM",
                  "orientation": "v",
                  "showlegend": true,
                  "textposition": "auto",
                  "type": "bar",
                  "x": [
                    "NM"
                  ],
                  "xaxis": "x",
                  "y": {
                    "bdata": "ywOSda4UN0A=",
                    "dtype": "f8"
                  },
                  "yaxis": "y"
                },
                {
                  "hovertemplate": "Geographic Area=%{x}<br>Pct Pov=%{y}<extra></extra>",
                  "legendgroup": "GA",
                  "marker": {
                    "color": "#FF97FF",
                    "pattern": {
                      "shape": ""
                    }
                  },
                  "name": "GA",
                  "orientation": "v",
                  "showlegend": true,
                  "textposition": "auto",
                  "type": "bar",
                  "x": [
                    "GA"
                  ],
                  "xaxis": "x",
                  "y": {
                    "bdata": "8AM/8APHN0A=",
                    "dtype": "f8"
                  },
                  "yaxis": "y"
                },
                {
                  "hovertemplate": "Geographic Area=%{x}<br>Pct Pov=%{y}<extra></extra>",
                  "legendgroup": "AZ",
                  "marker": {
                    "color": "#FECB52",
                    "pattern": {
                      "shape": ""
                    }
                  },
                  "name": "AZ",
                  "orientation": "v",
                  "showlegend": true,
                  "textposition": "auto",
                  "type": "bar",
                  "x": [
                    "AZ"
                  ],
                  "xaxis": "x",
                  "y": {
                    "bdata": "qrAD6JuqOUA=",
                    "dtype": "f8"
                  },
                  "yaxis": "y"
                },
                {
                  "hovertemplate": "Geographic Area=%{x}<br>Pct Pov=%{y}<extra></extra>",
                  "legendgroup": "MS",
                  "marker": {
                    "color": "#636efa",
                    "pattern": {
                      "shape": ""
                    }
                  },
                  "name": "MS",
                  "orientation": "v",
                  "showlegend": true,
                  "textposition": "auto",
                  "type": "bar",
                  "x": [
                    "MS"
                  ],
                  "xaxis": "x",
                  "y": {
                    "bdata": "VlDEel7iOkA=",
                    "dtype": "f8"
                  },
                  "yaxis": "y"
                }
              ],
              "layout": {
                "barmode": "relative",
                "legend": {
                  "title": {
                    "text": "Geographic Area"
                  },
                  "tracegroupgap": 0
                },
                "template": {
                  "data": {
                    "bar": [
                      {
                        "error_x": {
                          "color": "#f2f5fa"
                        },
                        "error_y": {
                          "color": "#f2f5fa"
                        },
                        "marker": {
                          "line": {
                            "color": "rgb(17,17,17)",
                            "width": 0.5
                          },
                          "pattern": {
                            "fillmode": "overlay",
                            "size": 10,
                            "solidity": 0.2
                          }
                        },
                        "type": "bar"
                      }
                    ],
                    "barpolar": [
                      {
                        "marker": {
                          "line": {
                            "color": "rgb(17,17,17)",
                            "width": 0.5
                          },
                          "pattern": {
                            "fillmode": "overlay",
                            "size": 10,
                            "solidity": 0.2
                          }
                        },
                        "type": "barpolar"
                      }
                    ],
                    "carpet": [
                      {
                        "aaxis": {
                          "endlinecolor": "#A2B1C6",
                          "gridcolor": "#506784",
                          "linecolor": "#506784",
                          "minorgridcolor": "#506784",
                          "startlinecolor": "#A2B1C6"
                        },
                        "baxis": {
                          "endlinecolor": "#A2B1C6",
                          "gridcolor": "#506784",
                          "linecolor": "#506784",
                          "minorgridcolor": "#506784",
                          "startlinecolor": "#A2B1C6"
                        },
                        "type": "carpet"
                      }
                    ],
                    "choropleth": [
                      {
                        "colorbar": {
                          "outlinewidth": 0,
                          "ticks": ""
                        },
                        "type": "choropleth"
                      }
                    ],
                    "contour": [
                      {
                        "colorbar": {
                          "outlinewidth": 0,
                          "ticks": ""
                        },
                        "colorscale": [
                          [
                            0,
                            "#0d0887"
                          ],
                          [
                            0.1111111111111111,
                            "#46039f"
                          ],
                          [
                            0.2222222222222222,
                            "#7201a8"
                          ],
                          [
                            0.3333333333333333,
                            "#9c179e"
                          ],
                          [
                            0.4444444444444444,
                            "#bd3786"
                          ],
                          [
                            0.5555555555555556,
                            "#d8576b"
                          ],
                          [
                            0.6666666666666666,
                            "#ed7953"
                          ],
                          [
                            0.7777777777777778,
                            "#fb9f3a"
                          ],
                          [
                            0.8888888888888888,
                            "#fdca26"
                          ],
                          [
                            1,
                            "#f0f921"
                          ]
                        ],
                        "type": "contour"
                      }
                    ],
                    "contourcarpet": [
                      {
                        "colorbar": {
                          "outlinewidth": 0,
                          "ticks": ""
                        },
                        "type": "contourcarpet"
                      }
                    ],
                    "heatmap": [
                      {
                        "colorbar": {
                          "outlinewidth": 0,
                          "ticks": ""
                        },
                        "colorscale": [
                          [
                            0,
                            "#0d0887"
                          ],
                          [
                            0.1111111111111111,
                            "#46039f"
                          ],
                          [
                            0.2222222222222222,
                            "#7201a8"
                          ],
                          [
                            0.3333333333333333,
                            "#9c179e"
                          ],
                          [
                            0.4444444444444444,
                            "#bd3786"
                          ],
                          [
                            0.5555555555555556,
                            "#d8576b"
                          ],
                          [
                            0.6666666666666666,
                            "#ed7953"
                          ],
                          [
                            0.7777777777777778,
                            "#fb9f3a"
                          ],
                          [
                            0.8888888888888888,
                            "#fdca26"
                          ],
                          [
                            1,
                            "#f0f921"
                          ]
                        ],
                        "type": "heatmap"
                      }
                    ],
                    "histogram": [
                      {
                        "marker": {
                          "pattern": {
                            "fillmode": "overlay",
                            "size": 10,
                            "solidity": 0.2
                          }
                        },
                        "type": "histogram"
                      }
                    ],
                    "histogram2d": [
                      {
                        "colorbar": {
                          "outlinewidth": 0,
                          "ticks": ""
                        },
                        "colorscale": [
                          [
                            0,
                            "#0d0887"
                          ],
                          [
                            0.1111111111111111,
                            "#46039f"
                          ],
                          [
                            0.2222222222222222,
                            "#7201a8"
                          ],
                          [
                            0.3333333333333333,
                            "#9c179e"
                          ],
                          [
                            0.4444444444444444,
                            "#bd3786"
                          ],
                          [
                            0.5555555555555556,
                            "#d8576b"
                          ],
                          [
                            0.6666666666666666,
                            "#ed7953"
                          ],
                          [
                            0.7777777777777778,
                            "#fb9f3a"
                          ],
                          [
                            0.8888888888888888,
                            "#fdca26"
                          ],
                          [
                            1,
                            "#f0f921"
                          ]
                        ],
                        "type": "histogram2d"
                      }
                    ],
                    "histogram2dcontour": [
                      {
                        "colorbar": {
                          "outlinewidth": 0,
                          "ticks": ""
                        },
                        "colorscale": [
                          [
                            0,
                            "#0d0887"
                          ],
                          [
                            0.1111111111111111,
                            "#46039f"
                          ],
                          [
                            0.2222222222222222,
                            "#7201a8"
                          ],
                          [
                            0.3333333333333333,
                            "#9c179e"
                          ],
                          [
                            0.4444444444444444,
                            "#bd3786"
                          ],
                          [
                            0.5555555555555556,
                            "#d8576b"
                          ],
                          [
                            0.6666666666666666,
                            "#ed7953"
                          ],
                          [
                            0.7777777777777778,
                            "#fb9f3a"
                          ],
                          [
                            0.8888888888888888,
                            "#fdca26"
                          ],
                          [
                            1,
                            "#f0f921"
                          ]
                        ],
                        "type": "histogram2dcontour"
                      }
                    ],
                    "mesh3d": [
                      {
                        "colorbar": {
                          "outlinewidth": 0,
                          "ticks": ""
                        },
                        "type": "mesh3d"
                      }
                    ],
                    "parcoords": [
                      {
                        "line": {
                          "colorbar": {
                            "outlinewidth": 0,
                            "ticks": ""
                          }
                        },
                        "type": "parcoords"
                      }
                    ],
                    "pie": [
                      {
                        "automargin": true,
                        "type": "pie"
                      }
                    ],
                    "scatter": [
                      {
                        "marker": {
                          "line": {
                            "color": "#283442"
                          }
                        },
                        "type": "scatter"
                      }
                    ],
                    "scatter3d": [
                      {
                        "line": {
                          "colorbar": {
                            "outlinewidth": 0,
                            "ticks": ""
                          }
                        },
                        "marker": {
                          "colorbar": {
                            "outlinewidth": 0,
                            "ticks": ""
                          }
                        },
                        "type": "scatter3d"
                      }
                    ],
                    "scattercarpet": [
                      {
                        "marker": {
                          "colorbar": {
                            "outlinewidth": 0,
                            "ticks": ""
                          }
                        },
                        "type": "scattercarpet"
                      }
                    ],
                    "scattergeo": [
                      {
                        "marker": {
                          "colorbar": {
                            "outlinewidth": 0,
                            "ticks": ""
                          }
                        },
                        "type": "scattergeo"
                      }
                    ],
                    "scattergl": [
                      {
                        "marker": {
                          "line": {
                            "color": "#283442"
                          }
                        },
                        "type": "scattergl"
                      }
                    ],
                    "scattermap": [
                      {
                        "marker": {
                          "colorbar": {
                            "outlinewidth": 0,
                            "ticks": ""
                          }
                        },
                        "type": "scattermap"
                      }
                    ],
                    "scattermapbox": [
                      {
                        "marker": {
                          "colorbar": {
                            "outlinewidth": 0,
                            "ticks": ""
                          }
                        },
                        "type": "scattermapbox"
                      }
                    ],
                    "scatterpolar": [
                      {
                        "marker": {
                          "colorbar": {
                            "outlinewidth": 0,
                            "ticks": ""
                          }
                        },
                        "type": "scatterpolar"
                      }
                    ],
                    "scatterpolargl": [
                      {
                        "marker": {
                          "colorbar": {
                            "outlinewidth": 0,
                            "ticks": ""
                          }
                        },
                        "type": "scatterpolargl"
                      }
                    ],
                    "scatterternary": [
                      {
                        "marker": {
                          "colorbar": {
                            "outlinewidth": 0,
                            "ticks": ""
                          }
                        },
                        "type": "scatterternary"
                      }
                    ],
                    "surface": [
                      {
                        "colorbar": {
                          "outlinewidth": 0,
                          "ticks": ""
                        },
                        "colorscale": [
                          [
                            0,
                            "#0d0887"
                          ],
                          [
                            0.1111111111111111,
                            "#46039f"
                          ],
                          [
                            0.2222222222222222,
                            "#7201a8"
                          ],
                          [
                            0.3333333333333333,
                            "#9c179e"
                          ],
                          [
                            0.4444444444444444,
                            "#bd3786"
                          ],
                          [
                            0.5555555555555556,
                            "#d8576b"
                          ],
                          [
                            0.6666666666666666,
                            "#ed7953"
                          ],
                          [
                            0.7777777777777778,
                            "#fb9f3a"
                          ],
                          [
                            0.8888888888888888,
                            "#fdca26"
                          ],
                          [
                            1,
                            "#f0f921"
                          ]
                        ],
                        "type": "surface"
                      }
                    ],
                    "table": [
                      {
                        "cells": {
                          "fill": {
                            "color": "#506784"
                          },
                          "line": {
                            "color": "rgb(17,17,17)"
                          }
                        },
                        "header": {
                          "fill": {
                            "color": "#2a3f5f"
                          },
                          "line": {
                            "color": "rgb(17,17,17)"
                          }
                        },
                        "type": "table"
                      }
                    ]
                  },
                  "layout": {
                    "annotationdefaults": {
                      "arrowcolor": "#f2f5fa",
                      "arrowhead": 0,
                      "arrowwidth": 1
                    },
                    "autotypenumbers": "strict",
                    "coloraxis": {
                      "colorbar": {
                        "outlinewidth": 0,
                        "ticks": ""
                      }
                    },
                    "colorscale": {
                      "diverging": [
                        [
                          0,
                          "#8e0152"
                        ],
                        [
                          0.1,
                          "#c51b7d"
                        ],
                        [
                          0.2,
                          "#de77ae"
                        ],
                        [
                          0.3,
                          "#f1b6da"
                        ],
                        [
                          0.4,
                          "#fde0ef"
                        ],
                        [
                          0.5,
                          "#f7f7f7"
                        ],
                        [
                          0.6,
                          "#e6f5d0"
                        ],
                        [
                          0.7,
                          "#b8e186"
                        ],
                        [
                          0.8,
                          "#7fbc41"
                        ],
                        [
                          0.9,
                          "#4d9221"
                        ],
                        [
                          1,
                          "#276419"
                        ]
                      ],
                      "sequential": [
                        [
                          0,
                          "#0d0887"
                        ],
                        [
                          0.1111111111111111,
                          "#46039f"
                        ],
                        [
                          0.2222222222222222,
                          "#7201a8"
                        ],
                        [
                          0.3333333333333333,
                          "#9c179e"
                        ],
                        [
                          0.4444444444444444,
                          "#bd3786"
                        ],
                        [
                          0.5555555555555556,
                          "#d8576b"
                        ],
                        [
                          0.6666666666666666,
                          "#ed7953"
                        ],
                        [
                          0.7777777777777778,
                          "#fb9f3a"
                        ],
                        [
                          0.8888888888888888,
                          "#fdca26"
                        ],
                        [
                          1,
                          "#f0f921"
                        ]
                      ],
                      "sequentialminus": [
                        [
                          0,
                          "#0d0887"
                        ],
                        [
                          0.1111111111111111,
                          "#46039f"
                        ],
                        [
                          0.2222222222222222,
                          "#7201a8"
                        ],
                        [
                          0.3333333333333333,
                          "#9c179e"
                        ],
                        [
                          0.4444444444444444,
                          "#bd3786"
                        ],
                        [
                          0.5555555555555556,
                          "#d8576b"
                        ],
                        [
                          0.6666666666666666,
                          "#ed7953"
                        ],
                        [
                          0.7777777777777778,
                          "#fb9f3a"
                        ],
                        [
                          0.8888888888888888,
                          "#fdca26"
                        ],
                        [
                          1,
                          "#f0f921"
                        ]
                      ]
                    },
                    "colorway": [
                      "#636efa",
                      "#EF553B",
                      "#00cc96",
                      "#ab63fa",
                      "#FFA15A",
                      "#19d3f3",
                      "#FF6692",
                      "#B6E880",
                      "#FF97FF",
                      "#FECB52"
                    ],
                    "font": {
                      "color": "#f2f5fa"
                    },
                    "geo": {
                      "bgcolor": "rgb(17,17,17)",
                      "lakecolor": "rgb(17,17,17)",
                      "landcolor": "rgb(17,17,17)",
                      "showlakes": true,
                      "showland": true,
                      "subunitcolor": "#506784"
                    },
                    "hoverlabel": {
                      "align": "left"
                    },
                    "hovermode": "closest",
                    "mapbox": {
                      "style": "dark"
                    },
                    "paper_bgcolor": "rgb(17,17,17)",
                    "plot_bgcolor": "rgb(17,17,17)",
                    "polar": {
                      "angularaxis": {
                        "gridcolor": "#506784",
                        "linecolor": "#506784",
                        "ticks": ""
                      },
                      "bgcolor": "rgb(17,17,17)",
                      "radialaxis": {
                        "gridcolor": "#506784",
                        "linecolor": "#506784",
                        "ticks": ""
                      }
                    },
                    "scene": {
                      "xaxis": {
                        "backgroundcolor": "rgb(17,17,17)",
                        "gridcolor": "#506784",
                        "gridwidth": 2,
                        "linecolor": "#506784",
                        "showbackground": true,
                        "ticks": "",
                        "zerolinecolor": "#C8D4E3"
                      },
                      "yaxis": {
                        "backgroundcolor": "rgb(17,17,17)",
                        "gridcolor": "#506784",
                        "gridwidth": 2,
                        "linecolor": "#506784",
                        "showbackground": true,
                        "ticks": "",
                        "zerolinecolor": "#C8D4E3"
                      },
                      "zaxis": {
                        "backgroundcolor": "rgb(17,17,17)",
                        "gridcolor": "#506784",
                        "gridwidth": 2,
                        "linecolor": "#506784",
                        "showbackground": true,
                        "ticks": "",
                        "zerolinecolor": "#C8D4E3"
                      }
                    },
                    "shapedefaults": {
                      "line": {
                        "color": "#f2f5fa"
                      }
                    },
                    "sliderdefaults": {
                      "bgcolor": "#C8D4E3",
                      "bordercolor": "rgb(17,17,17)",
                      "borderwidth": 1,
                      "tickwidth": 0
                    },
                    "ternary": {
                      "aaxis": {
                        "gridcolor": "#506784",
                        "linecolor": "#506784",
                        "ticks": ""
                      },
                      "baxis": {
                        "gridcolor": "#506784",
                        "linecolor": "#506784",
                        "ticks": ""
                      },
                      "bgcolor": "rgb(17,17,17)",
                      "caxis": {
                        "gridcolor": "#506784",
                        "linecolor": "#506784",
                        "ticks": ""
                      }
                    },
                    "title": {
                      "x": 0.05
                    },
                    "updatemenudefaults": {
                      "bgcolor": "#506784",
                      "borderwidth": 0
                    },
                    "xaxis": {
                      "automargin": true,
                      "gridcolor": "#283442",
                      "linecolor": "#506784",
                      "ticks": "",
                      "title": {
                        "standoff": 15
                      },
                      "zerolinecolor": "#283442",
                      "zerolinewidth": 2
                    },
                    "yaxis": {
                      "automargin": true,
                      "gridcolor": "#283442",
                      "linecolor": "#506784",
                      "ticks": "",
                      "title": {
                        "standoff": 15
                      },
                      "zerolinecolor": "#283442",
                      "zerolinewidth": 2
                    }
                  }
                },
                "title": {
                  "text": "Percent Poverty By State"
                },
                "xaxis": {
                  "anchor": "y",
                  "categoryarray": [
                    "NJ",
                    "CT",
                    "MA",
                    "WY",
                    "MD",
                    "RI",
                    "NY",
                    "UT",
                    "ND",
                    "IA",
                    "NV",
                    "PA",
                    "DE",
                    "NH",
                    "WI",
                    "NE",
                    "CO",
                    "HI",
                    "MN",
                    "VT",
                    "IL",
                    "VA",
                    "KS",
                    "OH",
                    "WA",
                    "IN",
                    "SD",
                    "MT",
                    "OR",
                    "ME",
                    "CA",
                    "FL",
                    "MI",
                    "DC",
                    "ID",
                    "NC",
                    "AK",
                    "TN",
                    "TX",
                    "KY",
                    "MO",
                    "AL",
                    "OK",
                    "WV",
                    "SC",
                    "LA",
                    "AR",
                    "NM",
                    "GA",
                    "AZ",
                    "MS"
                  ],
                  "categoryorder": "array",
                  "domain": [
                    0,
                    1
                  ],
                  "title": {
                    "text": "Geographic Area"
                  }
                },
                "yaxis": {
                  "anchor": "x",
                  "domain": [
                    0,
                    1
                  ],
                  "title": {
                    "text": "Pct Pov"
                  }
                }
              }
            }
          },
          "metadata": {},
          "output_type": "display_data"
        }
      ],
      "source": [
        "df_pct_poverty['poverty_rate'] = pd.to_numeric(df_pct_poverty['poverty_rate'],errors='coerce')\n",
        "\n",
        "df_pov_state = df_pct_poverty.copy()\n",
        "df_pov_state = df_pov_state.groupby('Geographic Area')['poverty_rate'].mean().sort_values().reset_index()\n",
        "\n",
        "fig = px.bar(df_pov_state,x='Geographic Area',y='poverty_rate',title='Percent Poverty By State',color='Geographic Area',labels={'poverty_rate':'Pct Pov'})\n",
        "fig.layout.template = 'plotly_dark'\n",
        "fig.show()"
      ]
    },
    {
      "cell_type": "markdown",
      "metadata": {
        "id": "GhUibVz5z4sn"
      },
      "source": [
        "# Chart the High School Graduation Rate by US State\n",
        "\n",
        "Show the High School Graduation Rate in ascending order of US States. Which state has the lowest high school graduation rate? Which state has the highest?"
      ]
    },
    {
      "cell_type": "code",
      "execution_count": 63,
      "metadata": {
        "id": "laD6W9eG0JFR"
      },
      "outputs": [
        {
          "data": {
            "application/vnd.microsoft.datawrangler.viewer.v0+json": {
              "columns": [
                {
                  "name": "index",
                  "rawType": "int64",
                  "type": "integer"
                },
                {
                  "name": "Geographic Area",
                  "rawType": "object",
                  "type": "string"
                },
                {
                  "name": "City",
                  "rawType": "object",
                  "type": "string"
                },
                {
                  "name": "percent_completed_hs",
                  "rawType": "object",
                  "type": "string"
                }
              ],
              "conversionMethod": "pd.DataFrame",
              "ref": "394caeb3-55e6-49a8-8ee3-454e4b51de7a",
              "rows": [
                [
                  "0",
                  "AL",
                  "Abanda CDP",
                  "21.2"
                ],
                [
                  "1",
                  "AL",
                  "Abbeville city",
                  "69.1"
                ],
                [
                  "2",
                  "AL",
                  "Adamsville city",
                  "78.9"
                ],
                [
                  "3",
                  "AL",
                  "Addison town",
                  "81.4"
                ],
                [
                  "4",
                  "AL",
                  "Akron town",
                  "68.6"
                ]
              ],
              "shape": {
                "columns": 3,
                "rows": 5
              }
            },
            "text/html": [
              "<div>\n",
              "<style scoped>\n",
              "    .dataframe tbody tr th:only-of-type {\n",
              "        vertical-align: middle;\n",
              "    }\n",
              "\n",
              "    .dataframe tbody tr th {\n",
              "        vertical-align: top;\n",
              "    }\n",
              "\n",
              "    .dataframe thead th {\n",
              "        text-align: right;\n",
              "    }\n",
              "</style>\n",
              "<table border=\"1\" class=\"dataframe\">\n",
              "  <thead>\n",
              "    <tr style=\"text-align: right;\">\n",
              "      <th></th>\n",
              "      <th>Geographic Area</th>\n",
              "      <th>City</th>\n",
              "      <th>percent_completed_hs</th>\n",
              "    </tr>\n",
              "  </thead>\n",
              "  <tbody>\n",
              "    <tr>\n",
              "      <th>0</th>\n",
              "      <td>AL</td>\n",
              "      <td>Abanda CDP</td>\n",
              "      <td>21.2</td>\n",
              "    </tr>\n",
              "    <tr>\n",
              "      <th>1</th>\n",
              "      <td>AL</td>\n",
              "      <td>Abbeville city</td>\n",
              "      <td>69.1</td>\n",
              "    </tr>\n",
              "    <tr>\n",
              "      <th>2</th>\n",
              "      <td>AL</td>\n",
              "      <td>Adamsville city</td>\n",
              "      <td>78.9</td>\n",
              "    </tr>\n",
              "    <tr>\n",
              "      <th>3</th>\n",
              "      <td>AL</td>\n",
              "      <td>Addison town</td>\n",
              "      <td>81.4</td>\n",
              "    </tr>\n",
              "    <tr>\n",
              "      <th>4</th>\n",
              "      <td>AL</td>\n",
              "      <td>Akron town</td>\n",
              "      <td>68.6</td>\n",
              "    </tr>\n",
              "  </tbody>\n",
              "</table>\n",
              "</div>"
            ],
            "text/plain": [
              "  Geographic Area             City percent_completed_hs\n",
              "0              AL       Abanda CDP                 21.2\n",
              "1              AL   Abbeville city                 69.1\n",
              "2              AL  Adamsville city                 78.9\n",
              "3              AL     Addison town                 81.4\n",
              "4              AL       Akron town                 68.6"
            ]
          },
          "execution_count": 63,
          "metadata": {},
          "output_type": "execute_result"
        }
      ],
      "source": [
        "df_pct_completed_hs.head()\n"
      ]
    },
    {
      "cell_type": "code",
      "execution_count": 64,
      "metadata": {},
      "outputs": [
        {
          "data": {
            "application/vnd.plotly.v1+json": {
              "config": {
                "plotlyServerURL": "https://plot.ly"
              },
              "data": [
                {
                  "hovertemplate": "Geographic Area=%{x}<br>Graduation Pct=%{y}<extra></extra>",
                  "legendgroup": "TX",
                  "marker": {
                    "color": "#636efa",
                    "pattern": {
                      "shape": ""
                    }
                  },
                  "name": "TX",
                  "orientation": "v",
                  "showlegend": true,
                  "textposition": "auto",
                  "type": "bar",
                  "x": [
                    "TX"
                  ],
                  "xaxis": "x",
                  "y": {
                    "bdata": "XI/C9SjsUkA=",
                    "dtype": "f8"
                  },
                  "yaxis": "y"
                },
                {
                  "hovertemplate": "Geographic Area=%{x}<br>Graduation Pct=%{y}<extra></extra>",
                  "legendgroup": "MS",
                  "marker": {
                    "color": "#EF553B",
                    "pattern": {
                      "shape": ""
                    }
                  },
                  "name": "MS",
                  "orientation": "v",
                  "showlegend": true,
                  "textposition": "auto",
                  "type": "bar",
                  "x": [
                    "MS"
                  ],
                  "xaxis": "x",
                  "y": {
                    "bdata": "sRBdPyCeU0A=",
                    "dtype": "f8"
                  },
                  "yaxis": "y"
                },
                {
                  "hovertemplate": "Geographic Area=%{x}<br>Graduation Pct=%{y}<extra></extra>",
                  "legendgroup": "GA",
                  "marker": {
                    "color": "#00cc96",
                    "pattern": {
                      "shape": ""
                    }
                  },
                  "name": "GA",
                  "orientation": "v",
                  "showlegend": true,
                  "textposition": "auto",
                  "type": "bar",
                  "x": [
                    "GA"
                  ],
                  "xaxis": "x",
                  "y": {
                    "bdata": "zczMzMzAU0A=",
                    "dtype": "f8"
                  },
                  "yaxis": "y"
                },
                {
                  "hovertemplate": "Geographic Area=%{x}<br>Graduation Pct=%{y}<extra></extra>",
                  "legendgroup": "LA",
                  "marker": {
                    "color": "#ab63fa",
                    "pattern": {
                      "shape": ""
                    }
                  },
                  "name": "LA",
                  "orientation": "v",
                  "showlegend": true,
                  "textposition": "auto",
                  "type": "bar",
                  "x": [
                    "LA"
                  ],
                  "xaxis": "x",
                  "y": {
                    "bdata": "r4WxeInSU0A=",
                    "dtype": "f8"
                  },
                  "yaxis": "y"
                },
                {
                  "hovertemplate": "Geographic Area=%{x}<br>Graduation Pct=%{y}<extra></extra>",
                  "legendgroup": "AR",
                  "marker": {
                    "color": "#FFA15A",
                    "pattern": {
                      "shape": ""
                    }
                  },
                  "name": "AR",
                  "orientation": "v",
                  "showlegend": true,
                  "textposition": "auto",
                  "type": "bar",
                  "x": [
                    "AR"
                  ],
                  "xaxis": "x",
                  "y": {
                    "bdata": "cfaUOsX8U0A=",
                    "dtype": "f8"
                  },
                  "yaxis": "y"
                },
                {
                  "hovertemplate": "Geographic Area=%{x}<br>Graduation Pct=%{y}<extra></extra>",
                  "legendgroup": "AL",
                  "marker": {
                    "color": "#19d3f3",
                    "pattern": {
                      "shape": ""
                    }
                  },
                  "name": "AL",
                  "orientation": "v",
                  "showlegend": true,
                  "textposition": "auto",
                  "type": "bar",
                  "x": [
                    "AL"
                  ],
                  "xaxis": "x",
                  "y": {
                    "bdata": "NM4CbD4TVEA=",
                    "dtype": "f8"
                  },
                  "yaxis": "y"
                },
                {
                  "hovertemplate": "Geographic Area=%{x}<br>Graduation Pct=%{y}<extra></extra>",
                  "legendgroup": "AZ",
                  "marker": {
                    "color": "#FF6692",
                    "pattern": {
                      "shape": ""
                    }
                  },
                  "name": "AZ",
                  "orientation": "v",
                  "showlegend": true,
                  "textposition": "auto",
                  "type": "bar",
                  "x": [
                    "AZ"
                  ],
                  "xaxis": "x",
                  "y": {
                    "bdata": "31oxP+UdVEA=",
                    "dtype": "f8"
                  },
                  "yaxis": "y"
                },
                {
                  "hovertemplate": "Geographic Area=%{x}<br>Graduation Pct=%{y}<extra></extra>",
                  "legendgroup": "SC",
                  "marker": {
                    "color": "#B6E880",
                    "pattern": {
                      "shape": ""
                    }
                  },
                  "name": "SC",
                  "orientation": "v",
                  "showlegend": true,
                  "textposition": "auto",
                  "type": "bar",
                  "x": [
                    "SC"
                  ],
                  "xaxis": "x",
                  "y": {
                    "bdata": "o7Z5U2Q2VEA=",
                    "dtype": "f8"
                  },
                  "yaxis": "y"
                },
                {
                  "hovertemplate": "Geographic Area=%{x}<br>Graduation Pct=%{y}<extra></extra>",
                  "legendgroup": "NM",
                  "marker": {
                    "color": "#FF97FF",
                    "pattern": {
                      "shape": ""
                    }
                  },
                  "name": "NM",
                  "orientation": "v",
                  "showlegend": true,
                  "textposition": "auto",
                  "type": "bar",
                  "x": [
                    "NM"
                  ],
                  "xaxis": "x",
                  "y": {
                    "bdata": "juM4juM+VEA=",
                    "dtype": "f8"
                  },
                  "yaxis": "y"
                },
                {
                  "hovertemplate": "Geographic Area=%{x}<br>Graduation Pct=%{y}<extra></extra>",
                  "legendgroup": "TN",
                  "marker": {
                    "color": "#FECB52",
                    "pattern": {
                      "shape": ""
                    }
                  },
                  "name": "TN",
                  "orientation": "v",
                  "showlegend": true,
                  "textposition": "auto",
                  "type": "bar",
                  "x": [
                    "TN"
                  ],
                  "xaxis": "x",
                  "y": {
                    "bdata": "6R+e+GRoVEA=",
                    "dtype": "f8"
                  },
                  "yaxis": "y"
                },
                {
                  "hovertemplate": "Geographic Area=%{x}<br>Graduation Pct=%{y}<extra></extra>",
                  "legendgroup": "CA",
                  "marker": {
                    "color": "#636efa",
                    "pattern": {
                      "shape": ""
                    }
                  },
                  "name": "CA",
                  "orientation": "v",
                  "showlegend": true,
                  "textposition": "auto",
                  "type": "bar",
                  "x": [
                    "CA"
                  ],
                  "xaxis": "x",
                  "y": {
                    "bdata": "rE2rwiV9VEA=",
                    "dtype": "f8"
                  },
                  "yaxis": "y"
                },
                {
                  "hovertemplate": "Geographic Area=%{x}<br>Graduation Pct=%{y}<extra></extra>",
                  "legendgroup": "WV",
                  "marker": {
                    "color": "#EF553B",
                    "pattern": {
                      "shape": ""
                    }
                  },
                  "name": "WV",
                  "orientation": "v",
                  "showlegend": true,
                  "textposition": "auto",
                  "type": "bar",
                  "x": [
                    "WV"
                  ],
                  "xaxis": "x",
                  "y": {
                    "bdata": "29CEShWWVEA=",
                    "dtype": "f8"
                  },
                  "yaxis": "y"
                },
                {
                  "hovertemplate": "Geographic Area=%{x}<br>Graduation Pct=%{y}<extra></extra>",
                  "legendgroup": "KY",
                  "marker": {
                    "color": "#00cc96",
                    "pattern": {
                      "shape": ""
                    }
                  },
                  "name": "KY",
                  "orientation": "v",
                  "showlegend": true,
                  "textposition": "auto",
                  "type": "bar",
                  "x": [
                    "KY"
                  ],
                  "xaxis": "x",
                  "y": {
                    "bdata": "wd4xNbCXVEA=",
                    "dtype": "f8"
                  },
                  "yaxis": "y"
                },
                {
                  "hovertemplate": "Geographic Area=%{x}<br>Graduation Pct=%{y}<extra></extra>",
                  "legendgroup": "OK",
                  "marker": {
                    "color": "#ab63fa",
                    "pattern": {
                      "shape": ""
                    }
                  },
                  "name": "OK",
                  "orientation": "v",
                  "showlegend": true,
                  "textposition": "auto",
                  "type": "bar",
                  "x": [
                    "OK"
                  ],
                  "xaxis": "x",
                  "y": {
                    "bdata": "GFBEOjm6VEA=",
                    "dtype": "f8"
                  },
                  "yaxis": "y"
                },
                {
                  "hovertemplate": "Geographic Area=%{x}<br>Graduation Pct=%{y}<extra></extra>",
                  "legendgroup": "NC",
                  "marker": {
                    "color": "#FFA15A",
                    "pattern": {
                      "shape": ""
                    }
                  },
                  "name": "NC",
                  "orientation": "v",
                  "showlegend": true,
                  "textposition": "auto",
                  "type": "bar",
                  "x": [
                    "NC"
                  ],
                  "xaxis": "x",
                  "y": {
                    "bdata": "lRyqHvfPVEA=",
                    "dtype": "f8"
                  },
                  "yaxis": "y"
                },
                {
                  "hovertemplate": "Geographic Area=%{x}<br>Graduation Pct=%{y}<extra></extra>",
                  "legendgroup": "MO",
                  "marker": {
                    "color": "#19d3f3",
                    "pattern": {
                      "shape": ""
                    }
                  },
                  "name": "MO",
                  "orientation": "v",
                  "showlegend": true,
                  "textposition": "auto",
                  "type": "bar",
                  "x": [
                    "MO"
                  ],
                  "xaxis": "x",
                  "y": {
                    "bdata": "zczMzGzhVEA=",
                    "dtype": "f8"
                  },
                  "yaxis": "y"
                },
                {
                  "hovertemplate": "Geographic Area=%{x}<br>Graduation Pct=%{y}<extra></extra>",
                  "legendgroup": "AK",
                  "marker": {
                    "color": "#FF6692",
                    "pattern": {
                      "shape": ""
                    }
                  },
                  "name": "AK",
                  "orientation": "v",
                  "showlegend": true,
                  "textposition": "auto",
                  "type": "bar",
                  "x": [
                    "AK"
                  ],
                  "xaxis": "x",
                  "y": {
                    "bdata": "AidwAicoVUA=",
                    "dtype": "f8"
                  },
                  "yaxis": "y"
                },
                {
                  "hovertemplate": "Geographic Area=%{x}<br>Graduation Pct=%{y}<extra></extra>",
                  "legendgroup": "VA",
                  "marker": {
                    "color": "#B6E880",
                    "pattern": {
                      "shape": ""
                    }
                  },
                  "name": "VA",
                  "orientation": "v",
                  "showlegend": true,
                  "textposition": "auto",
                  "type": "bar",
                  "x": [
                    "VA"
                  ],
                  "xaxis": "x",
                  "y": {
                    "bdata": "cDw0V1Y4VUA=",
                    "dtype": "f8"
                  },
                  "yaxis": "y"
                },
                {
                  "hovertemplate": "Geographic Area=%{x}<br>Graduation Pct=%{y}<extra></extra>",
                  "legendgroup": "ID",
                  "marker": {
                    "color": "#FF97FF",
                    "pattern": {
                      "shape": ""
                    }
                  },
                  "name": "ID",
                  "orientation": "v",
                  "showlegend": true,
                  "textposition": "auto",
                  "type": "bar",
                  "x": [
                    "ID"
                  ],
                  "xaxis": "x",
                  "y": {
                    "bdata": "l24Sg8BKVUA=",
                    "dtype": "f8"
                  },
                  "yaxis": "y"
                },
                {
                  "hovertemplate": "Geographic Area=%{x}<br>Graduation Pct=%{y}<extra></extra>",
                  "legendgroup": "FL",
                  "marker": {
                    "color": "#FECB52",
                    "pattern": {
                      "shape": ""
                    }
                  },
                  "name": "FL",
                  "orientation": "v",
                  "showlegend": true,
                  "textposition": "auto",
                  "type": "bar",
                  "x": [
                    "FL"
                  ],
                  "xaxis": "x",
                  "y": {
                    "bdata": "dBgVWThvVUA=",
                    "dtype": "f8"
                  },
                  "yaxis": "y"
                },
                {
                  "hovertemplate": "Geographic Area=%{x}<br>Graduation Pct=%{y}<extra></extra>",
                  "legendgroup": "IN",
                  "marker": {
                    "color": "#636efa",
                    "pattern": {
                      "shape": ""
                    }
                  },
                  "name": "IN",
                  "orientation": "v",
                  "showlegend": true,
                  "textposition": "auto",
                  "type": "bar",
                  "x": [
                    "IN"
                  ],
                  "xaxis": "x",
                  "y": {
                    "bdata": "CKI71W6UVUA=",
                    "dtype": "f8"
                  },
                  "yaxis": "y"
                },
                {
                  "hovertemplate": "Geographic Area=%{x}<br>Graduation Pct=%{y}<extra></extra>",
                  "legendgroup": "NV",
                  "marker": {
                    "color": "#EF553B",
                    "pattern": {
                      "shape": ""
                    }
                  },
                  "name": "NV",
                  "orientation": "v",
                  "showlegend": true,
                  "textposition": "auto",
                  "type": "bar",
                  "x": [
                    "NV"
                  ],
                  "xaxis": "x",
                  "y": {
                    "bdata": "3ciN3MjtVUA=",
                    "dtype": "f8"
                  },
                  "yaxis": "y"
                },
                {
                  "hovertemplate": "Geographic Area=%{x}<br>Graduation Pct=%{y}<extra></extra>",
                  "legendgroup": "SD",
                  "marker": {
                    "color": "#00cc96",
                    "pattern": {
                      "shape": ""
                    }
                  },
                  "name": "SD",
                  "orientation": "v",
                  "showlegend": true,
                  "textposition": "auto",
                  "type": "bar",
                  "x": [
                    "SD"
                  ],
                  "xaxis": "x",
                  "y": {
                    "bdata": "AAAAAEDwVUA=",
                    "dtype": "f8"
                  },
                  "yaxis": "y"
                },
                {
                  "hovertemplate": "Geographic Area=%{x}<br>Graduation Pct=%{y}<extra></extra>",
                  "legendgroup": "ND",
                  "marker": {
                    "color": "#ab63fa",
                    "pattern": {
                      "shape": ""
                    }
                  },
                  "name": "ND",
                  "orientation": "v",
                  "showlegend": true,
                  "textposition": "auto",
                  "type": "bar",
                  "x": [
                    "ND"
                  ],
                  "xaxis": "x",
                  "y": {
                    "bdata": "GARWDi30VUA=",
                    "dtype": "f8"
                  },
                  "yaxis": "y"
                },
                {
                  "hovertemplate": "Geographic Area=%{x}<br>Graduation Pct=%{y}<extra></extra>",
                  "legendgroup": "WA",
                  "marker": {
                    "color": "#FFA15A",
                    "pattern": {
                      "shape": ""
                    }
                  },
                  "name": "WA",
                  "orientation": "v",
                  "showlegend": true,
                  "textposition": "auto",
                  "type": "bar",
                  "x": [
                    "WA"
                  ],
                  "xaxis": "x",
                  "y": {
                    "bdata": "Pp3lGKUMVkA=",
                    "dtype": "f8"
                  },
                  "yaxis": "y"
                },
                {
                  "hovertemplate": "Geographic Area=%{x}<br>Graduation Pct=%{y}<extra></extra>",
                  "legendgroup": "KS",
                  "marker": {
                    "color": "#19d3f3",
                    "pattern": {
                      "shape": ""
                    }
                  },
                  "name": "KS",
                  "orientation": "v",
                  "showlegend": true,
                  "textposition": "auto",
                  "type": "bar",
                  "x": [
                    "KS"
                  ],
                  "xaxis": "x",
                  "y": {
                    "bdata": "8nD3p78OVkA=",
                    "dtype": "f8"
                  },
                  "yaxis": "y"
                },
                {
                  "hovertemplate": "Geographic Area=%{x}<br>Graduation Pct=%{y}<extra></extra>",
                  "legendgroup": "OR",
                  "marker": {
                    "color": "#FF6692",
                    "pattern": {
                      "shape": ""
                    }
                  },
                  "name": "OR",
                  "orientation": "v",
                  "showlegend": true,
                  "textposition": "auto",
                  "type": "bar",
                  "x": [
                    "OR"
                  ],
                  "xaxis": "x",
                  "y": {
                    "bdata": "xNo3rH0TVkA=",
                    "dtype": "f8"
                  },
                  "yaxis": "y"
                },
                {
                  "hovertemplate": "Geographic Area=%{x}<br>Graduation Pct=%{y}<extra></extra>",
                  "legendgroup": "OH",
                  "marker": {
                    "color": "#B6E880",
                    "pattern": {
                      "shape": ""
                    }
                  },
                  "name": "OH",
                  "orientation": "v",
                  "showlegend": true,
                  "textposition": "auto",
                  "type": "bar",
                  "x": [
                    "OH"
                  ],
                  "xaxis": "x",
                  "y": {
                    "bdata": "5pbZ7Q0WVkA=",
                    "dtype": "f8"
                  },
                  "yaxis": "y"
                },
                {
                  "hovertemplate": "Geographic Area=%{x}<br>Graduation Pct=%{y}<extra></extra>",
                  "legendgroup": "MD",
                  "marker": {
                    "color": "#FF97FF",
                    "pattern": {
                      "shape": ""
                    }
                  },
                  "name": "MD",
                  "orientation": "v",
                  "showlegend": true,
                  "textposition": "auto",
                  "type": "bar",
                  "x": [
                    "MD"
                  ],
                  "xaxis": "x",
                  "y": {
                    "bdata": "n7An7AkbVkA=",
                    "dtype": "f8"
                  },
                  "yaxis": "y"
                },
                {
                  "hovertemplate": "Geographic Area=%{x}<br>Graduation Pct=%{y}<extra></extra>",
                  "legendgroup": "IL",
                  "marker": {
                    "color": "#FECB52",
                    "pattern": {
                      "shape": ""
                    }
                  },
                  "name": "IL",
                  "orientation": "v",
                  "showlegend": true,
                  "textposition": "auto",
                  "type": "bar",
                  "x": [
                    "IL"
                  ],
                  "xaxis": "x",
                  "y": {
                    "bdata": "VYrYu/AeVkA=",
                    "dtype": "f8"
                  },
                  "yaxis": "y"
                },
                {
                  "hovertemplate": "Geographic Area=%{x}<br>Graduation Pct=%{y}<extra></extra>",
                  "legendgroup": "DE",
                  "marker": {
                    "color": "#636efa",
                    "pattern": {
                      "shape": ""
                    }
                  },
                  "name": "DE",
                  "orientation": "v",
                  "showlegend": true,
                  "textposition": "auto",
                  "type": "bar",
                  "x": [
                    "DE"
                  ],
                  "xaxis": "x",
                  "y": {
                    "bdata": "/YQ4Kz8hVkA=",
                    "dtype": "f8"
                  },
                  "yaxis": "y"
                },
                {
                  "hovertemplate": "Geographic Area=%{x}<br>Graduation Pct=%{y}<extra></extra>",
                  "legendgroup": "RI",
                  "marker": {
                    "color": "#EF553B",
                    "pattern": {
                      "shape": ""
                    }
                  },
                  "name": "RI",
                  "orientation": "v",
                  "showlegend": true,
                  "textposition": "auto",
                  "type": "bar",
                  "x": [
                    "RI"
                  ],
                  "xaxis": "x",
                  "y": {
                    "bdata": "zMzMzMw0VkA=",
                    "dtype": "f8"
                  },
                  "yaxis": "y"
                },
                {
                  "hovertemplate": "Geographic Area=%{x}<br>Graduation Pct=%{y}<extra></extra>",
                  "legendgroup": "PA",
                  "marker": {
                    "color": "#00cc96",
                    "pattern": {
                      "shape": ""
                    }
                  },
                  "name": "PA",
                  "orientation": "v",
                  "showlegend": true,
                  "textposition": "auto",
                  "type": "bar",
                  "x": [
                    "PA"
                  ],
                  "xaxis": "x",
                  "y": {
                    "bdata": "IqYWUX9BVkA=",
                    "dtype": "f8"
                  },
                  "yaxis": "y"
                },
                {
                  "hovertemplate": "Geographic Area=%{x}<br>Graduation Pct=%{y}<extra></extra>",
                  "legendgroup": "MI",
                  "marker": {
                    "color": "#ab63fa",
                    "pattern": {
                      "shape": ""
                    }
                  },
                  "name": "MI",
                  "orientation": "v",
                  "showlegend": true,
                  "textposition": "auto",
                  "type": "bar",
                  "x": [
                    "MI"
                  ],
                  "xaxis": "x",
                  "y": {
                    "bdata": "2/vNSEpNVkA=",
                    "dtype": "f8"
                  },
                  "yaxis": "y"
                },
                {
                  "hovertemplate": "Geographic Area=%{x}<br>Graduation Pct=%{y}<extra></extra>",
                  "legendgroup": "DC",
                  "marker": {
                    "color": "#FFA15A",
                    "pattern": {
                      "shape": ""
                    }
                  },
                  "name": "DC",
                  "orientation": "v",
                  "showlegend": true,
                  "textposition": "auto",
                  "type": "bar",
                  "x": [
                    "DC"
                  ],
                  "xaxis": "x",
                  "y": {
                    "bdata": "MzMzMzNTVkA=",
                    "dtype": "f8"
                  },
                  "yaxis": "y"
                },
                {
                  "hovertemplate": "Geographic Area=%{x}<br>Graduation Pct=%{y}<extra></extra>",
                  "legendgroup": "MN",
                  "marker": {
                    "color": "#19d3f3",
                    "pattern": {
                      "shape": ""
                    }
                  },
                  "name": "MN",
                  "orientation": "v",
                  "showlegend": true,
                  "textposition": "auto",
                  "type": "bar",
                  "x": [
                    "MN"
                  ],
                  "xaxis": "x",
                  "y": {
                    "bdata": "TQEDuctdVkA=",
                    "dtype": "f8"
                  },
                  "yaxis": "y"
                },
                {
                  "hovertemplate": "Geographic Area=%{x}<br>Graduation Pct=%{y}<extra></extra>",
                  "legendgroup": "VT",
                  "marker": {
                    "color": "#FF6692",
                    "pattern": {
                      "shape": ""
                    }
                  },
                  "name": "VT",
                  "orientation": "v",
                  "showlegend": true,
                  "textposition": "auto",
                  "type": "bar",
                  "x": [
                    "VT"
                  ],
                  "xaxis": "x",
                  "y": {
                    "bdata": "OcK53YR+VkA=",
                    "dtype": "f8"
                  },
                  "yaxis": "y"
                },
                {
                  "hovertemplate": "Geographic Area=%{x}<br>Graduation Pct=%{y}<extra></extra>",
                  "legendgroup": "NE",
                  "marker": {
                    "color": "#B6E880",
                    "pattern": {
                      "shape": ""
                    }
                  },
                  "name": "NE",
                  "orientation": "v",
                  "showlegend": true,
                  "textposition": "auto",
                  "type": "bar",
                  "x": [
                    "NE"
                  ],
                  "xaxis": "x",
                  "y": {
                    "bdata": "KmHlOzl/VkA=",
                    "dtype": "f8"
                  },
                  "yaxis": "y"
                },
                {
                  "hovertemplate": "Geographic Area=%{x}<br>Graduation Pct=%{y}<extra></extra>",
                  "legendgroup": "CO",
                  "marker": {
                    "color": "#FF97FF",
                    "pattern": {
                      "shape": ""
                    }
                  },
                  "name": "CO",
                  "orientation": "v",
                  "showlegend": true,
                  "textposition": "auto",
                  "type": "bar",
                  "x": [
                    "CO"
                  ],
                  "xaxis": "x",
                  "y": {
                    "bdata": "Mm2zJNOGVkA=",
                    "dtype": "f8"
                  },
                  "yaxis": "y"
                },
                {
                  "hovertemplate": "Geographic Area=%{x}<br>Graduation Pct=%{y}<extra></extra>",
                  "legendgroup": "IA",
                  "marker": {
                    "color": "#FECB52",
                    "pattern": {
                      "shape": ""
                    }
                  },
                  "name": "IA",
                  "orientation": "v",
                  "showlegend": true,
                  "textposition": "auto",
                  "type": "bar",
                  "x": [
                    "IA"
                  ],
                  "xaxis": "x",
                  "y": {
                    "bdata": "BEUIUi+HVkA=",
                    "dtype": "f8"
                  },
                  "yaxis": "y"
                },
                {
                  "hovertemplate": "Geographic Area=%{x}<br>Graduation Pct=%{y}<extra></extra>",
                  "legendgroup": "WI",
                  "marker": {
                    "color": "#636efa",
                    "pattern": {
                      "shape": ""
                    }
                  },
                  "name": "WI",
                  "orientation": "v",
                  "showlegend": true,
                  "textposition": "auto",
                  "type": "bar",
                  "x": [
                    "WI"
                  ],
                  "xaxis": "x",
                  "y": {
                    "bdata": "DyMcyeSQVkA=",
                    "dtype": "f8"
                  },
                  "yaxis": "y"
                },
                {
                  "hovertemplate": "Geographic Area=%{x}<br>Graduation Pct=%{y}<extra></extra>",
                  "legendgroup": "MT",
                  "marker": {
                    "color": "#EF553B",
                    "pattern": {
                      "shape": ""
                    }
                  },
                  "name": "MT",
                  "orientation": "v",
                  "showlegend": true,
                  "textposition": "auto",
                  "type": "bar",
                  "x": [
                    "MT"
                  ],
                  "xaxis": "x",
                  "y": {
                    "bdata": "HeHcbkKfVkA=",
                    "dtype": "f8"
                  },
                  "yaxis": "y"
                },
                {
                  "hovertemplate": "Geographic Area=%{x}<br>Graduation Pct=%{y}<extra></extra>",
                  "legendgroup": "NY",
                  "marker": {
                    "color": "#00cc96",
                    "pattern": {
                      "shape": ""
                    }
                  },
                  "name": "NY",
                  "orientation": "v",
                  "showlegend": true,
                  "textposition": "auto",
                  "type": "bar",
                  "x": [
                    "NY"
                  ],
                  "xaxis": "x",
                  "y": {
                    "bdata": "GHVlQEenVkA=",
                    "dtype": "f8"
                  },
                  "yaxis": "y"
                },
                {
                  "hovertemplate": "Geographic Area=%{x}<br>Graduation Pct=%{y}<extra></extra>",
                  "legendgroup": "NH",
                  "marker": {
                    "color": "#ab63fa",
                    "pattern": {
                      "shape": ""
                    }
                  },
                  "name": "NH",
                  "orientation": "v",
                  "showlegend": true,
                  "textposition": "auto",
                  "type": "bar",
                  "x": [
                    "NH"
                  ],
                  "xaxis": "x",
                  "y": {
                    "bdata": "Z3kSmYatVkA=",
                    "dtype": "f8"
                  },
                  "yaxis": "y"
                },
                {
                  "hovertemplate": "Geographic Area=%{x}<br>Graduation Pct=%{y}<extra></extra>",
                  "legendgroup": "NJ",
                  "marker": {
                    "color": "#FFA15A",
                    "pattern": {
                      "shape": ""
                    }
                  },
                  "name": "NJ",
                  "orientation": "v",
                  "showlegend": true,
                  "textposition": "auto",
                  "type": "bar",
                  "x": [
                    "NJ"
                  ],
                  "xaxis": "x",
                  "y": {
                    "bdata": "EViuRae2VkA=",
                    "dtype": "f8"
                  },
                  "yaxis": "y"
                },
                {
                  "hovertemplate": "Geographic Area=%{x}<br>Graduation Pct=%{y}<extra></extra>",
                  "legendgroup": "ME",
                  "marker": {
                    "color": "#19d3f3",
                    "pattern": {
                      "shape": ""
                    }
                  },
                  "name": "ME",
                  "orientation": "v",
                  "showlegend": true,
                  "textposition": "auto",
                  "type": "bar",
                  "x": [
                    "ME"
                  ],
                  "xaxis": "x",
                  "y": {
                    "bdata": "uZEbuZHbVkA=",
                    "dtype": "f8"
                  },
                  "yaxis": "y"
                },
                {
                  "hovertemplate": "Geographic Area=%{x}<br>Graduation Pct=%{y}<extra></extra>",
                  "legendgroup": "CT",
                  "marker": {
                    "color": "#FF6692",
                    "pattern": {
                      "shape": ""
                    }
                  },
                  "name": "CT",
                  "orientation": "v",
                  "showlegend": true,
                  "textposition": "auto",
                  "type": "bar",
                  "x": [
                    "CT"
                  ],
                  "xaxis": "x",
                  "y": {
                    "bdata": "3t3d3d3lVkA=",
                    "dtype": "f8"
                  },
                  "yaxis": "y"
                },
                {
                  "hovertemplate": "Geographic Area=%{x}<br>Graduation Pct=%{y}<extra></extra>",
                  "legendgroup": "UT",
                  "marker": {
                    "color": "#B6E880",
                    "pattern": {
                      "shape": ""
                    }
                  },
                  "name": "UT",
                  "orientation": "v",
                  "showlegend": true,
                  "textposition": "auto",
                  "type": "bar",
                  "x": [
                    "UT"
                  ],
                  "xaxis": "x",
                  "y": {
                    "bdata": "+xxSE4znVkA=",
                    "dtype": "f8"
                  },
                  "yaxis": "y"
                },
                {
                  "hovertemplate": "Geographic Area=%{x}<br>Graduation Pct=%{y}<extra></extra>",
                  "legendgroup": "HI",
                  "marker": {
                    "color": "#FF97FF",
                    "pattern": {
                      "shape": ""
                    }
                  },
                  "name": "HI",
                  "orientation": "v",
                  "showlegend": true,
                  "textposition": "auto",
                  "type": "bar",
                  "x": [
                    "HI"
                  ],
                  "xaxis": "x",
                  "y": {
                    "bdata": "YioxlZjqVkA=",
                    "dtype": "f8"
                  },
                  "yaxis": "y"
                },
                {
                  "hovertemplate": "Geographic Area=%{x}<br>Graduation Pct=%{y}<extra></extra>",
                  "legendgroup": "WY",
                  "marker": {
                    "color": "#FECB52",
                    "pattern": {
                      "shape": ""
                    }
                  },
                  "name": "WY",
                  "orientation": "v",
                  "showlegend": true,
                  "textposition": "auto",
                  "type": "bar",
                  "x": [
                    "WY"
                  ],
                  "xaxis": "x",
                  "y": {
                    "bdata": "V/NmNW8GV0A=",
                    "dtype": "f8"
                  },
                  "yaxis": "y"
                },
                {
                  "hovertemplate": "Geographic Area=%{x}<br>Graduation Pct=%{y}<extra></extra>",
                  "legendgroup": "MA",
                  "marker": {
                    "color": "#636efa",
                    "pattern": {
                      "shape": ""
                    }
                  },
                  "name": "MA",
                  "orientation": "v",
                  "showlegend": true,
                  "textposition": "auto",
                  "type": "bar",
                  "x": [
                    "MA"
                  ],
                  "xaxis": "x",
                  "y": {
                    "bdata": "MEo1edwZV0A=",
                    "dtype": "f8"
                  },
                  "yaxis": "y"
                }
              ],
              "layout": {
                "barmode": "relative",
                "legend": {
                  "title": {
                    "text": "Geographic Area"
                  },
                  "tracegroupgap": 0
                },
                "template": {
                  "data": {
                    "bar": [
                      {
                        "error_x": {
                          "color": "#f2f5fa"
                        },
                        "error_y": {
                          "color": "#f2f5fa"
                        },
                        "marker": {
                          "line": {
                            "color": "rgb(17,17,17)",
                            "width": 0.5
                          },
                          "pattern": {
                            "fillmode": "overlay",
                            "size": 10,
                            "solidity": 0.2
                          }
                        },
                        "type": "bar"
                      }
                    ],
                    "barpolar": [
                      {
                        "marker": {
                          "line": {
                            "color": "rgb(17,17,17)",
                            "width": 0.5
                          },
                          "pattern": {
                            "fillmode": "overlay",
                            "size": 10,
                            "solidity": 0.2
                          }
                        },
                        "type": "barpolar"
                      }
                    ],
                    "carpet": [
                      {
                        "aaxis": {
                          "endlinecolor": "#A2B1C6",
                          "gridcolor": "#506784",
                          "linecolor": "#506784",
                          "minorgridcolor": "#506784",
                          "startlinecolor": "#A2B1C6"
                        },
                        "baxis": {
                          "endlinecolor": "#A2B1C6",
                          "gridcolor": "#506784",
                          "linecolor": "#506784",
                          "minorgridcolor": "#506784",
                          "startlinecolor": "#A2B1C6"
                        },
                        "type": "carpet"
                      }
                    ],
                    "choropleth": [
                      {
                        "colorbar": {
                          "outlinewidth": 0,
                          "ticks": ""
                        },
                        "type": "choropleth"
                      }
                    ],
                    "contour": [
                      {
                        "colorbar": {
                          "outlinewidth": 0,
                          "ticks": ""
                        },
                        "colorscale": [
                          [
                            0,
                            "#0d0887"
                          ],
                          [
                            0.1111111111111111,
                            "#46039f"
                          ],
                          [
                            0.2222222222222222,
                            "#7201a8"
                          ],
                          [
                            0.3333333333333333,
                            "#9c179e"
                          ],
                          [
                            0.4444444444444444,
                            "#bd3786"
                          ],
                          [
                            0.5555555555555556,
                            "#d8576b"
                          ],
                          [
                            0.6666666666666666,
                            "#ed7953"
                          ],
                          [
                            0.7777777777777778,
                            "#fb9f3a"
                          ],
                          [
                            0.8888888888888888,
                            "#fdca26"
                          ],
                          [
                            1,
                            "#f0f921"
                          ]
                        ],
                        "type": "contour"
                      }
                    ],
                    "contourcarpet": [
                      {
                        "colorbar": {
                          "outlinewidth": 0,
                          "ticks": ""
                        },
                        "type": "contourcarpet"
                      }
                    ],
                    "heatmap": [
                      {
                        "colorbar": {
                          "outlinewidth": 0,
                          "ticks": ""
                        },
                        "colorscale": [
                          [
                            0,
                            "#0d0887"
                          ],
                          [
                            0.1111111111111111,
                            "#46039f"
                          ],
                          [
                            0.2222222222222222,
                            "#7201a8"
                          ],
                          [
                            0.3333333333333333,
                            "#9c179e"
                          ],
                          [
                            0.4444444444444444,
                            "#bd3786"
                          ],
                          [
                            0.5555555555555556,
                            "#d8576b"
                          ],
                          [
                            0.6666666666666666,
                            "#ed7953"
                          ],
                          [
                            0.7777777777777778,
                            "#fb9f3a"
                          ],
                          [
                            0.8888888888888888,
                            "#fdca26"
                          ],
                          [
                            1,
                            "#f0f921"
                          ]
                        ],
                        "type": "heatmap"
                      }
                    ],
                    "histogram": [
                      {
                        "marker": {
                          "pattern": {
                            "fillmode": "overlay",
                            "size": 10,
                            "solidity": 0.2
                          }
                        },
                        "type": "histogram"
                      }
                    ],
                    "histogram2d": [
                      {
                        "colorbar": {
                          "outlinewidth": 0,
                          "ticks": ""
                        },
                        "colorscale": [
                          [
                            0,
                            "#0d0887"
                          ],
                          [
                            0.1111111111111111,
                            "#46039f"
                          ],
                          [
                            0.2222222222222222,
                            "#7201a8"
                          ],
                          [
                            0.3333333333333333,
                            "#9c179e"
                          ],
                          [
                            0.4444444444444444,
                            "#bd3786"
                          ],
                          [
                            0.5555555555555556,
                            "#d8576b"
                          ],
                          [
                            0.6666666666666666,
                            "#ed7953"
                          ],
                          [
                            0.7777777777777778,
                            "#fb9f3a"
                          ],
                          [
                            0.8888888888888888,
                            "#fdca26"
                          ],
                          [
                            1,
                            "#f0f921"
                          ]
                        ],
                        "type": "histogram2d"
                      }
                    ],
                    "histogram2dcontour": [
                      {
                        "colorbar": {
                          "outlinewidth": 0,
                          "ticks": ""
                        },
                        "colorscale": [
                          [
                            0,
                            "#0d0887"
                          ],
                          [
                            0.1111111111111111,
                            "#46039f"
                          ],
                          [
                            0.2222222222222222,
                            "#7201a8"
                          ],
                          [
                            0.3333333333333333,
                            "#9c179e"
                          ],
                          [
                            0.4444444444444444,
                            "#bd3786"
                          ],
                          [
                            0.5555555555555556,
                            "#d8576b"
                          ],
                          [
                            0.6666666666666666,
                            "#ed7953"
                          ],
                          [
                            0.7777777777777778,
                            "#fb9f3a"
                          ],
                          [
                            0.8888888888888888,
                            "#fdca26"
                          ],
                          [
                            1,
                            "#f0f921"
                          ]
                        ],
                        "type": "histogram2dcontour"
                      }
                    ],
                    "mesh3d": [
                      {
                        "colorbar": {
                          "outlinewidth": 0,
                          "ticks": ""
                        },
                        "type": "mesh3d"
                      }
                    ],
                    "parcoords": [
                      {
                        "line": {
                          "colorbar": {
                            "outlinewidth": 0,
                            "ticks": ""
                          }
                        },
                        "type": "parcoords"
                      }
                    ],
                    "pie": [
                      {
                        "automargin": true,
                        "type": "pie"
                      }
                    ],
                    "scatter": [
                      {
                        "marker": {
                          "line": {
                            "color": "#283442"
                          }
                        },
                        "type": "scatter"
                      }
                    ],
                    "scatter3d": [
                      {
                        "line": {
                          "colorbar": {
                            "outlinewidth": 0,
                            "ticks": ""
                          }
                        },
                        "marker": {
                          "colorbar": {
                            "outlinewidth": 0,
                            "ticks": ""
                          }
                        },
                        "type": "scatter3d"
                      }
                    ],
                    "scattercarpet": [
                      {
                        "marker": {
                          "colorbar": {
                            "outlinewidth": 0,
                            "ticks": ""
                          }
                        },
                        "type": "scattercarpet"
                      }
                    ],
                    "scattergeo": [
                      {
                        "marker": {
                          "colorbar": {
                            "outlinewidth": 0,
                            "ticks": ""
                          }
                        },
                        "type": "scattergeo"
                      }
                    ],
                    "scattergl": [
                      {
                        "marker": {
                          "line": {
                            "color": "#283442"
                          }
                        },
                        "type": "scattergl"
                      }
                    ],
                    "scattermap": [
                      {
                        "marker": {
                          "colorbar": {
                            "outlinewidth": 0,
                            "ticks": ""
                          }
                        },
                        "type": "scattermap"
                      }
                    ],
                    "scattermapbox": [
                      {
                        "marker": {
                          "colorbar": {
                            "outlinewidth": 0,
                            "ticks": ""
                          }
                        },
                        "type": "scattermapbox"
                      }
                    ],
                    "scatterpolar": [
                      {
                        "marker": {
                          "colorbar": {
                            "outlinewidth": 0,
                            "ticks": ""
                          }
                        },
                        "type": "scatterpolar"
                      }
                    ],
                    "scatterpolargl": [
                      {
                        "marker": {
                          "colorbar": {
                            "outlinewidth": 0,
                            "ticks": ""
                          }
                        },
                        "type": "scatterpolargl"
                      }
                    ],
                    "scatterternary": [
                      {
                        "marker": {
                          "colorbar": {
                            "outlinewidth": 0,
                            "ticks": ""
                          }
                        },
                        "type": "scatterternary"
                      }
                    ],
                    "surface": [
                      {
                        "colorbar": {
                          "outlinewidth": 0,
                          "ticks": ""
                        },
                        "colorscale": [
                          [
                            0,
                            "#0d0887"
                          ],
                          [
                            0.1111111111111111,
                            "#46039f"
                          ],
                          [
                            0.2222222222222222,
                            "#7201a8"
                          ],
                          [
                            0.3333333333333333,
                            "#9c179e"
                          ],
                          [
                            0.4444444444444444,
                            "#bd3786"
                          ],
                          [
                            0.5555555555555556,
                            "#d8576b"
                          ],
                          [
                            0.6666666666666666,
                            "#ed7953"
                          ],
                          [
                            0.7777777777777778,
                            "#fb9f3a"
                          ],
                          [
                            0.8888888888888888,
                            "#fdca26"
                          ],
                          [
                            1,
                            "#f0f921"
                          ]
                        ],
                        "type": "surface"
                      }
                    ],
                    "table": [
                      {
                        "cells": {
                          "fill": {
                            "color": "#506784"
                          },
                          "line": {
                            "color": "rgb(17,17,17)"
                          }
                        },
                        "header": {
                          "fill": {
                            "color": "#2a3f5f"
                          },
                          "line": {
                            "color": "rgb(17,17,17)"
                          }
                        },
                        "type": "table"
                      }
                    ]
                  },
                  "layout": {
                    "annotationdefaults": {
                      "arrowcolor": "#f2f5fa",
                      "arrowhead": 0,
                      "arrowwidth": 1
                    },
                    "autotypenumbers": "strict",
                    "coloraxis": {
                      "colorbar": {
                        "outlinewidth": 0,
                        "ticks": ""
                      }
                    },
                    "colorscale": {
                      "diverging": [
                        [
                          0,
                          "#8e0152"
                        ],
                        [
                          0.1,
                          "#c51b7d"
                        ],
                        [
                          0.2,
                          "#de77ae"
                        ],
                        [
                          0.3,
                          "#f1b6da"
                        ],
                        [
                          0.4,
                          "#fde0ef"
                        ],
                        [
                          0.5,
                          "#f7f7f7"
                        ],
                        [
                          0.6,
                          "#e6f5d0"
                        ],
                        [
                          0.7,
                          "#b8e186"
                        ],
                        [
                          0.8,
                          "#7fbc41"
                        ],
                        [
                          0.9,
                          "#4d9221"
                        ],
                        [
                          1,
                          "#276419"
                        ]
                      ],
                      "sequential": [
                        [
                          0,
                          "#0d0887"
                        ],
                        [
                          0.1111111111111111,
                          "#46039f"
                        ],
                        [
                          0.2222222222222222,
                          "#7201a8"
                        ],
                        [
                          0.3333333333333333,
                          "#9c179e"
                        ],
                        [
                          0.4444444444444444,
                          "#bd3786"
                        ],
                        [
                          0.5555555555555556,
                          "#d8576b"
                        ],
                        [
                          0.6666666666666666,
                          "#ed7953"
                        ],
                        [
                          0.7777777777777778,
                          "#fb9f3a"
                        ],
                        [
                          0.8888888888888888,
                          "#fdca26"
                        ],
                        [
                          1,
                          "#f0f921"
                        ]
                      ],
                      "sequentialminus": [
                        [
                          0,
                          "#0d0887"
                        ],
                        [
                          0.1111111111111111,
                          "#46039f"
                        ],
                        [
                          0.2222222222222222,
                          "#7201a8"
                        ],
                        [
                          0.3333333333333333,
                          "#9c179e"
                        ],
                        [
                          0.4444444444444444,
                          "#bd3786"
                        ],
                        [
                          0.5555555555555556,
                          "#d8576b"
                        ],
                        [
                          0.6666666666666666,
                          "#ed7953"
                        ],
                        [
                          0.7777777777777778,
                          "#fb9f3a"
                        ],
                        [
                          0.8888888888888888,
                          "#fdca26"
                        ],
                        [
                          1,
                          "#f0f921"
                        ]
                      ]
                    },
                    "colorway": [
                      "#636efa",
                      "#EF553B",
                      "#00cc96",
                      "#ab63fa",
                      "#FFA15A",
                      "#19d3f3",
                      "#FF6692",
                      "#B6E880",
                      "#FF97FF",
                      "#FECB52"
                    ],
                    "font": {
                      "color": "#f2f5fa"
                    },
                    "geo": {
                      "bgcolor": "rgb(17,17,17)",
                      "lakecolor": "rgb(17,17,17)",
                      "landcolor": "rgb(17,17,17)",
                      "showlakes": true,
                      "showland": true,
                      "subunitcolor": "#506784"
                    },
                    "hoverlabel": {
                      "align": "left"
                    },
                    "hovermode": "closest",
                    "mapbox": {
                      "style": "dark"
                    },
                    "paper_bgcolor": "rgb(17,17,17)",
                    "plot_bgcolor": "rgb(17,17,17)",
                    "polar": {
                      "angularaxis": {
                        "gridcolor": "#506784",
                        "linecolor": "#506784",
                        "ticks": ""
                      },
                      "bgcolor": "rgb(17,17,17)",
                      "radialaxis": {
                        "gridcolor": "#506784",
                        "linecolor": "#506784",
                        "ticks": ""
                      }
                    },
                    "scene": {
                      "xaxis": {
                        "backgroundcolor": "rgb(17,17,17)",
                        "gridcolor": "#506784",
                        "gridwidth": 2,
                        "linecolor": "#506784",
                        "showbackground": true,
                        "ticks": "",
                        "zerolinecolor": "#C8D4E3"
                      },
                      "yaxis": {
                        "backgroundcolor": "rgb(17,17,17)",
                        "gridcolor": "#506784",
                        "gridwidth": 2,
                        "linecolor": "#506784",
                        "showbackground": true,
                        "ticks": "",
                        "zerolinecolor": "#C8D4E3"
                      },
                      "zaxis": {
                        "backgroundcolor": "rgb(17,17,17)",
                        "gridcolor": "#506784",
                        "gridwidth": 2,
                        "linecolor": "#506784",
                        "showbackground": true,
                        "ticks": "",
                        "zerolinecolor": "#C8D4E3"
                      }
                    },
                    "shapedefaults": {
                      "line": {
                        "color": "#f2f5fa"
                      }
                    },
                    "sliderdefaults": {
                      "bgcolor": "#C8D4E3",
                      "bordercolor": "rgb(17,17,17)",
                      "borderwidth": 1,
                      "tickwidth": 0
                    },
                    "ternary": {
                      "aaxis": {
                        "gridcolor": "#506784",
                        "linecolor": "#506784",
                        "ticks": ""
                      },
                      "baxis": {
                        "gridcolor": "#506784",
                        "linecolor": "#506784",
                        "ticks": ""
                      },
                      "bgcolor": "rgb(17,17,17)",
                      "caxis": {
                        "gridcolor": "#506784",
                        "linecolor": "#506784",
                        "ticks": ""
                      }
                    },
                    "title": {
                      "x": 0.05
                    },
                    "updatemenudefaults": {
                      "bgcolor": "#506784",
                      "borderwidth": 0
                    },
                    "xaxis": {
                      "automargin": true,
                      "gridcolor": "#283442",
                      "linecolor": "#506784",
                      "ticks": "",
                      "title": {
                        "standoff": 15
                      },
                      "zerolinecolor": "#283442",
                      "zerolinewidth": 2
                    },
                    "yaxis": {
                      "automargin": true,
                      "gridcolor": "#283442",
                      "linecolor": "#506784",
                      "ticks": "",
                      "title": {
                        "standoff": 15
                      },
                      "zerolinecolor": "#283442",
                      "zerolinewidth": 2
                    }
                  }
                },
                "title": {
                  "text": "Graduation Rate by State in ASC Order"
                },
                "xaxis": {
                  "anchor": "y",
                  "categoryarray": [
                    "TX",
                    "MS",
                    "GA",
                    "LA",
                    "AR",
                    "AL",
                    "AZ",
                    "SC",
                    "NM",
                    "TN",
                    "CA",
                    "WV",
                    "KY",
                    "OK",
                    "NC",
                    "MO",
                    "AK",
                    "VA",
                    "ID",
                    "FL",
                    "IN",
                    "NV",
                    "SD",
                    "ND",
                    "WA",
                    "KS",
                    "OR",
                    "OH",
                    "MD",
                    "IL",
                    "DE",
                    "RI",
                    "PA",
                    "MI",
                    "DC",
                    "MN",
                    "VT",
                    "NE",
                    "CO",
                    "IA",
                    "WI",
                    "MT",
                    "NY",
                    "NH",
                    "NJ",
                    "ME",
                    "CT",
                    "UT",
                    "HI",
                    "WY",
                    "MA"
                  ],
                  "categoryorder": "array",
                  "domain": [
                    0,
                    1
                  ],
                  "title": {
                    "text": "Geographic Area"
                  }
                },
                "yaxis": {
                  "anchor": "x",
                  "domain": [
                    0,
                    1
                  ],
                  "title": {
                    "text": "Graduation Pct"
                  }
                }
              }
            }
          },
          "metadata": {},
          "output_type": "display_data"
        }
      ],
      "source": [
        "df_pct_completed_hs['percent_completed_hs'] = pd.to_numeric(df_pct_completed_hs['percent_completed_hs'],errors='coerce')\n",
        "df_pct_completed_hs.dropna(inplace=True)\n",
        "\n",
        "df_pct_completed_hs = df_pct_completed_hs.groupby('Geographic Area')['percent_completed_hs'].mean().sort_values(ascending=True).reset_index()\n",
        "\n",
        "fig = px.bar(df_pct_completed_hs,x='Geographic Area',y='percent_completed_hs',color='Geographic Area',title='Graduation Rate by State in ASC Order',\n",
        "             labels={'percent_completed_hs':'Graduation Pct'})\n",
        "\n",
        "fig.layout.template = 'plotly_dark'\n",
        "fig.show()"
      ]
    },
    {
      "cell_type": "markdown",
      "metadata": {
        "id": "ENGTEmPQ0Rvt"
      },
      "source": [
        "# Visualise the Relationship between Poverty Rates and High School Graduation Rates\n",
        "\n",
        "#### Create a line chart with two y-axes to show if the rations of poverty and high school graduation move together.  "
      ]
    },
    {
      "cell_type": "code",
      "execution_count": 65,
      "metadata": {
        "id": "MkNk5U8v0JPB"
      },
      "outputs": [
        {
          "data": {
            "image/png": "[encoded data removed]",
            "text/plain": [
              "<Figure size 1680x720 with 2 Axes>"
            ]
          },
          "metadata": {},
          "output_type": "display_data"
        }
      ],
      "source": [
        "df_merge_grad_pov = pd.merge(df_pct_completed_hs,df_pov_state,on='Geographic Area')\n",
        "\n",
        "df_merge_grad_pov.sort_values('percent_completed_hs',ascending=True,inplace=True)\n",
        "\n",
        "fig,ax1 = plt.subplots(figsize=(14,6))\n",
        "\n",
        "\n",
        "\n",
        "ax1.plot(df_merge_grad_pov['Geographic Area'],df_merge_grad_pov['percent_completed_hs'],label='Graduation Rate (%)')\n",
        "ax2 = ax1.twinx()\n",
        "\n",
        "ax2.plot(df_merge_grad_pov['Geographic Area'],df_merge_grad_pov['poverty_rate'],label=\"Poverty Rate (%)\",linestyle='dashed',marker='o',color='red')\n",
        "\n",
        "ax1.set_xlabel('States')\n",
        "ax1.set_ylabel('Graduation Rate (%)')\n",
        "\n",
        "\n",
        "\n",
        "# ax2.invert_yaxis()\n",
        "ax2.set_ylabel('Poverty Rate (%)')\n",
        "ax1.tick_params(axis='x',labelrotation=60)\n",
        "fig.legend(loc='upper center')\n",
        "fig.set_dpi(120)\n",
        "fig.tight_layout()\n",
        "# plt.subplots_adjust(bottom=0.4)\n"
      ]
    },
    {
      "cell_type": "code",
      "execution_count": null,
      "metadata": {
        "id": "urRMqQG_0Nmo"
      },
      "outputs": [],
      "source": []
    },
    {
      "cell_type": "markdown",
      "metadata": {
        "id": "Zavx_8PL1Jy9"
      },
      "source": [
        "#### Now use a Seaborn .jointplot() with a Kernel Density Estimate (KDE) and/or scatter plot to visualise the same relationship"
      ]
    },
    {
      "cell_type": "code",
      "execution_count": 66,
      "metadata": {},
      "outputs": [
        {
          "data": {
            "application/vnd.microsoft.datawrangler.viewer.v0+json": {
              "columns": [
                {
                  "name": "index",
                  "rawType": "int64",
                  "type": "integer"
                },
                {
                  "name": "Geographic Area",
                  "rawType": "object",
                  "type": "string"
                },
                {
                  "name": "percent_completed_hs",
                  "rawType": "float64",
                  "type": "float"
                },
                {
                  "name": "poverty_rate",
                  "rawType": "float64",
                  "type": "float"
                }
              ],
              "conversionMethod": "pd.DataFrame",
              "ref": "05f6a788-8580-4ce0-b360-d567afc81925",
              "rows": [
                [
                  "0",
                  "TX",
                  "75.69",
                  "19.918070175438597"
                ],
                [
                  "1",
                  "MS",
                  "78.4707182320442",
                  "26.88425414364641"
                ],
                [
                  "2",
                  "GA",
                  "79.0125",
                  "23.777403846153845"
                ],
                [
                  "3",
                  "LA",
                  "79.28964059196618",
                  "22.33890063424947"
                ],
                [
                  "4",
                  "AR",
                  "79.94953789279113",
                  "22.963216266173752"
                ],
                [
                  "5",
                  "AL",
                  "80.30068493150685",
                  "20.64708904109589"
                ],
                [
                  "6",
                  "AZ",
                  "80.46711711711713",
                  "25.666441441441442"
                ],
                [
                  "7",
                  "SC",
                  "80.84987341772153",
                  "22.161518987341772"
                ],
                [
                  "8",
                  "NM",
                  "80.98263888888889",
                  "23.080787037037037"
                ],
                [
                  "9",
                  "TN",
                  "81.63116279069767",
                  "19.88720930232558"
                ],
                [
                  "10",
                  "CA",
                  "81.95542971352432",
                  "17.12465023317788"
                ],
                [
                  "11",
                  "WV",
                  "82.3450495049505",
                  "21.134405940594057"
                ],
                [
                  "12",
                  "KY",
                  "82.37012987012987",
                  "20.080000000000002"
                ],
                [
                  "13",
                  "OK",
                  "82.90974289580515",
                  "20.657104194857915"
                ],
                [
                  "14",
                  "NC",
                  "83.24945799457994",
                  "19.74728997289973"
                ],
                [
                  "15",
                  "MO",
                  "83.522265625",
                  "20.105859375"
                ],
                [
                  "16",
                  "AK",
                  "84.62738095238095",
                  "19.852994011976048"
                ],
                [
                  "17",
                  "VA",
                  "84.88026981450253",
                  "14.5858347386172"
                ],
                [
                  "18",
                  "ID",
                  "85.16799999999999",
                  "18.23688888888889"
                ],
                [
                  "19",
                  "FL",
                  "85.73781420765027",
                  "17.56601092896175"
                ],
                [
                  "20",
                  "IN",
                  "86.31926470588235",
                  "15.49985294117647"
                ],
                [
                  "21",
                  "NV",
                  "87.71538461538462",
                  "12.466153846153846"
                ],
                [
                  "22",
                  "SD",
                  "87.75390625",
                  "16.032291666666666"
                ],
                [
                  "23",
                  "ND",
                  "87.81524999999999",
                  "12.162249999999998"
                ],
                [
                  "24",
                  "WA",
                  "88.19757673667206",
                  "15.017609046849756"
                ],
                [
                  "25",
                  "KS",
                  "88.23044776119403",
                  "14.762985074626867"
                ],
                [
                  "26",
                  "OR",
                  "88.30454545454546",
                  "16.523466666666668"
                ],
                [
                  "27",
                  "OH",
                  "88.34460016488046",
                  "14.851112943116242"
                ],
                [
                  "28",
                  "MD",
                  "88.42248062015504",
                  "10.312209302325583"
                ],
                [
                  "29",
                  "IL",
                  "88.48344322344322",
                  "13.879780219780221"
                ],
                [
                  "30",
                  "DE",
                  "88.51948051948052",
                  "12.555844155844156"
                ],
                [
                  "31",
                  "RI",
                  "88.82499999999999",
                  "10.369444444444445"
                ],
                [
                  "32",
                  "PA",
                  "89.02339579784214",
                  "12.515585893060297"
                ],
                [
                  "33",
                  "MI",
                  "89.20765895953757",
                  "17.9007225433526"
                ],
                [
                  "34",
                  "DC",
                  "89.3",
                  "18.0"
                ],
                [
                  "35",
                  "MN",
                  "89.46555924695458",
                  "13.745736434108526"
                ],
                [
                  "36",
                  "VT",
                  "89.97685950413224",
                  "13.785950413223139"
                ],
                [
                  "37",
                  "NE",
                  "89.98786828422877",
                  "12.984575389948008"
                ],
                [
                  "38",
                  "CO",
                  "90.10663716814159",
                  "13.36283185840708"
                ],
                [
                  "39",
                  "IA",
                  "90.1122632103689",
                  "12.292522432701894"
                ],
                [
                  "40",
                  "WI",
                  "90.26396396396397",
                  "12.85868725868726"
                ],
                [
                  "41",
                  "MT",
                  "90.48842975206612",
                  "16.513774104683197"
                ],
                [
                  "42",
                  "NY",
                  "90.61372384937238",
                  "11.668231349538978"
                ],
                [
                  "43",
                  "NH",
                  "90.71134020618557",
                  "12.65979381443299"
                ],
                [
                  "44",
                  "NJ",
                  "90.85395948434622",
                  "8.19097605893186"
                ],
                [
                  "45",
                  "ME",
                  "91.43076923076923",
                  "16.89384615384615"
                ],
                [
                  "46",
                  "CT",
                  "91.59166666666667",
                  "9.1375"
                ],
                [
                  "47",
                  "UT",
                  "91.61792452830188",
                  "11.982704402515724"
                ],
                [
                  "48",
                  "HI",
                  "91.66556291390728",
                  "13.400662251655628"
                ],
                [
                  "49",
                  "WY",
                  "92.10053763440861",
                  "9.88770053475936"
                ]
              ],
              "shape": {
                "columns": 3,
                "rows": 51
              }
            },
            "text/html": [
              "<div>\n",
              "<style scoped>\n",
              "    .dataframe tbody tr th:only-of-type {\n",
              "        vertical-align: middle;\n",
              "    }\n",
              "\n",
              "    .dataframe tbody tr th {\n",
              "        vertical-align: top;\n",
              "    }\n",
              "\n",
              "    .dataframe thead th {\n",
              "        text-align: right;\n",
              "    }\n",
              "</style>\n",
              "<table border=\"1\" class=\"dataframe\">\n",
              "  <thead>\n",
              "    <tr style=\"text-align: right;\">\n",
              "      <th></th>\n",
              "      <th>Geographic Area</th>\n",
              "      <th>percent_completed_hs</th>\n",
              "      <th>poverty_rate</th>\n",
              "    </tr>\n",
              "  </thead>\n",
              "  <tbody>\n",
              "    <tr>\n",
              "      <th>0</th>\n",
              "      <td>TX</td>\n",
              "      <td>75.69</td>\n",
              "      <td>19.92</td>\n",
              "    </tr>\n",
              "    <tr>\n",
              "      <th>1</th>\n",
              "      <td>MS</td>\n",
              "      <td>78.47</td>\n",
              "      <td>26.88</td>\n",
              "    </tr>\n",
              "    <tr>\n",
              "      <th>2</th>\n",
              "      <td>GA</td>\n",
              "      <td>79.01</td>\n",
              "      <td>23.78</td>\n",
              "    </tr>\n",
              "    <tr>\n",
              "      <th>3</th>\n",
              "      <td>LA</td>\n",
              "      <td>79.29</td>\n",
              "      <td>22.34</td>\n",
              "    </tr>\n",
              "    <tr>\n",
              "      <th>4</th>\n",
              "      <td>AR</td>\n",
              "      <td>79.95</td>\n",
              "      <td>22.96</td>\n",
              "    </tr>\n",
              "    <tr>\n",
              "      <th>5</th>\n",
              "      <td>AL</td>\n",
              "      <td>80.30</td>\n",
              "      <td>20.65</td>\n",
              "    </tr>\n",
              "    <tr>\n",
              "      <th>6</th>\n",
              "      <td>AZ</td>\n",
              "      <td>80.47</td>\n",
              "      <td>25.67</td>\n",
              "    </tr>\n",
              "    <tr>\n",
              "      <th>7</th>\n",
              "      <td>SC</td>\n",
              "      <td>80.85</td>\n",
              "      <td>22.16</td>\n",
              "    </tr>\n",
              "    <tr>\n",
              "      <th>8</th>\n",
              "      <td>NM</td>\n",
              "      <td>80.98</td>\n",
              "      <td>23.08</td>\n",
              "    </tr>\n",
              "    <tr>\n",
              "      <th>9</th>\n",
              "      <td>TN</td>\n",
              "      <td>81.63</td>\n",
              "      <td>19.89</td>\n",
              "    </tr>\n",
              "    <tr>\n",
              "      <th>10</th>\n",
              "      <td>CA</td>\n",
              "      <td>81.96</td>\n",
              "      <td>17.12</td>\n",
              "    </tr>\n",
              "    <tr>\n",
              "      <th>11</th>\n",
              "      <td>WV</td>\n",
              "      <td>82.35</td>\n",
              "      <td>21.13</td>\n",
              "    </tr>\n",
              "    <tr>\n",
              "      <th>12</th>\n",
              "      <td>KY</td>\n",
              "      <td>82.37</td>\n",
              "      <td>20.08</td>\n",
              "    </tr>\n",
              "    <tr>\n",
              "      <th>13</th>\n",
              "      <td>OK</td>\n",
              "      <td>82.91</td>\n",
              "      <td>20.66</td>\n",
              "    </tr>\n",
              "    <tr>\n",
              "      <th>14</th>\n",
              "      <td>NC</td>\n",
              "      <td>83.25</td>\n",
              "      <td>19.75</td>\n",
              "    </tr>\n",
              "    <tr>\n",
              "      <th>15</th>\n",
              "      <td>MO</td>\n",
              "      <td>83.52</td>\n",
              "      <td>20.11</td>\n",
              "    </tr>\n",
              "    <tr>\n",
              "      <th>16</th>\n",
              "      <td>AK</td>\n",
              "      <td>84.63</td>\n",
              "      <td>19.85</td>\n",
              "    </tr>\n",
              "    <tr>\n",
              "      <th>17</th>\n",
              "      <td>VA</td>\n",
              "      <td>84.88</td>\n",
              "      <td>14.59</td>\n",
              "    </tr>\n",
              "    <tr>\n",
              "      <th>18</th>\n",
              "      <td>ID</td>\n",
              "      <td>85.17</td>\n",
              "      <td>18.24</td>\n",
              "    </tr>\n",
              "    <tr>\n",
              "      <th>19</th>\n",
              "      <td>FL</td>\n",
              "      <td>85.74</td>\n",
              "      <td>17.57</td>\n",
              "    </tr>\n",
              "    <tr>\n",
              "      <th>20</th>\n",
              "      <td>IN</td>\n",
              "      <td>86.32</td>\n",
              "      <td>15.50</td>\n",
              "    </tr>\n",
              "    <tr>\n",
              "      <th>21</th>\n",
              "      <td>NV</td>\n",
              "      <td>87.72</td>\n",
              "      <td>12.47</td>\n",
              "    </tr>\n",
              "    <tr>\n",
              "      <th>22</th>\n",
              "      <td>SD</td>\n",
              "      <td>87.75</td>\n",
              "      <td>16.03</td>\n",
              "    </tr>\n",
              "    <tr>\n",
              "      <th>23</th>\n",
              "      <td>ND</td>\n",
              "      <td>87.82</td>\n",
              "      <td>12.16</td>\n",
              "    </tr>\n",
              "    <tr>\n",
              "      <th>24</th>\n",
              "      <td>WA</td>\n",
              "      <td>88.20</td>\n",
              "      <td>15.02</td>\n",
              "    </tr>\n",
              "    <tr>\n",
              "      <th>25</th>\n",
              "      <td>KS</td>\n",
              "      <td>88.23</td>\n",
              "      <td>14.76</td>\n",
              "    </tr>\n",
              "    <tr>\n",
              "      <th>26</th>\n",
              "      <td>OR</td>\n",
              "      <td>88.30</td>\n",
              "      <td>16.52</td>\n",
              "    </tr>\n",
              "    <tr>\n",
              "      <th>27</th>\n",
              "      <td>OH</td>\n",
              "      <td>88.34</td>\n",
              "      <td>14.85</td>\n",
              "    </tr>\n",
              "    <tr>\n",
              "      <th>28</th>\n",
              "      <td>MD</td>\n",
              "      <td>88.42</td>\n",
              "      <td>10.31</td>\n",
              "    </tr>\n",
              "    <tr>\n",
              "      <th>29</th>\n",
              "      <td>IL</td>\n",
              "      <td>88.48</td>\n",
              "      <td>13.88</td>\n",
              "    </tr>\n",
              "    <tr>\n",
              "      <th>30</th>\n",
              "      <td>DE</td>\n",
              "      <td>88.52</td>\n",
              "      <td>12.56</td>\n",
              "    </tr>\n",
              "    <tr>\n",
              "      <th>31</th>\n",
              "      <td>RI</td>\n",
              "      <td>88.82</td>\n",
              "      <td>10.37</td>\n",
              "    </tr>\n",
              "    <tr>\n",
              "      <th>32</th>\n",
              "      <td>PA</td>\n",
              "      <td>89.02</td>\n",
              "      <td>12.52</td>\n",
              "    </tr>\n",
              "    <tr>\n",
              "      <th>33</th>\n",
              "      <td>MI</td>\n",
              "      <td>89.21</td>\n",
              "      <td>17.90</td>\n",
              "    </tr>\n",
              "    <tr>\n",
              "      <th>34</th>\n",
              "      <td>DC</td>\n",
              "      <td>89.30</td>\n",
              "      <td>18.00</td>\n",
              "    </tr>\n",
              "    <tr>\n",
              "      <th>35</th>\n",
              "      <td>MN</td>\n",
              "      <td>89.47</td>\n",
              "      <td>13.75</td>\n",
              "    </tr>\n",
              "    <tr>\n",
              "      <th>36</th>\n",
              "      <td>VT</td>\n",
              "      <td>89.98</td>\n",
              "      <td>13.79</td>\n",
              "    </tr>\n",
              "    <tr>\n",
              "      <th>37</th>\n",
              "      <td>NE</td>\n",
              "      <td>89.99</td>\n",
              "      <td>12.98</td>\n",
              "    </tr>\n",
              "    <tr>\n",
              "      <th>38</th>\n",
              "      <td>CO</td>\n",
              "      <td>90.11</td>\n",
              "      <td>13.36</td>\n",
              "    </tr>\n",
              "    <tr>\n",
              "      <th>39</th>\n",
              "      <td>IA</td>\n",
              "      <td>90.11</td>\n",
              "      <td>12.29</td>\n",
              "    </tr>\n",
              "    <tr>\n",
              "      <th>40</th>\n",
              "      <td>WI</td>\n",
              "      <td>90.26</td>\n",
              "      <td>12.86</td>\n",
              "    </tr>\n",
              "    <tr>\n",
              "      <th>41</th>\n",
              "      <td>MT</td>\n",
              "      <td>90.49</td>\n",
              "      <td>16.51</td>\n",
              "    </tr>\n",
              "    <tr>\n",
              "      <th>42</th>\n",
              "      <td>NY</td>\n",
              "      <td>90.61</td>\n",
              "      <td>11.67</td>\n",
              "    </tr>\n",
              "    <tr>\n",
              "      <th>43</th>\n",
              "      <td>NH</td>\n",
              "      <td>90.71</td>\n",
              "      <td>12.66</td>\n",
              "    </tr>\n",
              "    <tr>\n",
              "      <th>44</th>\n",
              "      <td>NJ</td>\n",
              "      <td>90.85</td>\n",
              "      <td>8.19</td>\n",
              "    </tr>\n",
              "    <tr>\n",
              "      <th>45</th>\n",
              "      <td>ME</td>\n",
              "      <td>91.43</td>\n",
              "      <td>16.89</td>\n",
              "    </tr>\n",
              "    <tr>\n",
              "      <th>46</th>\n",
              "      <td>CT</td>\n",
              "      <td>91.59</td>\n",
              "      <td>9.14</td>\n",
              "    </tr>\n",
              "    <tr>\n",
              "      <th>47</th>\n",
              "      <td>UT</td>\n",
              "      <td>91.62</td>\n",
              "      <td>11.98</td>\n",
              "    </tr>\n",
              "    <tr>\n",
              "      <th>48</th>\n",
              "      <td>HI</td>\n",
              "      <td>91.67</td>\n",
              "      <td>13.40</td>\n",
              "    </tr>\n",
              "    <tr>\n",
              "      <th>49</th>\n",
              "      <td>WY</td>\n",
              "      <td>92.10</td>\n",
              "      <td>9.89</td>\n",
              "    </tr>\n",
              "    <tr>\n",
              "      <th>50</th>\n",
              "      <td>MA</td>\n",
              "      <td>92.40</td>\n",
              "      <td>9.59</td>\n",
              "    </tr>\n",
              "  </tbody>\n",
              "</table>\n",
              "</div>"
            ],
            "text/plain": [
              "   Geographic Area  percent_completed_hs  poverty_rate\n",
              "0               TX                 75.69         19.92\n",
              "1               MS                 78.47         26.88\n",
              "2               GA                 79.01         23.78\n",
              "3               LA                 79.29         22.34\n",
              "4               AR                 79.95         22.96\n",
              "5               AL                 80.30         20.65\n",
              "6               AZ                 80.47         25.67\n",
              "7               SC                 80.85         22.16\n",
              "8               NM                 80.98         23.08\n",
              "9               TN                 81.63         19.89\n",
              "10              CA                 81.96         17.12\n",
              "11              WV                 82.35         21.13\n",
              "12              KY                 82.37         20.08\n",
              "13              OK                 82.91         20.66\n",
              "14              NC                 83.25         19.75\n",
              "15              MO                 83.52         20.11\n",
              "16              AK                 84.63         19.85\n",
              "17              VA                 84.88         14.59\n",
              "18              ID                 85.17         18.24\n",
              "19              FL                 85.74         17.57\n",
              "20              IN                 86.32         15.50\n",
              "21              NV                 87.72         12.47\n",
              "22              SD                 87.75         16.03\n",
              "23              ND                 87.82         12.16\n",
              "24              WA                 88.20         15.02\n",
              "25              KS                 88.23         14.76\n",
              "26              OR                 88.30         16.52\n",
              "27              OH                 88.34         14.85\n",
              "28              MD                 88.42         10.31\n",
              "29              IL                 88.48         13.88\n",
              "30              DE                 88.52         12.56\n",
              "31              RI                 88.82         10.37\n",
              "32              PA                 89.02         12.52\n",
              "33              MI                 89.21         17.90\n",
              "34              DC                 89.30         18.00\n",
              "35              MN                 89.47         13.75\n",
              "36              VT                 89.98         13.79\n",
              "37              NE                 89.99         12.98\n",
              "38              CO                 90.11         13.36\n",
              "39              IA                 90.11         12.29\n",
              "40              WI                 90.26         12.86\n",
              "41              MT                 90.49         16.51\n",
              "42              NY                 90.61         11.67\n",
              "43              NH                 90.71         12.66\n",
              "44              NJ                 90.85          8.19\n",
              "45              ME                 91.43         16.89\n",
              "46              CT                 91.59          9.14\n",
              "47              UT                 91.62         11.98\n",
              "48              HI                 91.67         13.40\n",
              "49              WY                 92.10          9.89\n",
              "50              MA                 92.40          9.59"
            ]
          },
          "execution_count": 66,
          "metadata": {},
          "output_type": "execute_result"
        }
      ],
      "source": [
        "df_merge_grad_pov.isna().any()\n",
        "df_merge_grad_pov"
      ]
    },
    {
      "cell_type": "code",
      "execution_count": 67,
      "metadata": {
        "id": "u77CHfdX0pjW"
      },
      "outputs": [
        {
          "data": {
            "image/png": "[encoded data removed]",
            "text/plain": [
              "<Figure size 800x800 with 3 Axes>"
            ]
          },
          "metadata": {},
          "output_type": "display_data"
        }
      ],
      "source": [
        "fig = sns.jointplot(data=df_merge_grad_pov,x=\"percent_completed_hs\",y=\"poverty_rate\",kind='kde',fill=True,height=8)\n",
        "# handles, labels = fig.ax_joint.get_legend_handles_labels()\n",
        "\n",
        "ax1 = fig.plot_joint(sns.scatterplot)\n",
        "\n",
        "fig.set_axis_labels('x','y',fontsize=16)\n",
        "fig.ax_joint.set_xlabel(\"Graduation Rate (%)\")\n",
        "fig.ax_joint.set_ylabel('Poverty Rate (%)')\n",
        "fig.figure.suptitle(\"KDE Relationship Between Graduation Rates and Poverty Rate\")\n",
        "fig.figure.tight_layout()\n",
        "plt.show()\n",
        "\n"
      ]
    },
    {
      "cell_type": "code",
      "execution_count": null,
      "metadata": {
        "id": "CYy89o-u1zu0"
      },
      "outputs": [],
      "source": []
    },
    {
      "cell_type": "code",
      "execution_count": null,
      "metadata": {},
      "outputs": [],
      "source": []
    },
    {
      "cell_type": "markdown",
      "metadata": {
        "id": "PXNFQmHl10Fx"
      },
      "source": [
        "#### Seaborn's `.lmplot()` or `.regplot()` to show a linear regression between the poverty ratio and the high school graduation ratio. "
      ]
    },
    {
      "cell_type": "code",
      "execution_count": 68,
      "metadata": {
        "id": "F1xrjFgT1znI"
      },
      "outputs": [
        {
          "data": {
            "image/png": "[encoded data removed]",
            "text/plain": [
              "<Figure size 800x800 with 1 Axes>"
            ]
          },
          "metadata": {},
          "output_type": "display_data"
        }
      ],
      "source": [
        "fig = sns.lmplot(df_merge_grad_pov,x='percent_completed_hs',y='poverty_rate',height=8)\n",
        "plt.xlabel('Graduation Rate (%)')\n",
        "plt.ylabel('Poverty Rate (%)')\n",
        "plt.title('Linear Regression between Poverty Ratio and Graduation Ratio')\n",
        "# fig.figure.tight_layout()\n",
        "plt.show()"
      ]
    },
    {
      "cell_type": "markdown",
      "metadata": {
        "id": "QJTbZZKg0p6i"
      },
      "source": [
        "# Create a Bar Chart with Subsections Showing the Racial Makeup of Each US State\n",
        "\n",
        "Visualise the share of the white, black, hispanic, asian and native american population in each US State using a bar chart with sub sections. "
      ]
    },
    {
      "cell_type": "code",
      "execution_count": 69,
      "metadata": {
        "id": "YQbXb6Ex09D9"
      },
      "outputs": [
        {
          "name": "stdout",
          "output_type": "stream",
          "text": [
            "Geographic area           0\n",
            "share_white              20\n",
            "share_black              20\n",
            "share_native_american    20\n",
            "share_asian              20\n",
            "share_hispanic           20\n",
            "dtype: int64\n",
            "share_white\n",
            "share_black\n",
            "share_native_american\n",
            "share_asian\n",
            "share_hispanic\n"
          ]
        }
      ],
      "source": [
        "df_share_race_city.head()\n",
        "df_share_states = df_share_race_city.copy()\n",
        "df_share_states.drop(columns=[\"City\"],inplace=True)\n",
        "\n",
        "\n",
        "\n",
        "df_share_states.replace('(X)',np.nan,inplace=True)\n",
        "\n",
        "print(df_share_states.isna().sum())\n",
        "\n",
        "for col in df_share_states.columns:\n",
        "    if col != 'Geographic area':\n",
        "        print(col)\n",
        "        df_share_states[col] = pd.to_numeric(df_share_states[col])\n",
        "        "
      ]
    },
    {
      "cell_type": "code",
      "execution_count": 70,
      "metadata": {
        "id": "LqrimlLo09Na"
      },
      "outputs": [],
      "source": [
        "df_grouped_states = df_share_states.groupby(['Geographic area']).mean().reset_index()\n",
        "df_state_avg = df_grouped_states.melt(\n",
        "    id_vars='Geographic area',\n",
        "    value_vars=[\n",
        "        'share_white','share_black','share_native_american','share_asian','share_hispanic'\n",
        "    ],\n",
        "    var_name='Race',\n",
        "    value_name='Share'\n",
        ")\n",
        "\n",
        "df_state_avg.head()\n",
        "\n",
        "df_state_avg.replace(\n",
        "    {\n",
        "        \"Race\":{\n",
        "            \"share_white\":\"White\",\n",
        "            \"share_black\":\"Black\",\n",
        "            \"share_native_american\":\"Native American\",\n",
        "            \"share_asian\":\"Asian\",\n",
        "            \"share_hispanic\":\"Hispanic\"\n",
        "            \n",
        "        }\n",
        "    },inplace=True\n",
        ")"
      ]
    },
    {
      "cell_type": "code",
      "execution_count": 71,
      "metadata": {},
      "outputs": [
        {
          "data": {
            "application/vnd.plotly.v1+json": {
              "config": {
                "plotlyServerURL": "https://plot.ly"
              },
              "data": [
                {
                  "hovertemplate": "Race=White<br>Geographic area=%{x}<br>Share=%{y}<extra></extra>",
                  "legendgroup": "White",
                  "marker": {
                    "color": "#636efa",
                    "pattern": {
                      "shape": ""
                    }
                  },
                  "name": "White",
                  "orientation": "v",
                  "showlegend": true,
                  "textposition": "auto",
                  "type": "bar",
                  "x": [
                    "AK",
                    "AL",
                    "AR",
                    "AZ",
                    "CA",
                    "CO",
                    "CT",
                    "DC",
                    "DE",
                    "FL",
                    "GA",
                    "HI",
                    "IA",
                    "ID",
                    "IL",
                    "IN",
                    "KS",
                    "KY",
                    "LA",
                    "MA",
                    "MD",
                    "ME",
                    "MI",
                    "MN",
                    "MO",
                    "MS",
                    "MT",
                    "NC",
                    "ND",
                    "NE",
                    "NH",
                    "NJ",
                    "NM",
                    "NV",
                    "NY",
                    "OH",
                    "OK",
                    "OR",
                    "PA",
                    "RI",
                    "SC",
                    "SD",
                    "TN",
                    "TX",
                    "UT",
                    "VA",
                    "VT",
                    "WA",
                    "WI",
                    "WV",
                    "WY"
                  ],
                  "xaxis": "x",
                  "y": {
                    "bdata": "MzMzMzPTRkDROqQNdyBSQHH2lDrFnFNA969u/+r2TUB6yKxXcfdRQPx8GX4s8VVAyaoJD8KGVUAAAAAAAEBDQHxuiVO/D1NA16NwPQqrU0Bx+glft0tPQAGKM/hMr0BAVG92miwtWECv+aPnUzRWQKx+Dg/allZAhaxLyLq0V0Blz0Ygmz1XQN5b0tOEDldAr3CbNCI0UECTfVRRAmtWQHgL2j9zB1JAHFkkrevrV0DkHXtg+qpWQNtMGNE281ZAKk8xSWmcVkBmZmZmZuZKQBvjDf10HlVA41/oeg7hUUB1LSwOzRJXQJursu7srVdAmZmZmZnrV0ApPZE+7jhUQJFt1N7IWlBAMU6/BuOUVEBCAMoVNjhWQF63CuF1M1dAi0NpDUA7UkChRAO3COhVQM3rBfE0UFdAfn5+fn5OVkA4Wvic4/xOQKzuHRJVNFVAhG6iD508VkA4oaA94qVUQM9UrjteXFZAze+QRTemUkDhcpfgcvdXQBb8S6cPmFRAAmXDink9V0C3znkuRMJXQJ2aB7nrF1dA",
                    "dtype": "f8"
                  },
                  "yaxis": "y"
                },
                {
                  "hovertemplate": "Race=Black<br>Geographic area=%{x}<br>Share=%{y}<extra></extra>",
                  "legendgroup": "Black",
                  "marker": {
                    "color": "#EF553B",
                    "pattern": {
                      "shape": ""
                    }
                  },
                  "name": "Black",
                  "orientation": "v",
                  "showlegend": true,
                  "textposition": "auto",
                  "type": "bar",
                  "x": [
                    "AK",
                    "AL",
                    "AR",
                    "AZ",
                    "CA",
                    "CO",
                    "CT",
                    "DC",
                    "DE",
                    "FL",
                    "GA",
                    "HI",
                    "IA",
                    "ID",
                    "IL",
                    "IN",
                    "KS",
                    "KY",
                    "LA",
                    "MA",
                    "MD",
                    "ME",
                    "MI",
                    "MN",
                    "MO",
                    "MS",
                    "MT",
                    "NC",
                    "ND",
                    "NE",
                    "NH",
                    "NJ",
                    "NM",
                    "NV",
                    "NY",
                    "OH",
                    "OK",
                    "OR",
                    "PA",
                    "RI",
                    "SC",
                    "SD",
                    "TN",
                    "TX",
                    "UT",
                    "VA",
                    "VT",
                    "WA",
                    "WI",
                    "WV",
                    "WY"
                  ],
                  "xaxis": "x",
                  "y": {
                    "bdata": "pwR5SpAn4j9HVmV0g1I3QKZsRN3+SzBAjC666KKL7j/tPLv6QIkFQIrqXyuuXe0/gh/4gR/4E0CamZmZmVlJQJg49XtuyS5AgWGbneK9KkBGJo4XMKI+QGLvShE/IvE/jwBBY2wI4j/jnfxgzuPSPxMXCDg40RJABHMyMCcD+z/BmXOPeLzuP4N9uRJArxFA/PMak4XGPkA4ipAunWoGQGxTBiDCdjNAWrXQdjA86j/5uO+WQn8QQA9zdigqA/A/5ZpvxYCEF0DWOrDJv+pEQG02/LprAM0/a73OKP1mNECGQptA7t7WP6w1yCXB6do/Z2ZmZmbm5j80y8lscuYbQKLFXlRqWOU/3kOR6j0U+T8RUy9d7AcQQJ+70Q8Drg9AMYxZnpUCC0ACerCa1vHgP5dyKZdyKQpA6Ofn5+fnB0CY5ludzmpAQI/C9Shcj9I/SlZNeBA2HUD/uO273IQXQL7NX2FWo9g/KCc0ssWCMECpqKioqKjoP18ry4FS0/Y/fE/QTwP+7T9NCEOnWlIHQHbYPTZ9kdk/",
                    "dtype": "f8"
                  },
                  "yaxis": "y"
                },
                {
                  "hovertemplate": "Race=Native American<br>Geographic area=%{x}<br>Share=%{y}<extra></extra>",
                  "legendgroup": "Native American",
                  "marker": {
                    "color": "#00cc96",
                    "pattern": {
                      "shape": ""
                    }
                  },
                  "name": "Native American",
                  "orientation": "v",
                  "showlegend": true,
                  "textposition": "auto",
                  "type": "bar",
                  "x": [
                    "AK",
                    "AL",
                    "AR",
                    "AZ",
                    "CA",
                    "CO",
                    "CT",
                    "DC",
                    "DE",
                    "FL",
                    "GA",
                    "HI",
                    "IA",
                    "ID",
                    "IL",
                    "IN",
                    "KS",
                    "KY",
                    "LA",
                    "MA",
                    "MD",
                    "ME",
                    "MI",
                    "MN",
                    "MO",
                    "MS",
                    "MT",
                    "NC",
                    "ND",
                    "NE",
                    "NH",
                    "NJ",
                    "NM",
                    "NV",
                    "NY",
                    "OH",
                    "OK",
                    "OR",
                    "PA",
                    "RI",
                    "SC",
                    "SD",
                    "TN",
                    "TX",
                    "UT",
                    "VA",
                    "VT",
                    "WA",
                    "WI",
                    "WV",
                    "WY"
                  ],
                  "xaxis": "x",
                  "y": {
                    "bdata": "9w1r37DuRkBHCs6RVRnlP6o8D+8CUeg/l9JvKf2WPEDSL7K/w5H7PwG40YaN//k/eme97TgD5T8zMzMzMzPTPyCMtGMFwuA/Uvkw7tcl3T8GwbQ7bzjTP/olMEZL1tg/AuyhBe1d0T8cvCL6hTIEQJXks0+QwdA/pwFtGtCm0T8wNUWvhfj9P28KVZhm5Mo/VcV1wCai7j/C1wAEUwrRPxxdR/m90dU/qtJL4vNw4T+5TraYfDvxP82euySz5wpAGcMHBAdr4T+Jg/etkdX5PxKfUlPuvSdAn7S/Xwac/D9EuYHo11EVQA+EYsUN9fg/Z2ZmZmZm0j9vOqp8vXPQPzkovLxJri5AYOkkB5ZOFkBepM96vB/XP3qsSmk1hss/KUsMUKbDLECBWwT0YLUEQCzdG1AmrsQ/dnV1dXV15T9HEiUuRJ7dPw102kCnDShA4CyIa1tC1D9iatTTcBXlP9zLOThD9g5AtnAhOkPo1T8Y86kX86nXP0HWf/imAA5AKoAZV2X2BEAmiq6FxaHJP2AbmlCpwghA",
                    "dtype": "f8"
                  },
                  "yaxis": "y"
                },
                {
                  "hovertemplate": "Race=Asian<br>Geographic area=%{x}<br>Share=%{y}<extra></extra>",
                  "legendgroup": "Asian",
                  "marker": {
                    "color": "#ab63fa",
                    "pattern": {
                      "shape": ""
                    }
                  },
                  "name": "Asian",
                  "orientation": "v",
                  "showlegend": true,
                  "textposition": "auto",
                  "type": "bar",
                  "x": [
                    "AK",
                    "AL",
                    "AR",
                    "AZ",
                    "CA",
                    "CO",
                    "CT",
                    "DC",
                    "DE",
                    "FL",
                    "GA",
                    "HI",
                    "IA",
                    "ID",
                    "IL",
                    "IN",
                    "KS",
                    "KY",
                    "LA",
                    "MA",
                    "MD",
                    "ME",
                    "MI",
                    "MN",
                    "MO",
                    "MS",
                    "MT",
                    "NC",
                    "ND",
                    "NE",
                    "NH",
                    "NJ",
                    "NM",
                    "NV",
                    "NY",
                    "OH",
                    "OK",
                    "OR",
                    "PA",
                    "RI",
                    "SC",
                    "SD",
                    "TN",
                    "TX",
                    "UT",
                    "VA",
                    "VT",
                    "WA",
                    "WI",
                    "WV",
                    "WY"
                  ],
                  "xaxis": "x",
                  "y": {
                    "bdata": "9w1r37A29j/xSqX/WbTeP4EDq2F4iN4/QOcFdF5A5z/gLhO+10UWQBfGWjoTevI/1/i7eYTqB0AAAAAAAAAMQAAAAAAAAABACxi22Sne+T9utKVHUt33P31r8eirpzlASG8THZem2T+QD3UX6DXfP923YXU2ZvU/x4JxLBjH4j+WwbU2yUnbP3+ptu/mwOY/qNpMwsEq6T+xCa669tMGQHUd5fdG1wdAfdGYd1KD8D8kRvMKu4juP/Q+i7BWafA/fLuI5GeY4T/5V0ER63nhP/WsT8jsaNQ/O/1Xltqj7T8L/CI2+MjSPyIa3t9urtI/vLu7u7t79T9E6Yn0cccXQKb8moUknN8/neTA0kkOAEDuOIZrN8EFQNB67kY/DOg/GHTidjpL2z9KNHCLgB72P4PDXBXope8/AwMDAwMD+z+uR+F6FK7nP5RFWZRFWdQ/7tHBqLpk5D9YSZ6xdDzwPzVZXEbgqug/3JkwTS9aDUCNaB+NaB/tPzfY2SSfmAhA8PS+RVtO6T+huPLHWtXVP6bBEnNF79g/",
                    "dtype": "f8"
                  },
                  "yaxis": "y"
                },
                {
                  "hovertemplate": "Race=Hispanic<br>Geographic area=%{x}<br>Share=%{y}<extra></extra>",
                  "legendgroup": "Hispanic",
                  "marker": {
                    "color": "#FFA15A",
                    "pattern": {
                      "shape": ""
                    }
                  },
                  "name": "Hispanic",
                  "orientation": "v",
                  "showlegend": true,
                  "textposition": "auto",
                  "type": "bar",
                  "x": [
                    "AK",
                    "AL",
                    "AR",
                    "AZ",
                    "CA",
                    "CO",
                    "CT",
                    "DC",
                    "DE",
                    "FL",
                    "GA",
                    "HI",
                    "IA",
                    "ID",
                    "IL",
                    "IN",
                    "KS",
                    "KY",
                    "LA",
                    "MA",
                    "MD",
                    "ME",
                    "MI",
                    "MN",
                    "MO",
                    "MS",
                    "MT",
                    "NC",
                    "ND",
                    "NE",
                    "NH",
                    "NJ",
                    "NM",
                    "NV",
                    "NY",
                    "OH",
                    "OK",
                    "OR",
                    "PA",
                    "RI",
                    "SC",
                    "SD",
                    "TN",
                    "TX",
                    "UT",
                    "VA",
                    "VT",
                    "WA",
                    "WI",
                    "WV",
                    "WY"
                  ],
                  "xaxis": "x",
                  "y": {
                    "bdata": "0UUXXXQxAUDmfBOqQNcHQFSXMbSQFxFAJSZQYgIlNEDxBQzBXaY9QGiwg4sQ5jFA+0xb4+/mH0AzMzMzMzMiQLMCYaQdqx1AprWYF3WHMECjNtrSI6kZQCdErTtwtyRAcefT8F6NBkC8sdQ/62MlQAx/QKKcrhRAjC666KKLCkC/TmiLZ0kUQCb+Um3fzQFANrmlafDPB0DGKgv1y8gTQJ3LZojSuRdApORZRvQB9T/VMDs4gkgMQNlSW5gcOwlA54Q53CbrAkBpnlALGJMCQMkLLAZUiQFA21AfhMOmGUAim73nxSr9P4FK+UbbRxBAq6qqqqrq+z/vo0Nw8T4mQK9Wnuqet0ZAfY4FyudYKkBQPiHcSIQaQMNnXnUOCwFAzlos9SrJFkBvTijRwI0jQMQ93MM93AVAq6urq6urGkA+2SyK2uYRQIfRflOeSwBAxueqaHPZBkD3QSUytK5DQHkT3lMbpx5AbqSC1KGcGECmyhOmyhP2P6gegmGFNyVA0vLe6haWCkAkyyV4h+/sP5Byjt8/EhhA",
                    "dtype": "f8"
                  },
                  "yaxis": "y"
                }
              ],
              "layout": {
                "barmode": "relative",
                "legend": {
                  "title": {
                    "text": "Race"
                  },
                  "tracegroupgap": 0
                },
                "margin": {
                  "t": 60
                },
                "template": {
                  "data": {
                    "bar": [
                      {
                        "error_x": {
                          "color": "#f2f5fa"
                        },
                        "error_y": {
                          "color": "#f2f5fa"
                        },
                        "marker": {
                          "line": {
                            "color": "rgb(17,17,17)",
                            "width": 0.5
                          },
                          "pattern": {
                            "fillmode": "overlay",
                            "size": 10,
                            "solidity": 0.2
                          }
                        },
                        "type": "bar"
                      }
                    ],
                    "barpolar": [
                      {
                        "marker": {
                          "line": {
                            "color": "rgb(17,17,17)",
                            "width": 0.5
                          },
                          "pattern": {
                            "fillmode": "overlay",
                            "size": 10,
                            "solidity": 0.2
                          }
                        },
                        "type": "barpolar"
                      }
                    ],
                    "carpet": [
                      {
                        "aaxis": {
                          "endlinecolor": "#A2B1C6",
                          "gridcolor": "#506784",
                          "linecolor": "#506784",
                          "minorgridcolor": "#506784",
                          "startlinecolor": "#A2B1C6"
                        },
                        "baxis": {
                          "endlinecolor": "#A2B1C6",
                          "gridcolor": "#506784",
                          "linecolor": "#506784",
                          "minorgridcolor": "#506784",
                          "startlinecolor": "#A2B1C6"
                        },
                        "type": "carpet"
                      }
                    ],
                    "choropleth": [
                      {
                        "colorbar": {
                          "outlinewidth": 0,
                          "ticks": ""
                        },
                        "type": "choropleth"
                      }
                    ],
                    "contour": [
                      {
                        "colorbar": {
                          "outlinewidth": 0,
                          "ticks": ""
                        },
                        "colorscale": [
                          [
                            0,
                            "#0d0887"
                          ],
                          [
                            0.1111111111111111,
                            "#46039f"
                          ],
                          [
                            0.2222222222222222,
                            "#7201a8"
                          ],
                          [
                            0.3333333333333333,
                            "#9c179e"
                          ],
                          [
                            0.4444444444444444,
                            "#bd3786"
                          ],
                          [
                            0.5555555555555556,
                            "#d8576b"
                          ],
                          [
                            0.6666666666666666,
                            "#ed7953"
                          ],
                          [
                            0.7777777777777778,
                            "#fb9f3a"
                          ],
                          [
                            0.8888888888888888,
                            "#fdca26"
                          ],
                          [
                            1,
                            "#f0f921"
                          ]
                        ],
                        "type": "contour"
                      }
                    ],
                    "contourcarpet": [
                      {
                        "colorbar": {
                          "outlinewidth": 0,
                          "ticks": ""
                        },
                        "type": "contourcarpet"
                      }
                    ],
                    "heatmap": [
                      {
                        "colorbar": {
                          "outlinewidth": 0,
                          "ticks": ""
                        },
                        "colorscale": [
                          [
                            0,
                            "#0d0887"
                          ],
                          [
                            0.1111111111111111,
                            "#46039f"
                          ],
                          [
                            0.2222222222222222,
                            "#7201a8"
                          ],
                          [
                            0.3333333333333333,
                            "#9c179e"
                          ],
                          [
                            0.4444444444444444,
                            "#bd3786"
                          ],
                          [
                            0.5555555555555556,
                            "#d8576b"
                          ],
                          [
                            0.6666666666666666,
                            "#ed7953"
                          ],
                          [
                            0.7777777777777778,
                            "#fb9f3a"
                          ],
                          [
                            0.8888888888888888,
                            "#fdca26"
                          ],
                          [
                            1,
                            "#f0f921"
                          ]
                        ],
                        "type": "heatmap"
                      }
                    ],
                    "histogram": [
                      {
                        "marker": {
                          "pattern": {
                            "fillmode": "overlay",
                            "size": 10,
                            "solidity": 0.2
                          }
                        },
                        "type": "histogram"
                      }
                    ],
                    "histogram2d": [
                      {
                        "colorbar": {
                          "outlinewidth": 0,
                          "ticks": ""
                        },
                        "colorscale": [
                          [
                            0,
                            "#0d0887"
                          ],
                          [
                            0.1111111111111111,
                            "#46039f"
                          ],
                          [
                            0.2222222222222222,
                            "#7201a8"
                          ],
                          [
                            0.3333333333333333,
                            "#9c179e"
                          ],
                          [
                            0.4444444444444444,
                            "#bd3786"
                          ],
                          [
                            0.5555555555555556,
                            "#d8576b"
                          ],
                          [
                            0.6666666666666666,
                            "#ed7953"
                          ],
                          [
                            0.7777777777777778,
                            "#fb9f3a"
                          ],
                          [
                            0.8888888888888888,
                            "#fdca26"
                          ],
                          [
                            1,
                            "#f0f921"
                          ]
                        ],
                        "type": "histogram2d"
                      }
                    ],
                    "histogram2dcontour": [
                      {
                        "colorbar": {
                          "outlinewidth": 0,
                          "ticks": ""
                        },
                        "colorscale": [
                          [
                            0,
                            "#0d0887"
                          ],
                          [
                            0.1111111111111111,
                            "#46039f"
                          ],
                          [
                            0.2222222222222222,
                            "#7201a8"
                          ],
                          [
                            0.3333333333333333,
                            "#9c179e"
                          ],
                          [
                            0.4444444444444444,
                            "#bd3786"
                          ],
                          [
                            0.5555555555555556,
                            "#d8576b"
                          ],
                          [
                            0.6666666666666666,
                            "#ed7953"
                          ],
                          [
                            0.7777777777777778,
                            "#fb9f3a"
                          ],
                          [
                            0.8888888888888888,
                            "#fdca26"
                          ],
                          [
                            1,
                            "#f0f921"
                          ]
                        ],
                        "type": "histogram2dcontour"
                      }
                    ],
                    "mesh3d": [
                      {
                        "colorbar": {
                          "outlinewidth": 0,
                          "ticks": ""
                        },
                        "type": "mesh3d"
                      }
                    ],
                    "parcoords": [
                      {
                        "line": {
                          "colorbar": {
                            "outlinewidth": 0,
                            "ticks": ""
                          }
                        },
                        "type": "parcoords"
                      }
                    ],
                    "pie": [
                      {
                        "automargin": true,
                        "type": "pie"
                      }
                    ],
                    "scatter": [
                      {
                        "marker": {
                          "line": {
                            "color": "#283442"
                          }
                        },
                        "type": "scatter"
                      }
                    ],
                    "scatter3d": [
                      {
                        "line": {
                          "colorbar": {
                            "outlinewidth": 0,
                            "ticks": ""
                          }
                        },
                        "marker": {
                          "colorbar": {
                            "outlinewidth": 0,
                            "ticks": ""
                          }
                        },
                        "type": "scatter3d"
                      }
                    ],
                    "scattercarpet": [
                      {
                        "marker": {
                          "colorbar": {
                            "outlinewidth": 0,
                            "ticks": ""
                          }
                        },
                        "type": "scattercarpet"
                      }
                    ],
                    "scattergeo": [
                      {
                        "marker": {
                          "colorbar": {
                            "outlinewidth": 0,
                            "ticks": ""
                          }
                        },
                        "type": "scattergeo"
                      }
                    ],
                    "scattergl": [
                      {
                        "marker": {
                          "line": {
                            "color": "#283442"
                          }
                        },
                        "type": "scattergl"
                      }
                    ],
                    "scattermap": [
                      {
                        "marker": {
                          "colorbar": {
                            "outlinewidth": 0,
                            "ticks": ""
                          }
                        },
                        "type": "scattermap"
                      }
                    ],
                    "scattermapbox": [
                      {
                        "marker": {
                          "colorbar": {
                            "outlinewidth": 0,
                            "ticks": ""
                          }
                        },
                        "type": "scattermapbox"
                      }
                    ],
                    "scatterpolar": [
                      {
                        "marker": {
                          "colorbar": {
                            "outlinewidth": 0,
                            "ticks": ""
                          }
                        },
                        "type": "scatterpolar"
                      }
                    ],
                    "scatterpolargl": [
                      {
                        "marker": {
                          "colorbar": {
                            "outlinewidth": 0,
                            "ticks": ""
                          }
                        },
                        "type": "scatterpolargl"
                      }
                    ],
                    "scatterternary": [
                      {
                        "marker": {
                          "colorbar": {
                            "outlinewidth": 0,
                            "ticks": ""
                          }
                        },
                        "type": "scatterternary"
                      }
                    ],
                    "surface": [
                      {
                        "colorbar": {
                          "outlinewidth": 0,
                          "ticks": ""
                        },
                        "colorscale": [
                          [
                            0,
                            "#0d0887"
                          ],
                          [
                            0.1111111111111111,
                            "#46039f"
                          ],
                          [
                            0.2222222222222222,
                            "#7201a8"
                          ],
                          [
                            0.3333333333333333,
                            "#9c179e"
                          ],
                          [
                            0.4444444444444444,
                            "#bd3786"
                          ],
                          [
                            0.5555555555555556,
                            "#d8576b"
                          ],
                          [
                            0.6666666666666666,
                            "#ed7953"
                          ],
                          [
                            0.7777777777777778,
                            "#fb9f3a"
                          ],
                          [
                            0.8888888888888888,
                            "#fdca26"
                          ],
                          [
                            1,
                            "#f0f921"
                          ]
                        ],
                        "type": "surface"
                      }
                    ],
                    "table": [
                      {
                        "cells": {
                          "fill": {
                            "color": "#506784"
                          },
                          "line": {
                            "color": "rgb(17,17,17)"
                          }
                        },
                        "header": {
                          "fill": {
                            "color": "#2a3f5f"
                          },
                          "line": {
                            "color": "rgb(17,17,17)"
                          }
                        },
                        "type": "table"
                      }
                    ]
                  },
                  "layout": {
                    "annotationdefaults": {
                      "arrowcolor": "#f2f5fa",
                      "arrowhead": 0,
                      "arrowwidth": 1
                    },
                    "autotypenumbers": "strict",
                    "coloraxis": {
                      "colorbar": {
                        "outlinewidth": 0,
                        "ticks": ""
                      }
                    },
                    "colorscale": {
                      "diverging": [
                        [
                          0,
                          "#8e0152"
                        ],
                        [
                          0.1,
                          "#c51b7d"
                        ],
                        [
                          0.2,
                          "#de77ae"
                        ],
                        [
                          0.3,
                          "#f1b6da"
                        ],
                        [
                          0.4,
                          "#fde0ef"
                        ],
                        [
                          0.5,
                          "#f7f7f7"
                        ],
                        [
                          0.6,
                          "#e6f5d0"
                        ],
                        [
                          0.7,
                          "#b8e186"
                        ],
                        [
                          0.8,
                          "#7fbc41"
                        ],
                        [
                          0.9,
                          "#4d9221"
                        ],
                        [
                          1,
                          "#276419"
                        ]
                      ],
                      "sequential": [
                        [
                          0,
                          "#0d0887"
                        ],
                        [
                          0.1111111111111111,
                          "#46039f"
                        ],
                        [
                          0.2222222222222222,
                          "#7201a8"
                        ],
                        [
                          0.3333333333333333,
                          "#9c179e"
                        ],
                        [
                          0.4444444444444444,
                          "#bd3786"
                        ],
                        [
                          0.5555555555555556,
                          "#d8576b"
                        ],
                        [
                          0.6666666666666666,
                          "#ed7953"
                        ],
                        [
                          0.7777777777777778,
                          "#fb9f3a"
                        ],
                        [
                          0.8888888888888888,
                          "#fdca26"
                        ],
                        [
                          1,
                          "#f0f921"
                        ]
                      ],
                      "sequentialminus": [
                        [
                          0,
                          "#0d0887"
                        ],
                        [
                          0.1111111111111111,
                          "#46039f"
                        ],
                        [
                          0.2222222222222222,
                          "#7201a8"
                        ],
                        [
                          0.3333333333333333,
                          "#9c179e"
                        ],
                        [
                          0.4444444444444444,
                          "#bd3786"
                        ],
                        [
                          0.5555555555555556,
                          "#d8576b"
                        ],
                        [
                          0.6666666666666666,
                          "#ed7953"
                        ],
                        [
                          0.7777777777777778,
                          "#fb9f3a"
                        ],
                        [
                          0.8888888888888888,
                          "#fdca26"
                        ],
                        [
                          1,
                          "#f0f921"
                        ]
                      ]
                    },
                    "colorway": [
                      "#636efa",
                      "#EF553B",
                      "#00cc96",
                      "#ab63fa",
                      "#FFA15A",
                      "#19d3f3",
                      "#FF6692",
                      "#B6E880",
                      "#FF97FF",
                      "#FECB52"
                    ],
                    "font": {
                      "color": "#f2f5fa"
                    },
                    "geo": {
                      "bgcolor": "rgb(17,17,17)",
                      "lakecolor": "rgb(17,17,17)",
                      "landcolor": "rgb(17,17,17)",
                      "showlakes": true,
                      "showland": true,
                      "subunitcolor": "#506784"
                    },
                    "hoverlabel": {
                      "align": "left"
                    },
                    "hovermode": "closest",
                    "mapbox": {
                      "style": "dark"
                    },
                    "paper_bgcolor": "rgb(17,17,17)",
                    "plot_bgcolor": "rgb(17,17,17)",
                    "polar": {
                      "angularaxis": {
                        "gridcolor": "#506784",
                        "linecolor": "#506784",
                        "ticks": ""
                      },
                      "bgcolor": "rgb(17,17,17)",
                      "radialaxis": {
                        "gridcolor": "#506784",
                        "linecolor": "#506784",
                        "ticks": ""
                      }
                    },
                    "scene": {
                      "xaxis": {
                        "backgroundcolor": "rgb(17,17,17)",
                        "gridcolor": "#506784",
                        "gridwidth": 2,
                        "linecolor": "#506784",
                        "showbackground": true,
                        "ticks": "",
                        "zerolinecolor": "#C8D4E3"
                      },
                      "yaxis": {
                        "backgroundcolor": "rgb(17,17,17)",
                        "gridcolor": "#506784",
                        "gridwidth": 2,
                        "linecolor": "#506784",
                        "showbackground": true,
                        "ticks": "",
                        "zerolinecolor": "#C8D4E3"
                      },
                      "zaxis": {
                        "backgroundcolor": "rgb(17,17,17)",
                        "gridcolor": "#506784",
                        "gridwidth": 2,
                        "linecolor": "#506784",
                        "showbackground": true,
                        "ticks": "",
                        "zerolinecolor": "#C8D4E3"
                      }
                    },
                    "shapedefaults": {
                      "line": {
                        "color": "#f2f5fa"
                      }
                    },
                    "sliderdefaults": {
                      "bgcolor": "#C8D4E3",
                      "bordercolor": "rgb(17,17,17)",
                      "borderwidth": 1,
                      "tickwidth": 0
                    },
                    "ternary": {
                      "aaxis": {
                        "gridcolor": "#506784",
                        "linecolor": "#506784",
                        "ticks": ""
                      },
                      "baxis": {
                        "gridcolor": "#506784",
                        "linecolor": "#506784",
                        "ticks": ""
                      },
                      "bgcolor": "rgb(17,17,17)",
                      "caxis": {
                        "gridcolor": "#506784",
                        "linecolor": "#506784",
                        "ticks": ""
                      }
                    },
                    "title": {
                      "x": 0.05
                    },
                    "updatemenudefaults": {
                      "bgcolor": "#506784",
                      "borderwidth": 0
                    },
                    "xaxis": {
                      "automargin": true,
                      "gridcolor": "#283442",
                      "linecolor": "#506784",
                      "ticks": "",
                      "title": {
                        "standoff": 15
                      },
                      "zerolinecolor": "#283442",
                      "zerolinewidth": 2
                    },
                    "yaxis": {
                      "automargin": true,
                      "gridcolor": "#283442",
                      "linecolor": "#506784",
                      "ticks": "",
                      "title": {
                        "standoff": 15
                      },
                      "zerolinecolor": "#283442",
                      "zerolinewidth": 2
                    }
                  }
                },
                "xaxis": {
                  "anchor": "y",
                  "domain": [
                    0,
                    1
                  ],
                  "title": {
                    "text": "Geographic area"
                  }
                },
                "yaxis": {
                  "anchor": "x",
                  "domain": [
                    0,
                    1
                  ],
                  "title": {
                    "text": "Share"
                  }
                }
              }
            }
          },
          "metadata": {},
          "output_type": "display_data"
        }
      ],
      "source": [
        "fig = px.bar(df_state_avg,x='Geographic area',y='Share',color='Race')\n",
        "\n",
        "fig.layout.template = 'plotly_dark'\n",
        "fig.show()"
      ]
    },
    {
      "cell_type": "markdown",
      "metadata": {
        "_uuid": "77493cfd86a031612be8fb8d60f27713e74e6d80",
        "id": "K7xvQXkjuRo7"
      },
      "source": [
        "# Create Donut Chart by of People Killed by Race\n",
        "\n",
        "Hint: Use `.value_counts()`"
      ]
    },
    {
      "cell_type": "code",
      "execution_count": 72,
      "metadata": {
        "id": "1nOafPdy1u9Z"
      },
      "outputs": [
        {
          "data": {
            "application/vnd.microsoft.datawrangler.viewer.v0+json": {
              "columns": [
                {
                  "name": "index",
                  "rawType": "int64",
                  "type": "integer"
                },
                {
                  "name": "id",
                  "rawType": "int64",
                  "type": "integer"
                },
                {
                  "name": "name",
                  "rawType": "object",
                  "type": "string"
                },
                {
                  "name": "date",
                  "rawType": "object",
                  "type": "string"
                },
                {
                  "name": "manner_of_death",
                  "rawType": "object",
                  "type": "string"
                },
                {
                  "name": "armed",
                  "rawType": "object",
                  "type": "string"
                },
                {
                  "name": "age",
                  "rawType": "float64",
                  "type": "float"
                },
                {
                  "name": "gender",
                  "rawType": "object",
                  "type": "string"
                },
                {
                  "name": "race",
                  "rawType": "object",
                  "type": "string"
                },
                {
                  "name": "city",
                  "rawType": "object",
                  "type": "string"
                },
                {
                  "name": "state",
                  "rawType": "object",
                  "type": "string"
                },
                {
                  "name": "signs_of_mental_illness",
                  "rawType": "bool",
                  "type": "boolean"
                },
                {
                  "name": "threat_level",
                  "rawType": "object",
                  "type": "string"
                },
                {
                  "name": "flee",
                  "rawType": "object",
                  "type": "string"
                },
                {
                  "name": "body_camera",
                  "rawType": "bool",
                  "type": "boolean"
                }
              ],
              "conversionMethod": "pd.DataFrame",
              "ref": "fab4d11f-1b4a-4fba-a5c8-2f8294a87475",
              "rows": [
                [
                  "0",
                  "3",
                  "Tim Elliot",
                  "02/01/15",
                  "shot",
                  "gun",
                  "53.0",
                  "M",
                  "A",
                  "Shelton",
                  "WA",
                  "True",
                  "attack",
                  "Not fleeing",
                  "False"
                ],
                [
                  "1",
                  "4",
                  "Lewis Lee Lembke",
                  "02/01/15",
                  "shot",
                  "gun",
                  "47.0",
                  "M",
                  "W",
                  "Aloha",
                  "OR",
                  "False",
                  "attack",
                  "Not fleeing",
                  "False"
                ],
                [
                  "2",
                  "5",
                  "John Paul Quintero",
                  "03/01/15",
                  "shot and Tasered",
                  "unarmed",
                  "23.0",
                  "M",
                  "H",
                  "Wichita",
                  "KS",
                  "False",
                  "other",
                  "Not fleeing",
                  "False"
                ],
                [
                  "3",
                  "8",
                  "Matthew Hoffman",
                  "04/01/15",
                  "shot",
                  "toy weapon",
                  "32.0",
                  "M",
                  "W",
                  "San Francisco",
                  "CA",
                  "True",
                  "attack",
                  "Not fleeing",
                  "False"
                ],
                [
                  "4",
                  "9",
                  "Michael Rodriguez",
                  "04/01/15",
                  "shot",
                  "nail gun",
                  "39.0",
                  "M",
                  "H",
                  "Evans",
                  "CO",
                  "False",
                  "attack",
                  "Not fleeing",
                  "False"
                ]
              ],
              "shape": {
                "columns": 14,
                "rows": 5
              }
            },
            "text/html": [
              "<div>\n",
              "<style scoped>\n",
              "    .dataframe tbody tr th:only-of-type {\n",
              "        vertical-align: middle;\n",
              "    }\n",
              "\n",
              "    .dataframe tbody tr th {\n",
              "        vertical-align: top;\n",
              "    }\n",
              "\n",
              "    .dataframe thead th {\n",
              "        text-align: right;\n",
              "    }\n",
              "</style>\n",
              "<table border=\"1\" class=\"dataframe\">\n",
              "  <thead>\n",
              "    <tr style=\"text-align: right;\">\n",
              "      <th></th>\n",
              "      <th>id</th>\n",
              "      <th>name</th>\n",
              "      <th>date</th>\n",
              "      <th>manner_of_death</th>\n",
              "      <th>armed</th>\n",
              "      <th>age</th>\n",
              "      <th>gender</th>\n",
              "      <th>race</th>\n",
              "      <th>city</th>\n",
              "      <th>state</th>\n",
              "      <th>signs_of_mental_illness</th>\n",
              "      <th>threat_level</th>\n",
              "      <th>flee</th>\n",
              "      <th>body_camera</th>\n",
              "    </tr>\n",
              "  </thead>\n",
              "  <tbody>\n",
              "    <tr>\n",
              "      <th>0</th>\n",
              "      <td>3</td>\n",
              "      <td>Tim Elliot</td>\n",
              "      <td>02/01/15</td>\n",
              "      <td>shot</td>\n",
              "      <td>gun</td>\n",
              "      <td>53.00</td>\n",
              "      <td>M</td>\n",
              "      <td>A</td>\n",
              "      <td>Shelton</td>\n",
              "      <td>WA</td>\n",
              "      <td>True</td>\n",
              "      <td>attack</td>\n",
              "      <td>Not fleeing</td>\n",
              "      <td>False</td>\n",
              "    </tr>\n",
              "    <tr>\n",
              "      <th>1</th>\n",
              "      <td>4</td>\n",
              "      <td>Lewis Lee Lembke</td>\n",
              "      <td>02/01/15</td>\n",
              "      <td>shot</td>\n",
              "      <td>gun</td>\n",
              "      <td>47.00</td>\n",
              "      <td>M</td>\n",
              "      <td>W</td>\n",
              "      <td>Aloha</td>\n",
              "      <td>OR</td>\n",
              "      <td>False</td>\n",
              "      <td>attack</td>\n",
              "      <td>Not fleeing</td>\n",
              "      <td>False</td>\n",
              "    </tr>\n",
              "    <tr>\n",
              "      <th>2</th>\n",
              "      <td>5</td>\n",
              "      <td>John Paul Quintero</td>\n",
              "      <td>03/01/15</td>\n",
              "      <td>shot and Tasered</td>\n",
              "      <td>unarmed</td>\n",
              "      <td>23.00</td>\n",
              "      <td>M</td>\n",
              "      <td>H</td>\n",
              "      <td>Wichita</td>\n",
              "      <td>KS</td>\n",
              "      <td>False</td>\n",
              "      <td>other</td>\n",
              "      <td>Not fleeing</td>\n",
              "      <td>False</td>\n",
              "    </tr>\n",
              "    <tr>\n",
              "      <th>3</th>\n",
              "      <td>8</td>\n",
              "      <td>Matthew Hoffman</td>\n",
              "      <td>04/01/15</td>\n",
              "      <td>shot</td>\n",
              "      <td>toy weapon</td>\n",
              "      <td>32.00</td>\n",
              "      <td>M</td>\n",
              "      <td>W</td>\n",
              "      <td>San Francisco</td>\n",
              "      <td>CA</td>\n",
              "      <td>True</td>\n",
              "      <td>attack</td>\n",
              "      <td>Not fleeing</td>\n",
              "      <td>False</td>\n",
              "    </tr>\n",
              "    <tr>\n",
              "      <th>4</th>\n",
              "      <td>9</td>\n",
              "      <td>Michael Rodriguez</td>\n",
              "      <td>04/01/15</td>\n",
              "      <td>shot</td>\n",
              "      <td>nail gun</td>\n",
              "      <td>39.00</td>\n",
              "      <td>M</td>\n",
              "      <td>H</td>\n",
              "      <td>Evans</td>\n",
              "      <td>CO</td>\n",
              "      <td>False</td>\n",
              "      <td>attack</td>\n",
              "      <td>Not fleeing</td>\n",
              "      <td>False</td>\n",
              "    </tr>\n",
              "  </tbody>\n",
              "</table>\n",
              "</div>"
            ],
            "text/plain": [
              "   id                name      date   manner_of_death       armed   age  \\\n",
              "0   3          Tim Elliot  02/01/15              shot         gun 53.00   \n",
              "1   4    Lewis Lee Lembke  02/01/15              shot         gun 47.00   \n",
              "2   5  John Paul Quintero  03/01/15  shot and Tasered     unarmed 23.00   \n",
              "3   8     Matthew Hoffman  04/01/15              shot  toy weapon 32.00   \n",
              "4   9   Michael Rodriguez  04/01/15              shot    nail gun 39.00   \n",
              "\n",
              "  gender race           city state  signs_of_mental_illness threat_level  \\\n",
              "0      M    A        Shelton    WA                     True       attack   \n",
              "1      M    W          Aloha    OR                    False       attack   \n",
              "2      M    H        Wichita    KS                    False        other   \n",
              "3      M    W  San Francisco    CA                     True       attack   \n",
              "4      M    H          Evans    CO                    False       attack   \n",
              "\n",
              "          flee  body_camera  \n",
              "0  Not fleeing        False  \n",
              "1  Not fleeing        False  \n",
              "2  Not fleeing        False  \n",
              "3  Not fleeing        False  \n",
              "4  Not fleeing        False  "
            ]
          },
          "execution_count": 72,
          "metadata": {},
          "output_type": "execute_result"
        }
      ],
      "source": [
        "df_fatalities.head()"
      ]
    },
    {
      "cell_type": "code",
      "execution_count": 73,
      "metadata": {
        "id": "YN3hzJTe1vHJ"
      },
      "outputs": [
        {
          "data": {
            "application/vnd.microsoft.datawrangler.viewer.v0+json": {
              "columns": [
                {
                  "name": "index",
                  "rawType": "int64",
                  "type": "integer"
                },
                {
                  "name": "race",
                  "rawType": "object",
                  "type": "string"
                },
                {
                  "name": "count",
                  "rawType": "int64",
                  "type": "integer"
                }
              ],
              "conversionMethod": "pd.DataFrame",
              "ref": "3849a967-3de4-4a82-9986-2bbddd1d8bc6",
              "rows": [
                [
                  "0",
                  "W",
                  "1201"
                ],
                [
                  "1",
                  "B",
                  "618"
                ],
                [
                  "2",
                  "H",
                  "423"
                ],
                [
                  "3",
                  "A",
                  "39"
                ],
                [
                  "4",
                  "N",
                  "31"
                ]
              ],
              "shape": {
                "columns": 2,
                "rows": 5
              }
            },
            "text/html": [
              "<div>\n",
              "<style scoped>\n",
              "    .dataframe tbody tr th:only-of-type {\n",
              "        vertical-align: middle;\n",
              "    }\n",
              "\n",
              "    .dataframe tbody tr th {\n",
              "        vertical-align: top;\n",
              "    }\n",
              "\n",
              "    .dataframe thead th {\n",
              "        text-align: right;\n",
              "    }\n",
              "</style>\n",
              "<table border=\"1\" class=\"dataframe\">\n",
              "  <thead>\n",
              "    <tr style=\"text-align: right;\">\n",
              "      <th></th>\n",
              "      <th>race</th>\n",
              "      <th>count</th>\n",
              "    </tr>\n",
              "  </thead>\n",
              "  <tbody>\n",
              "    <tr>\n",
              "      <th>0</th>\n",
              "      <td>W</td>\n",
              "      <td>1201</td>\n",
              "    </tr>\n",
              "    <tr>\n",
              "      <th>1</th>\n",
              "      <td>B</td>\n",
              "      <td>618</td>\n",
              "    </tr>\n",
              "    <tr>\n",
              "      <th>2</th>\n",
              "      <td>H</td>\n",
              "      <td>423</td>\n",
              "    </tr>\n",
              "    <tr>\n",
              "      <th>3</th>\n",
              "      <td>A</td>\n",
              "      <td>39</td>\n",
              "    </tr>\n",
              "    <tr>\n",
              "      <th>4</th>\n",
              "      <td>N</td>\n",
              "      <td>31</td>\n",
              "    </tr>\n",
              "  </tbody>\n",
              "</table>\n",
              "</div>"
            ],
            "text/plain": [
              "  race  count\n",
              "0    W   1201\n",
              "1    B    618\n",
              "2    H    423\n",
              "3    A     39\n",
              "4    N     31"
            ]
          },
          "execution_count": 73,
          "metadata": {},
          "output_type": "execute_result"
        }
      ],
      "source": [
        "df_killed_race = df_fatalities['race'].value_counts().reset_index(name='count')\n",
        "df_killed_race.head()"
      ]
    },
    {
      "cell_type": "code",
      "execution_count": 74,
      "metadata": {},
      "outputs": [
        {
          "data": {
            "application/vnd.plotly.v1+json": {
              "config": {
                "plotlyServerURL": "https://plot.ly"
              },
              "data": [
                {
                  "domain": {
                    "x": [
                      0,
                      1
                    ],
                    "y": [
                      0,
                      1
                    ]
                  },
                  "hole": 0.4,
                  "hovertemplate": "race=%{label}<br>count=%{value}<extra></extra>",
                  "labels": [
                    "White",
                    "Black",
                    "Hispanic",
                    "Asian",
                    "Native American"
                  ],
                  "legendgroup": "",
                  "name": "",
                  "showlegend": true,
                  "textfont": {
                    "size": 15
                  },
                  "type": "pie",
                  "values": {
                    "bdata": "sQRqAqcBJwAfABwA",
                    "dtype": "i2"
                  }
                }
              ],
              "layout": {
                "legend": {
                  "tracegroupgap": 0
                },
                "template": {
                  "data": {
                    "bar": [
                      {
                        "error_x": {
                          "color": "#f2f5fa"
                        },
                        "error_y": {
                          "color": "#f2f5fa"
                        },
                        "marker": {
                          "line": {
                            "color": "rgb(17,17,17)",
                            "width": 0.5
                          },
                          "pattern": {
                            "fillmode": "overlay",
                            "size": 10,
                            "solidity": 0.2
                          }
                        },
                        "type": "bar"
                      }
                    ],
                    "barpolar": [
                      {
                        "marker": {
                          "line": {
                            "color": "rgb(17,17,17)",
                            "width": 0.5
                          },
                          "pattern": {
                            "fillmode": "overlay",
                            "size": 10,
                            "solidity": 0.2
                          }
                        },
                        "type": "barpolar"
                      }
                    ],
                    "carpet": [
                      {
                        "aaxis": {
                          "endlinecolor": "#A2B1C6",
                          "gridcolor": "#506784",
                          "linecolor": "#506784",
                          "minorgridcolor": "#506784",
                          "startlinecolor": "#A2B1C6"
                        },
                        "baxis": {
                          "endlinecolor": "#A2B1C6",
                          "gridcolor": "#506784",
                          "linecolor": "#506784",
                          "minorgridcolor": "#506784",
                          "startlinecolor": "#A2B1C6"
                        },
                        "type": "carpet"
                      }
                    ],
                    "choropleth": [
                      {
                        "colorbar": {
                          "outlinewidth": 0,
                          "ticks": ""
                        },
                        "type": "choropleth"
                      }
                    ],
                    "contour": [
                      {
                        "colorbar": {
                          "outlinewidth": 0,
                          "ticks": ""
                        },
                        "colorscale": [
                          [
                            0,
                            "#0d0887"
                          ],
                          [
                            0.1111111111111111,
                            "#46039f"
                          ],
                          [
                            0.2222222222222222,
                            "#7201a8"
                          ],
                          [
                            0.3333333333333333,
                            "#9c179e"
                          ],
                          [
                            0.4444444444444444,
                            "#bd3786"
                          ],
                          [
                            0.5555555555555556,
                            "#d8576b"
                          ],
                          [
                            0.6666666666666666,
                            "#ed7953"
                          ],
                          [
                            0.7777777777777778,
                            "#fb9f3a"
                          ],
                          [
                            0.8888888888888888,
                            "#fdca26"
                          ],
                          [
                            1,
                            "#f0f921"
                          ]
                        ],
                        "type": "contour"
                      }
                    ],
                    "contourcarpet": [
                      {
                        "colorbar": {
                          "outlinewidth": 0,
                          "ticks": ""
                        },
                        "type": "contourcarpet"
                      }
                    ],
                    "heatmap": [
                      {
                        "colorbar": {
                          "outlinewidth": 0,
                          "ticks": ""
                        },
                        "colorscale": [
                          [
                            0,
                            "#0d0887"
                          ],
                          [
                            0.1111111111111111,
                            "#46039f"
                          ],
                          [
                            0.2222222222222222,
                            "#7201a8"
                          ],
                          [
                            0.3333333333333333,
                            "#9c179e"
                          ],
                          [
                            0.4444444444444444,
                            "#bd3786"
                          ],
                          [
                            0.5555555555555556,
                            "#d8576b"
                          ],
                          [
                            0.6666666666666666,
                            "#ed7953"
                          ],
                          [
                            0.7777777777777778,
                            "#fb9f3a"
                          ],
                          [
                            0.8888888888888888,
                            "#fdca26"
                          ],
                          [
                            1,
                            "#f0f921"
                          ]
                        ],
                        "type": "heatmap"
                      }
                    ],
                    "histogram": [
                      {
                        "marker": {
                          "pattern": {
                            "fillmode": "overlay",
                            "size": 10,
                            "solidity": 0.2
                          }
                        },
                        "type": "histogram"
                      }
                    ],
                    "histogram2d": [
                      {
                        "colorbar": {
                          "outlinewidth": 0,
                          "ticks": ""
                        },
                        "colorscale": [
                          [
                            0,
                            "#0d0887"
                          ],
                          [
                            0.1111111111111111,
                            "#46039f"
                          ],
                          [
                            0.2222222222222222,
                            "#7201a8"
                          ],
                          [
                            0.3333333333333333,
                            "#9c179e"
                          ],
                          [
                            0.4444444444444444,
                            "#bd3786"
                          ],
                          [
                            0.5555555555555556,
                            "#d8576b"
                          ],
                          [
                            0.6666666666666666,
                            "#ed7953"
                          ],
                          [
                            0.7777777777777778,
                            "#fb9f3a"
                          ],
                          [
                            0.8888888888888888,
                            "#fdca26"
                          ],
                          [
                            1,
                            "#f0f921"
                          ]
                        ],
                        "type": "histogram2d"
                      }
                    ],
                    "histogram2dcontour": [
                      {
                        "colorbar": {
                          "outlinewidth": 0,
                          "ticks": ""
                        },
                        "colorscale": [
                          [
                            0,
                            "#0d0887"
                          ],
                          [
                            0.1111111111111111,
                            "#46039f"
                          ],
                          [
                            0.2222222222222222,
                            "#7201a8"
                          ],
                          [
                            0.3333333333333333,
                            "#9c179e"
                          ],
                          [
                            0.4444444444444444,
                            "#bd3786"
                          ],
                          [
                            0.5555555555555556,
                            "#d8576b"
                          ],
                          [
                            0.6666666666666666,
                            "#ed7953"
                          ],
                          [
                            0.7777777777777778,
                            "#fb9f3a"
                          ],
                          [
                            0.8888888888888888,
                            "#fdca26"
                          ],
                          [
                            1,
                            "#f0f921"
                          ]
                        ],
                        "type": "histogram2dcontour"
                      }
                    ],
                    "mesh3d": [
                      {
                        "colorbar": {
                          "outlinewidth": 0,
                          "ticks": ""
                        },
                        "type": "mesh3d"
                      }
                    ],
                    "parcoords": [
                      {
                        "line": {
                          "colorbar": {
                            "outlinewidth": 0,
                            "ticks": ""
                          }
                        },
                        "type": "parcoords"
                      }
                    ],
                    "pie": [
                      {
                        "automargin": true,
                        "type": "pie"
                      }
                    ],
                    "scatter": [
                      {
                        "marker": {
                          "line": {
                            "color": "#283442"
                          }
                        },
                        "type": "scatter"
                      }
                    ],
                    "scatter3d": [
                      {
                        "line": {
                          "colorbar": {
                            "outlinewidth": 0,
                            "ticks": ""
                          }
                        },
                        "marker": {
                          "colorbar": {
                            "outlinewidth": 0,
                            "ticks": ""
                          }
                        },
                        "type": "scatter3d"
                      }
                    ],
                    "scattercarpet": [
                      {
                        "marker": {
                          "colorbar": {
                            "outlinewidth": 0,
                            "ticks": ""
                          }
                        },
                        "type": "scattercarpet"
                      }
                    ],
                    "scattergeo": [
                      {
                        "marker": {
                          "colorbar": {
                            "outlinewidth": 0,
                            "ticks": ""
                          }
                        },
                        "type": "scattergeo"
                      }
                    ],
                    "scattergl": [
                      {
                        "marker": {
                          "line": {
                            "color": "#283442"
                          }
                        },
                        "type": "scattergl"
                      }
                    ],
                    "scattermap": [
                      {
                        "marker": {
                          "colorbar": {
                            "outlinewidth": 0,
                            "ticks": ""
                          }
                        },
                        "type": "scattermap"
                      }
                    ],
                    "scattermapbox": [
                      {
                        "marker": {
                          "colorbar": {
                            "outlinewidth": 0,
                            "ticks": ""
                          }
                        },
                        "type": "scattermapbox"
                      }
                    ],
                    "scatterpolar": [
                      {
                        "marker": {
                          "colorbar": {
                            "outlinewidth": 0,
                            "ticks": ""
                          }
                        },
                        "type": "scatterpolar"
                      }
                    ],
                    "scatterpolargl": [
                      {
                        "marker": {
                          "colorbar": {
                            "outlinewidth": 0,
                            "ticks": ""
                          }
                        },
                        "type": "scatterpolargl"
                      }
                    ],
                    "scatterternary": [
                      {
                        "marker": {
                          "colorbar": {
                            "outlinewidth": 0,
                            "ticks": ""
                          }
                        },
                        "type": "scatterternary"
                      }
                    ],
                    "surface": [
                      {
                        "colorbar": {
                          "outlinewidth": 0,
                          "ticks": ""
                        },
                        "colorscale": [
                          [
                            0,
                            "#0d0887"
                          ],
                          [
                            0.1111111111111111,
                            "#46039f"
                          ],
                          [
                            0.2222222222222222,
                            "#7201a8"
                          ],
                          [
                            0.3333333333333333,
                            "#9c179e"
                          ],
                          [
                            0.4444444444444444,
                            "#bd3786"
                          ],
                          [
                            0.5555555555555556,
                            "#d8576b"
                          ],
                          [
                            0.6666666666666666,
                            "#ed7953"
                          ],
                          [
                            0.7777777777777778,
                            "#fb9f3a"
                          ],
                          [
                            0.8888888888888888,
                            "#fdca26"
                          ],
                          [
                            1,
                            "#f0f921"
                          ]
                        ],
                        "type": "surface"
                      }
                    ],
                    "table": [
                      {
                        "cells": {
                          "fill": {
                            "color": "#506784"
                          },
                          "line": {
                            "color": "rgb(17,17,17)"
                          }
                        },
                        "header": {
                          "fill": {
                            "color": "#2a3f5f"
                          },
                          "line": {
                            "color": "rgb(17,17,17)"
                          }
                        },
                        "type": "table"
                      }
                    ]
                  },
                  "layout": {
                    "annotationdefaults": {
                      "arrowcolor": "#f2f5fa",
                      "arrowhead": 0,
                      "arrowwidth": 1
                    },
                    "autotypenumbers": "strict",
                    "coloraxis": {
                      "colorbar": {
                        "outlinewidth": 0,
                        "ticks": ""
                      }
                    },
                    "colorscale": {
                      "diverging": [
                        [
                          0,
                          "#8e0152"
                        ],
                        [
                          0.1,
                          "#c51b7d"
                        ],
                        [
                          0.2,
                          "#de77ae"
                        ],
                        [
                          0.3,
                          "#f1b6da"
                        ],
                        [
                          0.4,
                          "#fde0ef"
                        ],
                        [
                          0.5,
                          "#f7f7f7"
                        ],
                        [
                          0.6,
                          "#e6f5d0"
                        ],
                        [
                          0.7,
                          "#b8e186"
                        ],
                        [
                          0.8,
                          "#7fbc41"
                        ],
                        [
                          0.9,
                          "#4d9221"
                        ],
                        [
                          1,
                          "#276419"
                        ]
                      ],
                      "sequential": [
                        [
                          0,
                          "#0d0887"
                        ],
                        [
                          0.1111111111111111,
                          "#46039f"
                        ],
                        [
                          0.2222222222222222,
                          "#7201a8"
                        ],
                        [
                          0.3333333333333333,
                          "#9c179e"
                        ],
                        [
                          0.4444444444444444,
                          "#bd3786"
                        ],
                        [
                          0.5555555555555556,
                          "#d8576b"
                        ],
                        [
                          0.6666666666666666,
                          "#ed7953"
                        ],
                        [
                          0.7777777777777778,
                          "#fb9f3a"
                        ],
                        [
                          0.8888888888888888,
                          "#fdca26"
                        ],
                        [
                          1,
                          "#f0f921"
                        ]
                      ],
                      "sequentialminus": [
                        [
                          0,
                          "#0d0887"
                        ],
                        [
                          0.1111111111111111,
                          "#46039f"
                        ],
                        [
                          0.2222222222222222,
                          "#7201a8"
                        ],
                        [
                          0.3333333333333333,
                          "#9c179e"
                        ],
                        [
                          0.4444444444444444,
                          "#bd3786"
                        ],
                        [
                          0.5555555555555556,
                          "#d8576b"
                        ],
                        [
                          0.6666666666666666,
                          "#ed7953"
                        ],
                        [
                          0.7777777777777778,
                          "#fb9f3a"
                        ],
                        [
                          0.8888888888888888,
                          "#fdca26"
                        ],
                        [
                          1,
                          "#f0f921"
                        ]
                      ]
                    },
                    "colorway": [
                      "#636efa",
                      "#EF553B",
                      "#00cc96",
                      "#ab63fa",
                      "#FFA15A",
                      "#19d3f3",
                      "#FF6692",
                      "#B6E880",
                      "#FF97FF",
                      "#FECB52"
                    ],
                    "font": {
                      "color": "#f2f5fa"
                    },
                    "geo": {
                      "bgcolor": "rgb(17,17,17)",
                      "lakecolor": "rgb(17,17,17)",
                      "landcolor": "rgb(17,17,17)",
                      "showlakes": true,
                      "showland": true,
                      "subunitcolor": "#506784"
                    },
                    "hoverlabel": {
                      "align": "left"
                    },
                    "hovermode": "closest",
                    "mapbox": {
                      "style": "dark"
                    },
                    "paper_bgcolor": "rgb(17,17,17)",
                    "plot_bgcolor": "rgb(17,17,17)",
                    "polar": {
                      "angularaxis": {
                        "gridcolor": "#506784",
                        "linecolor": "#506784",
                        "ticks": ""
                      },
                      "bgcolor": "rgb(17,17,17)",
                      "radialaxis": {
                        "gridcolor": "#506784",
                        "linecolor": "#506784",
                        "ticks": ""
                      }
                    },
                    "scene": {
                      "xaxis": {
                        "backgroundcolor": "rgb(17,17,17)",
                        "gridcolor": "#506784",
                        "gridwidth": 2,
                        "linecolor": "#506784",
                        "showbackground": true,
                        "ticks": "",
                        "zerolinecolor": "#C8D4E3"
                      },
                      "yaxis": {
                        "backgroundcolor": "rgb(17,17,17)",
                        "gridcolor": "#506784",
                        "gridwidth": 2,
                        "linecolor": "#506784",
                        "showbackground": true,
                        "ticks": "",
                        "zerolinecolor": "#C8D4E3"
                      },
                      "zaxis": {
                        "backgroundcolor": "rgb(17,17,17)",
                        "gridcolor": "#506784",
                        "gridwidth": 2,
                        "linecolor": "#506784",
                        "showbackground": true,
                        "ticks": "",
                        "zerolinecolor": "#C8D4E3"
                      }
                    },
                    "shapedefaults": {
                      "line": {
                        "color": "#f2f5fa"
                      }
                    },
                    "sliderdefaults": {
                      "bgcolor": "#C8D4E3",
                      "bordercolor": "rgb(17,17,17)",
                      "borderwidth": 1,
                      "tickwidth": 0
                    },
                    "ternary": {
                      "aaxis": {
                        "gridcolor": "#506784",
                        "linecolor": "#506784",
                        "ticks": ""
                      },
                      "baxis": {
                        "gridcolor": "#506784",
                        "linecolor": "#506784",
                        "ticks": ""
                      },
                      "bgcolor": "rgb(17,17,17)",
                      "caxis": {
                        "gridcolor": "#506784",
                        "linecolor": "#506784",
                        "ticks": ""
                      }
                    },
                    "title": {
                      "x": 0.05
                    },
                    "updatemenudefaults": {
                      "bgcolor": "#506784",
                      "borderwidth": 0
                    },
                    "xaxis": {
                      "automargin": true,
                      "gridcolor": "#283442",
                      "linecolor": "#506784",
                      "ticks": "",
                      "title": {
                        "standoff": 15
                      },
                      "zerolinecolor": "#283442",
                      "zerolinewidth": 2
                    },
                    "yaxis": {
                      "automargin": true,
                      "gridcolor": "#283442",
                      "linecolor": "#506784",
                      "ticks": "",
                      "title": {
                        "standoff": 15
                      },
                      "zerolinecolor": "#283442",
                      "zerolinewidth": 2
                    }
                  }
                },
                "title": {
                  "text": "Deaths by Race"
                }
              }
            }
          },
          "metadata": {},
          "output_type": "display_data"
        }
      ],
      "source": [
        "fig = px.pie(df_killed_race,values='count',names='race',title='Deaths by Race',hole=0.4)\n",
        "\n",
        "fig.update_traces(textfont_size=15,labels=['White','Black','Hispanic','Asian','Native American'])\n",
        "\n",
        "fig.layout.template = 'plotly_dark'\n",
        "fig.show()\n"
      ]
    },
    {
      "cell_type": "markdown",
      "metadata": {
        "id": "kr-8Rezn3Bep"
      },
      "source": [
        "# Create a Chart Comparing the Total Number of Deaths of Men and Women\n",
        "\n",
        "Use `df_fatalities` to illustrate how many more men are killed compared to women. "
      ]
    },
    {
      "cell_type": "code",
      "execution_count": 75,
      "metadata": {
        "id": "joH1L4303BsJ"
      },
      "outputs": [
        {
          "data": {
            "application/vnd.microsoft.datawrangler.viewer.v0+json": {
              "columns": [
                {
                  "name": "index",
                  "rawType": "int64",
                  "type": "integer"
                },
                {
                  "name": "id",
                  "rawType": "int64",
                  "type": "integer"
                },
                {
                  "name": "name",
                  "rawType": "object",
                  "type": "string"
                },
                {
                  "name": "date",
                  "rawType": "object",
                  "type": "string"
                },
                {
                  "name": "manner_of_death",
                  "rawType": "object",
                  "type": "string"
                },
                {
                  "name": "armed",
                  "rawType": "object",
                  "type": "string"
                },
                {
                  "name": "age",
                  "rawType": "float64",
                  "type": "float"
                },
                {
                  "name": "gender",
                  "rawType": "object",
                  "type": "string"
                },
                {
                  "name": "race",
                  "rawType": "object",
                  "type": "string"
                },
                {
                  "name": "city",
                  "rawType": "object",
                  "type": "string"
                },
                {
                  "name": "state",
                  "rawType": "object",
                  "type": "string"
                },
                {
                  "name": "signs_of_mental_illness",
                  "rawType": "bool",
                  "type": "boolean"
                },
                {
                  "name": "threat_level",
                  "rawType": "object",
                  "type": "string"
                },
                {
                  "name": "flee",
                  "rawType": "object",
                  "type": "string"
                },
                {
                  "name": "body_camera",
                  "rawType": "bool",
                  "type": "boolean"
                }
              ],
              "conversionMethod": "pd.DataFrame",
              "ref": "76fea9d9-7e19-4629-b5e4-743f7151a08e",
              "rows": [
                [
                  "0",
                  "3",
                  "Tim Elliot",
                  "02/01/15",
                  "shot",
                  "gun",
                  "53.0",
                  "M",
                  "A",
                  "Shelton",
                  "WA",
                  "True",
                  "attack",
                  "Not fleeing",
                  "False"
                ],
                [
                  "1",
                  "4",
                  "Lewis Lee Lembke",
                  "02/01/15",
                  "shot",
                  "gun",
                  "47.0",
                  "M",
                  "W",
                  "Aloha",
                  "OR",
                  "False",
                  "attack",
                  "Not fleeing",
                  "False"
                ],
                [
                  "2",
                  "5",
                  "John Paul Quintero",
                  "03/01/15",
                  "shot and Tasered",
                  "unarmed",
                  "23.0",
                  "M",
                  "H",
                  "Wichita",
                  "KS",
                  "False",
                  "other",
                  "Not fleeing",
                  "False"
                ],
                [
                  "3",
                  "8",
                  "Matthew Hoffman",
                  "04/01/15",
                  "shot",
                  "toy weapon",
                  "32.0",
                  "M",
                  "W",
                  "San Francisco",
                  "CA",
                  "True",
                  "attack",
                  "Not fleeing",
                  "False"
                ],
                [
                  "4",
                  "9",
                  "Michael Rodriguez",
                  "04/01/15",
                  "shot",
                  "nail gun",
                  "39.0",
                  "M",
                  "H",
                  "Evans",
                  "CO",
                  "False",
                  "attack",
                  "Not fleeing",
                  "False"
                ]
              ],
              "shape": {
                "columns": 14,
                "rows": 5
              }
            },
            "text/html": [
              "<div>\n",
              "<style scoped>\n",
              "    .dataframe tbody tr th:only-of-type {\n",
              "        vertical-align: middle;\n",
              "    }\n",
              "\n",
              "    .dataframe tbody tr th {\n",
              "        vertical-align: top;\n",
              "    }\n",
              "\n",
              "    .dataframe thead th {\n",
              "        text-align: right;\n",
              "    }\n",
              "</style>\n",
              "<table border=\"1\" class=\"dataframe\">\n",
              "  <thead>\n",
              "    <tr style=\"text-align: right;\">\n",
              "      <th></th>\n",
              "      <th>id</th>\n",
              "      <th>name</th>\n",
              "      <th>date</th>\n",
              "      <th>manner_of_death</th>\n",
              "      <th>armed</th>\n",
              "      <th>age</th>\n",
              "      <th>gender</th>\n",
              "      <th>race</th>\n",
              "      <th>city</th>\n",
              "      <th>state</th>\n",
              "      <th>signs_of_mental_illness</th>\n",
              "      <th>threat_level</th>\n",
              "      <th>flee</th>\n",
              "      <th>body_camera</th>\n",
              "    </tr>\n",
              "  </thead>\n",
              "  <tbody>\n",
              "    <tr>\n",
              "      <th>0</th>\n",
              "      <td>3</td>\n",
              "      <td>Tim Elliot</td>\n",
              "      <td>02/01/15</td>\n",
              "      <td>shot</td>\n",
              "      <td>gun</td>\n",
              "      <td>53.00</td>\n",
              "      <td>M</td>\n",
              "      <td>A</td>\n",
              "      <td>Shelton</td>\n",
              "      <td>WA</td>\n",
              "      <td>True</td>\n",
              "      <td>attack</td>\n",
              "      <td>Not fleeing</td>\n",
              "      <td>False</td>\n",
              "    </tr>\n",
              "    <tr>\n",
              "      <th>1</th>\n",
              "      <td>4</td>\n",
              "      <td>Lewis Lee Lembke</td>\n",
              "      <td>02/01/15</td>\n",
              "      <td>shot</td>\n",
              "      <td>gun</td>\n",
              "      <td>47.00</td>\n",
              "      <td>M</td>\n",
              "      <td>W</td>\n",
              "      <td>Aloha</td>\n",
              "      <td>OR</td>\n",
              "      <td>False</td>\n",
              "      <td>attack</td>\n",
              "      <td>Not fleeing</td>\n",
              "      <td>False</td>\n",
              "    </tr>\n",
              "    <tr>\n",
              "      <th>2</th>\n",
              "      <td>5</td>\n",
              "      <td>John Paul Quintero</td>\n",
              "      <td>03/01/15</td>\n",
              "      <td>shot and Tasered</td>\n",
              "      <td>unarmed</td>\n",
              "      <td>23.00</td>\n",
              "      <td>M</td>\n",
              "      <td>H</td>\n",
              "      <td>Wichita</td>\n",
              "      <td>KS</td>\n",
              "      <td>False</td>\n",
              "      <td>other</td>\n",
              "      <td>Not fleeing</td>\n",
              "      <td>False</td>\n",
              "    </tr>\n",
              "    <tr>\n",
              "      <th>3</th>\n",
              "      <td>8</td>\n",
              "      <td>Matthew Hoffman</td>\n",
              "      <td>04/01/15</td>\n",
              "      <td>shot</td>\n",
              "      <td>toy weapon</td>\n",
              "      <td>32.00</td>\n",
              "      <td>M</td>\n",
              "      <td>W</td>\n",
              "      <td>San Francisco</td>\n",
              "      <td>CA</td>\n",
              "      <td>True</td>\n",
              "      <td>attack</td>\n",
              "      <td>Not fleeing</td>\n",
              "      <td>False</td>\n",
              "    </tr>\n",
              "    <tr>\n",
              "      <th>4</th>\n",
              "      <td>9</td>\n",
              "      <td>Michael Rodriguez</td>\n",
              "      <td>04/01/15</td>\n",
              "      <td>shot</td>\n",
              "      <td>nail gun</td>\n",
              "      <td>39.00</td>\n",
              "      <td>M</td>\n",
              "      <td>H</td>\n",
              "      <td>Evans</td>\n",
              "      <td>CO</td>\n",
              "      <td>False</td>\n",
              "      <td>attack</td>\n",
              "      <td>Not fleeing</td>\n",
              "      <td>False</td>\n",
              "    </tr>\n",
              "  </tbody>\n",
              "</table>\n",
              "</div>"
            ],
            "text/plain": [
              "   id                name      date   manner_of_death       armed   age  \\\n",
              "0   3          Tim Elliot  02/01/15              shot         gun 53.00   \n",
              "1   4    Lewis Lee Lembke  02/01/15              shot         gun 47.00   \n",
              "2   5  John Paul Quintero  03/01/15  shot and Tasered     unarmed 23.00   \n",
              "3   8     Matthew Hoffman  04/01/15              shot  toy weapon 32.00   \n",
              "4   9   Michael Rodriguez  04/01/15              shot    nail gun 39.00   \n",
              "\n",
              "  gender race           city state  signs_of_mental_illness threat_level  \\\n",
              "0      M    A        Shelton    WA                     True       attack   \n",
              "1      M    W          Aloha    OR                    False       attack   \n",
              "2      M    H        Wichita    KS                    False        other   \n",
              "3      M    W  San Francisco    CA                     True       attack   \n",
              "4      M    H          Evans    CO                    False       attack   \n",
              "\n",
              "          flee  body_camera  \n",
              "0  Not fleeing        False  \n",
              "1  Not fleeing        False  \n",
              "2  Not fleeing        False  \n",
              "3  Not fleeing        False  \n",
              "4  Not fleeing        False  "
            ]
          },
          "execution_count": 75,
          "metadata": {},
          "output_type": "execute_result"
        }
      ],
      "source": [
        "df_fatalities.head()"
      ]
    },
    {
      "cell_type": "code",
      "execution_count": 76,
      "metadata": {},
      "outputs": [
        {
          "data": {
            "application/vnd.microsoft.datawrangler.viewer.v0+json": {
              "columns": [
                {
                  "name": "index",
                  "rawType": "int64",
                  "type": "integer"
                },
                {
                  "name": "gender",
                  "rawType": "object",
                  "type": "string"
                },
                {
                  "name": "count",
                  "rawType": "int64",
                  "type": "integer"
                }
              ],
              "conversionMethod": "pd.DataFrame",
              "ref": "b3fb7575-79fc-421b-8491-d7a8ea8ae34a",
              "rows": [
                [
                  "0",
                  "M",
                  "2428"
                ],
                [
                  "1",
                  "F",
                  "107"
                ]
              ],
              "shape": {
                "columns": 2,
                "rows": 2
              }
            },
            "text/html": [
              "<div>\n",
              "<style scoped>\n",
              "    .dataframe tbody tr th:only-of-type {\n",
              "        vertical-align: middle;\n",
              "    }\n",
              "\n",
              "    .dataframe tbody tr th {\n",
              "        vertical-align: top;\n",
              "    }\n",
              "\n",
              "    .dataframe thead th {\n",
              "        text-align: right;\n",
              "    }\n",
              "</style>\n",
              "<table border=\"1\" class=\"dataframe\">\n",
              "  <thead>\n",
              "    <tr style=\"text-align: right;\">\n",
              "      <th></th>\n",
              "      <th>gender</th>\n",
              "      <th>count</th>\n",
              "    </tr>\n",
              "  </thead>\n",
              "  <tbody>\n",
              "    <tr>\n",
              "      <th>0</th>\n",
              "      <td>M</td>\n",
              "      <td>2428</td>\n",
              "    </tr>\n",
              "    <tr>\n",
              "      <th>1</th>\n",
              "      <td>F</td>\n",
              "      <td>107</td>\n",
              "    </tr>\n",
              "  </tbody>\n",
              "</table>\n",
              "</div>"
            ],
            "text/plain": [
              "  gender  count\n",
              "0      M   2428\n",
              "1      F    107"
            ]
          },
          "execution_count": 76,
          "metadata": {},
          "output_type": "execute_result"
        }
      ],
      "source": [
        "df_gender = df_fatalities['gender'].value_counts().reset_index(name='count')\n",
        "df_gender.head()"
      ]
    },
    {
      "cell_type": "code",
      "execution_count": 77,
      "metadata": {
        "id": "X4MrMkVa3MTk"
      },
      "outputs": [
        {
          "data": {
            "application/vnd.plotly.v1+json": {
              "config": {
                "plotlyServerURL": "https://plot.ly"
              },
              "data": [
                {
                  "domain": {
                    "x": [
                      0,
                      1
                    ],
                    "y": [
                      0,
                      1
                    ]
                  },
                  "hole": 0.5,
                  "hovertemplate": "gender=%{label}<br>count=%{value}<extra></extra>",
                  "labels": [
                    "Male",
                    "Female"
                  ],
                  "legendgroup": "",
                  "name": "",
                  "showlegend": true,
                  "type": "pie",
                  "values": {
                    "bdata": "fAlrAA==",
                    "dtype": "i2"
                  }
                }
              ],
              "layout": {
                "legend": {
                  "tracegroupgap": 0
                },
                "margin": {
                  "t": 60
                },
                "template": {
                  "data": {
                    "bar": [
                      {
                        "error_x": {
                          "color": "#f2f5fa"
                        },
                        "error_y": {
                          "color": "#f2f5fa"
                        },
                        "marker": {
                          "line": {
                            "color": "rgb(17,17,17)",
                            "width": 0.5
                          },
                          "pattern": {
                            "fillmode": "overlay",
                            "size": 10,
                            "solidity": 0.2
                          }
                        },
                        "type": "bar"
                      }
                    ],
                    "barpolar": [
                      {
                        "marker": {
                          "line": {
                            "color": "rgb(17,17,17)",
                            "width": 0.5
                          },
                          "pattern": {
                            "fillmode": "overlay",
                            "size": 10,
                            "solidity": 0.2
                          }
                        },
                        "type": "barpolar"
                      }
                    ],
                    "carpet": [
                      {
                        "aaxis": {
                          "endlinecolor": "#A2B1C6",
                          "gridcolor": "#506784",
                          "linecolor": "#506784",
                          "minorgridcolor": "#506784",
                          "startlinecolor": "#A2B1C6"
                        },
                        "baxis": {
                          "endlinecolor": "#A2B1C6",
                          "gridcolor": "#506784",
                          "linecolor": "#506784",
                          "minorgridcolor": "#506784",
                          "startlinecolor": "#A2B1C6"
                        },
                        "type": "carpet"
                      }
                    ],
                    "choropleth": [
                      {
                        "colorbar": {
                          "outlinewidth": 0,
                          "ticks": ""
                        },
                        "type": "choropleth"
                      }
                    ],
                    "contour": [
                      {
                        "colorbar": {
                          "outlinewidth": 0,
                          "ticks": ""
                        },
                        "colorscale": [
                          [
                            0,
                            "#0d0887"
                          ],
                          [
                            0.1111111111111111,
                            "#46039f"
                          ],
                          [
                            0.2222222222222222,
                            "#7201a8"
                          ],
                          [
                            0.3333333333333333,
                            "#9c179e"
                          ],
                          [
                            0.4444444444444444,
                            "#bd3786"
                          ],
                          [
                            0.5555555555555556,
                            "#d8576b"
                          ],
                          [
                            0.6666666666666666,
                            "#ed7953"
                          ],
                          [
                            0.7777777777777778,
                            "#fb9f3a"
                          ],
                          [
                            0.8888888888888888,
                            "#fdca26"
                          ],
                          [
                            1,
                            "#f0f921"
                          ]
                        ],
                        "type": "contour"
                      }
                    ],
                    "contourcarpet": [
                      {
                        "colorbar": {
                          "outlinewidth": 0,
                          "ticks": ""
                        },
                        "type": "contourcarpet"
                      }
                    ],
                    "heatmap": [
                      {
                        "colorbar": {
                          "outlinewidth": 0,
                          "ticks": ""
                        },
                        "colorscale": [
                          [
                            0,
                            "#0d0887"
                          ],
                          [
                            0.1111111111111111,
                            "#46039f"
                          ],
                          [
                            0.2222222222222222,
                            "#7201a8"
                          ],
                          [
                            0.3333333333333333,
                            "#9c179e"
                          ],
                          [
                            0.4444444444444444,
                            "#bd3786"
                          ],
                          [
                            0.5555555555555556,
                            "#d8576b"
                          ],
                          [
                            0.6666666666666666,
                            "#ed7953"
                          ],
                          [
                            0.7777777777777778,
                            "#fb9f3a"
                          ],
                          [
                            0.8888888888888888,
                            "#fdca26"
                          ],
                          [
                            1,
                            "#f0f921"
                          ]
                        ],
                        "type": "heatmap"
                      }
                    ],
                    "histogram": [
                      {
                        "marker": {
                          "pattern": {
                            "fillmode": "overlay",
                            "size": 10,
                            "solidity": 0.2
                          }
                        },
                        "type": "histogram"
                      }
                    ],
                    "histogram2d": [
                      {
                        "colorbar": {
                          "outlinewidth": 0,
                          "ticks": ""
                        },
                        "colorscale": [
                          [
                            0,
                            "#0d0887"
                          ],
                          [
                            0.1111111111111111,
                            "#46039f"
                          ],
                          [
                            0.2222222222222222,
                            "#7201a8"
                          ],
                          [
                            0.3333333333333333,
                            "#9c179e"
                          ],
                          [
                            0.4444444444444444,
                            "#bd3786"
                          ],
                          [
                            0.5555555555555556,
                            "#d8576b"
                          ],
                          [
                            0.6666666666666666,
                            "#ed7953"
                          ],
                          [
                            0.7777777777777778,
                            "#fb9f3a"
                          ],
                          [
                            0.8888888888888888,
                            "#fdca26"
                          ],
                          [
                            1,
                            "#f0f921"
                          ]
                        ],
                        "type": "histogram2d"
                      }
                    ],
                    "histogram2dcontour": [
                      {
                        "colorbar": {
                          "outlinewidth": 0,
                          "ticks": ""
                        },
                        "colorscale": [
                          [
                            0,
                            "#0d0887"
                          ],
                          [
                            0.1111111111111111,
                            "#46039f"
                          ],
                          [
                            0.2222222222222222,
                            "#7201a8"
                          ],
                          [
                            0.3333333333333333,
                            "#9c179e"
                          ],
                          [
                            0.4444444444444444,
                            "#bd3786"
                          ],
                          [
                            0.5555555555555556,
                            "#d8576b"
                          ],
                          [
                            0.6666666666666666,
                            "#ed7953"
                          ],
                          [
                            0.7777777777777778,
                            "#fb9f3a"
                          ],
                          [
                            0.8888888888888888,
                            "#fdca26"
                          ],
                          [
                            1,
                            "#f0f921"
                          ]
                        ],
                        "type": "histogram2dcontour"
                      }
                    ],
                    "mesh3d": [
                      {
                        "colorbar": {
                          "outlinewidth": 0,
                          "ticks": ""
                        },
                        "type": "mesh3d"
                      }
                    ],
                    "parcoords": [
                      {
                        "line": {
                          "colorbar": {
                            "outlinewidth": 0,
                            "ticks": ""
                          }
                        },
                        "type": "parcoords"
                      }
                    ],
                    "pie": [
                      {
                        "automargin": true,
                        "type": "pie"
                      }
                    ],
                    "scatter": [
                      {
                        "marker": {
                          "line": {
                            "color": "#283442"
                          }
                        },
                        "type": "scatter"
                      }
                    ],
                    "scatter3d": [
                      {
                        "line": {
                          "colorbar": {
                            "outlinewidth": 0,
                            "ticks": ""
                          }
                        },
                        "marker": {
                          "colorbar": {
                            "outlinewidth": 0,
                            "ticks": ""
                          }
                        },
                        "type": "scatter3d"
                      }
                    ],
                    "scattercarpet": [
                      {
                        "marker": {
                          "colorbar": {
                            "outlinewidth": 0,
                            "ticks": ""
                          }
                        },
                        "type": "scattercarpet"
                      }
                    ],
                    "scattergeo": [
                      {
                        "marker": {
                          "colorbar": {
                            "outlinewidth": 0,
                            "ticks": ""
                          }
                        },
                        "type": "scattergeo"
                      }
                    ],
                    "scattergl": [
                      {
                        "marker": {
                          "line": {
                            "color": "#283442"
                          }
                        },
                        "type": "scattergl"
                      }
                    ],
                    "scattermap": [
                      {
                        "marker": {
                          "colorbar": {
                            "outlinewidth": 0,
                            "ticks": ""
                          }
                        },
                        "type": "scattermap"
                      }
                    ],
                    "scattermapbox": [
                      {
                        "marker": {
                          "colorbar": {
                            "outlinewidth": 0,
                            "ticks": ""
                          }
                        },
                        "type": "scattermapbox"
                      }
                    ],
                    "scatterpolar": [
                      {
                        "marker": {
                          "colorbar": {
                            "outlinewidth": 0,
                            "ticks": ""
                          }
                        },
                        "type": "scatterpolar"
                      }
                    ],
                    "scatterpolargl": [
                      {
                        "marker": {
                          "colorbar": {
                            "outlinewidth": 0,
                            "ticks": ""
                          }
                        },
                        "type": "scatterpolargl"
                      }
                    ],
                    "scatterternary": [
                      {
                        "marker": {
                          "colorbar": {
                            "outlinewidth": 0,
                            "ticks": ""
                          }
                        },
                        "type": "scatterternary"
                      }
                    ],
                    "surface": [
                      {
                        "colorbar": {
                          "outlinewidth": 0,
                          "ticks": ""
                        },
                        "colorscale": [
                          [
                            0,
                            "#0d0887"
                          ],
                          [
                            0.1111111111111111,
                            "#46039f"
                          ],
                          [
                            0.2222222222222222,
                            "#7201a8"
                          ],
                          [
                            0.3333333333333333,
                            "#9c179e"
                          ],
                          [
                            0.4444444444444444,
                            "#bd3786"
                          ],
                          [
                            0.5555555555555556,
                            "#d8576b"
                          ],
                          [
                            0.6666666666666666,
                            "#ed7953"
                          ],
                          [
                            0.7777777777777778,
                            "#fb9f3a"
                          ],
                          [
                            0.8888888888888888,
                            "#fdca26"
                          ],
                          [
                            1,
                            "#f0f921"
                          ]
                        ],
                        "type": "surface"
                      }
                    ],
                    "table": [
                      {
                        "cells": {
                          "fill": {
                            "color": "#506784"
                          },
                          "line": {
                            "color": "rgb(17,17,17)"
                          }
                        },
                        "header": {
                          "fill": {
                            "color": "#2a3f5f"
                          },
                          "line": {
                            "color": "rgb(17,17,17)"
                          }
                        },
                        "type": "table"
                      }
                    ]
                  },
                  "layout": {
                    "annotationdefaults": {
                      "arrowcolor": "#f2f5fa",
                      "arrowhead": 0,
                      "arrowwidth": 1
                    },
                    "autotypenumbers": "strict",
                    "coloraxis": {
                      "colorbar": {
                        "outlinewidth": 0,
                        "ticks": ""
                      }
                    },
                    "colorscale": {
                      "diverging": [
                        [
                          0,
                          "#8e0152"
                        ],
                        [
                          0.1,
                          "#c51b7d"
                        ],
                        [
                          0.2,
                          "#de77ae"
                        ],
                        [
                          0.3,
                          "#f1b6da"
                        ],
                        [
                          0.4,
                          "#fde0ef"
                        ],
                        [
                          0.5,
                          "#f7f7f7"
                        ],
                        [
                          0.6,
                          "#e6f5d0"
                        ],
                        [
                          0.7,
                          "#b8e186"
                        ],
                        [
                          0.8,
                          "#7fbc41"
                        ],
                        [
                          0.9,
                          "#4d9221"
                        ],
                        [
                          1,
                          "#276419"
                        ]
                      ],
                      "sequential": [
                        [
                          0,
                          "#0d0887"
                        ],
                        [
                          0.1111111111111111,
                          "#46039f"
                        ],
                        [
                          0.2222222222222222,
                          "#7201a8"
                        ],
                        [
                          0.3333333333333333,
                          "#9c179e"
                        ],
                        [
                          0.4444444444444444,
                          "#bd3786"
                        ],
                        [
                          0.5555555555555556,
                          "#d8576b"
                        ],
                        [
                          0.6666666666666666,
                          "#ed7953"
                        ],
                        [
                          0.7777777777777778,
                          "#fb9f3a"
                        ],
                        [
                          0.8888888888888888,
                          "#fdca26"
                        ],
                        [
                          1,
                          "#f0f921"
                        ]
                      ],
                      "sequentialminus": [
                        [
                          0,
                          "#0d0887"
                        ],
                        [
                          0.1111111111111111,
                          "#46039f"
                        ],
                        [
                          0.2222222222222222,
                          "#7201a8"
                        ],
                        [
                          0.3333333333333333,
                          "#9c179e"
                        ],
                        [
                          0.4444444444444444,
                          "#bd3786"
                        ],
                        [
                          0.5555555555555556,
                          "#d8576b"
                        ],
                        [
                          0.6666666666666666,
                          "#ed7953"
                        ],
                        [
                          0.7777777777777778,
                          "#fb9f3a"
                        ],
                        [
                          0.8888888888888888,
                          "#fdca26"
                        ],
                        [
                          1,
                          "#f0f921"
                        ]
                      ]
                    },
                    "colorway": [
                      "#636efa",
                      "#EF553B",
                      "#00cc96",
                      "#ab63fa",
                      "#FFA15A",
                      "#19d3f3",
                      "#FF6692",
                      "#B6E880",
                      "#FF97FF",
                      "#FECB52"
                    ],
                    "font": {
                      "color": "#f2f5fa"
                    },
                    "geo": {
                      "bgcolor": "rgb(17,17,17)",
                      "lakecolor": "rgb(17,17,17)",
                      "landcolor": "rgb(17,17,17)",
                      "showlakes": true,
                      "showland": true,
                      "subunitcolor": "#506784"
                    },
                    "hoverlabel": {
                      "align": "left"
                    },
                    "hovermode": "closest",
                    "mapbox": {
                      "style": "dark"
                    },
                    "paper_bgcolor": "rgb(17,17,17)",
                    "plot_bgcolor": "rgb(17,17,17)",
                    "polar": {
                      "angularaxis": {
                        "gridcolor": "#506784",
                        "linecolor": "#506784",
                        "ticks": ""
                      },
                      "bgcolor": "rgb(17,17,17)",
                      "radialaxis": {
                        "gridcolor": "#506784",
                        "linecolor": "#506784",
                        "ticks": ""
                      }
                    },
                    "scene": {
                      "xaxis": {
                        "backgroundcolor": "rgb(17,17,17)",
                        "gridcolor": "#506784",
                        "gridwidth": 2,
                        "linecolor": "#506784",
                        "showbackground": true,
                        "ticks": "",
                        "zerolinecolor": "#C8D4E3"
                      },
                      "yaxis": {
                        "backgroundcolor": "rgb(17,17,17)",
                        "gridcolor": "#506784",
                        "gridwidth": 2,
                        "linecolor": "#506784",
                        "showbackground": true,
                        "ticks": "",
                        "zerolinecolor": "#C8D4E3"
                      },
                      "zaxis": {
                        "backgroundcolor": "rgb(17,17,17)",
                        "gridcolor": "#506784",
                        "gridwidth": 2,
                        "linecolor": "#506784",
                        "showbackground": true,
                        "ticks": "",
                        "zerolinecolor": "#C8D4E3"
                      }
                    },
                    "shapedefaults": {
                      "line": {
                        "color": "#f2f5fa"
                      }
                    },
                    "sliderdefaults": {
                      "bgcolor": "#C8D4E3",
                      "bordercolor": "rgb(17,17,17)",
                      "borderwidth": 1,
                      "tickwidth": 0
                    },
                    "ternary": {
                      "aaxis": {
                        "gridcolor": "#506784",
                        "linecolor": "#506784",
                        "ticks": ""
                      },
                      "baxis": {
                        "gridcolor": "#506784",
                        "linecolor": "#506784",
                        "ticks": ""
                      },
                      "bgcolor": "rgb(17,17,17)",
                      "caxis": {
                        "gridcolor": "#506784",
                        "linecolor": "#506784",
                        "ticks": ""
                      }
                    },
                    "title": {
                      "x": 0.05
                    },
                    "updatemenudefaults": {
                      "bgcolor": "#506784",
                      "borderwidth": 0
                    },
                    "xaxis": {
                      "automargin": true,
                      "gridcolor": "#283442",
                      "linecolor": "#506784",
                      "ticks": "",
                      "title": {
                        "standoff": 15
                      },
                      "zerolinecolor": "#283442",
                      "zerolinewidth": 2
                    },
                    "yaxis": {
                      "automargin": true,
                      "gridcolor": "#283442",
                      "linecolor": "#506784",
                      "ticks": "",
                      "title": {
                        "standoff": 15
                      },
                      "zerolinecolor": "#283442",
                      "zerolinewidth": 2
                    }
                  }
                },
                "title": {
                  "text": "Male vs. Female Deaths",
                  "x": 0.5,
                  "xanchor": "center"
                }
              }
            }
          },
          "metadata": {},
          "output_type": "display_data"
        }
      ],
      "source": [
        "fig = px.pie(df_gender,names='gender',values='count',hole=.5)\n",
        "\n",
        "fig.update_traces(labels=['Male','Female'])\n",
        "fig.update_layout(title={\n",
        "    'text':'Male vs. Female Deaths',\n",
        "    'x':0.5,\n",
        "    'xanchor':'center'\n",
        "})\n",
        "\n",
        "fig.layout.template = 'plotly_dark'\n",
        "fig.show()"
      ]
    },
    {
      "cell_type": "markdown",
      "metadata": {
        "_uuid": "cd1531c8421bfb6967cebf7039056779f9b960a6",
        "id": "ZxbBdvM0uRpQ"
      },
      "source": [
        "# Create a Box Plot Showing the Age and Manner of Death\n",
        "\n",
        "Break out the data by gender using `df_fatalities`. Is there a difference between men and women in the manner of death? "
      ]
    },
    {
      "cell_type": "code",
      "execution_count": 78,
      "metadata": {
        "id": "WdPPZLJY2shA"
      },
      "outputs": [
        {
          "data": {
            "application/vnd.microsoft.datawrangler.viewer.v0+json": {
              "columns": [
                {
                  "name": "index",
                  "rawType": "int64",
                  "type": "integer"
                },
                {
                  "name": "gender",
                  "rawType": "object",
                  "type": "string"
                },
                {
                  "name": "manner_of_death",
                  "rawType": "object",
                  "type": "string"
                },
                {
                  "name": "age",
                  "rawType": "float64",
                  "type": "float"
                },
                {
                  "name": "count",
                  "rawType": "int64",
                  "type": "integer"
                }
              ],
              "conversionMethod": "pd.DataFrame",
              "ref": "bbe8e9e8-d7d5-4904-b801-3b05e8805a29",
              "rows": [
                [
                  "0",
                  "F",
                  "shot",
                  "25.0",
                  "6"
                ],
                [
                  "1",
                  "F",
                  "shot",
                  "50.0",
                  "5"
                ],
                [
                  "2",
                  "F",
                  "shot",
                  "24.0",
                  "4"
                ],
                [
                  "3",
                  "F",
                  "shot",
                  "27.0",
                  "4"
                ],
                [
                  "4",
                  "F",
                  "shot",
                  "31.0",
                  "4"
                ]
              ],
              "shape": {
                "columns": 4,
                "rows": 5
              }
            },
            "text/html": [
              "<div>\n",
              "<style scoped>\n",
              "    .dataframe tbody tr th:only-of-type {\n",
              "        vertical-align: middle;\n",
              "    }\n",
              "\n",
              "    .dataframe tbody tr th {\n",
              "        vertical-align: top;\n",
              "    }\n",
              "\n",
              "    .dataframe thead th {\n",
              "        text-align: right;\n",
              "    }\n",
              "</style>\n",
              "<table border=\"1\" class=\"dataframe\">\n",
              "  <thead>\n",
              "    <tr style=\"text-align: right;\">\n",
              "      <th></th>\n",
              "      <th>gender</th>\n",
              "      <th>manner_of_death</th>\n",
              "      <th>age</th>\n",
              "      <th>count</th>\n",
              "    </tr>\n",
              "  </thead>\n",
              "  <tbody>\n",
              "    <tr>\n",
              "      <th>0</th>\n",
              "      <td>F</td>\n",
              "      <td>shot</td>\n",
              "      <td>25.00</td>\n",
              "      <td>6</td>\n",
              "    </tr>\n",
              "    <tr>\n",
              "      <th>1</th>\n",
              "      <td>F</td>\n",
              "      <td>shot</td>\n",
              "      <td>50.00</td>\n",
              "      <td>5</td>\n",
              "    </tr>\n",
              "    <tr>\n",
              "      <th>2</th>\n",
              "      <td>F</td>\n",
              "      <td>shot</td>\n",
              "      <td>24.00</td>\n",
              "      <td>4</td>\n",
              "    </tr>\n",
              "    <tr>\n",
              "      <th>3</th>\n",
              "      <td>F</td>\n",
              "      <td>shot</td>\n",
              "      <td>27.00</td>\n",
              "      <td>4</td>\n",
              "    </tr>\n",
              "    <tr>\n",
              "      <th>4</th>\n",
              "      <td>F</td>\n",
              "      <td>shot</td>\n",
              "      <td>31.00</td>\n",
              "      <td>4</td>\n",
              "    </tr>\n",
              "  </tbody>\n",
              "</table>\n",
              "</div>"
            ],
            "text/plain": [
              "  gender manner_of_death   age  count\n",
              "0      F            shot 25.00      6\n",
              "1      F            shot 50.00      5\n",
              "2      F            shot 24.00      4\n",
              "3      F            shot 27.00      4\n",
              "4      F            shot 31.00      4"
            ]
          },
          "execution_count": 78,
          "metadata": {},
          "output_type": "execute_result"
        }
      ],
      "source": [
        "\n",
        "df_gender_death_difference = df_fatalities[df_fatalities['age'].notna()]\n",
        "df_gender_death_difference = df_gender_death_difference.groupby('gender')[['manner_of_death','age']].value_counts().reset_index(name='count')\n",
        "df_gender_death_difference.head()"
      ]
    },
    {
      "cell_type": "code",
      "execution_count": 79,
      "metadata": {
        "id": "tpPq4uFc2sql"
      },
      "outputs": [
        {
          "data": {
            "application/vnd.plotly.v1+json": {
              "config": {
                "plotlyServerURL": "https://plot.ly"
              },
              "data": [
                {
                  "alignmentgroup": "True",
                  "hovertemplate": "gender=F<br>manner_of_death=%{x}<br>age=%{y}<extra></extra>",
                  "legendgroup": "F",
                  "marker": {
                    "color": "#636efa"
                  },
                  "name": "F",
                  "notched": false,
                  "offsetgroup": "F",
                  "orientation": "v",
                  "showlegend": true,
                  "type": "box",
                  "x": [
                    "shot",
                    "shot",
                    "shot",
                    "shot",
                    "shot",
                    "shot",
                    "shot",
                    "shot",
                    "shot",
                    "shot",
                    "shot",
                    "shot",
                    "shot",
                    "shot",
                    "shot",
                    "shot",
                    "shot",
                    "shot",
                    "shot",
                    "shot",
                    "shot",
                    "shot",
                    "shot",
                    "shot",
                    "shot",
                    "shot",
                    "shot",
                    "shot",
                    "shot",
                    "shot",
                    "shot",
                    "shot",
                    "shot",
                    "shot",
                    "shot",
                    "shot",
                    "shot",
                    "shot",
                    "shot",
                    "shot",
                    "shot",
                    "shot",
                    "shot",
                    "shot",
                    "shot",
                    "shot and Tasered",
                    "shot and Tasered",
                    "shot and Tasered",
                    "shot and Tasered",
                    "shot and Tasered"
                  ],
                  "x0": " ",
                  "xaxis": "x",
                  "y": {
                    "bdata": "AAAAAAAAOUAAAAAAAABJQAAAAAAAADhAAAAAAAAAO0AAAAAAAAA/QAAAAAAAAERAAAAAAAAAR0AAAAAAAAAxQAAAAAAAADVAAAAAAAAAN0AAAAAAAAA6QAAAAAAAADxAAAAAAAAAQkAAAAAAAIBCQAAAAAAAAENAAAAAAACASkAAAAAAAAA9QAAAAAAAAD5AAAAAAAAAQEAAAAAAAABBQAAAAAAAgEFAAAAAAACAQ0AAAAAAAIBEQAAAAAAAgEVAAAAAAAAARkAAAAAAAIBGQAAAAAAAgEtAAAAAAAAAT0AAAAAAAAAoQAAAAAAAADBAAAAAAAAAMkAAAAAAAAA0QAAAAAAAADZAAAAAAACAQEAAAAAAAABFQAAAAAAAAEhAAAAAAACASEAAAAAAAIBJQAAAAAAAAEtAAAAAAAAATEAAAAAAAIBNQAAAAAAAAE5AAAAAAACATkAAAAAAAIBQQAAAAAAAwFFAAAAAAAAAMUAAAAAAAAA+QAAAAAAAgEJAAAAAAACAQ0AAAAAAAIBLQA==",
                    "dtype": "f8"
                  },
                  "y0": " ",
                  "yaxis": "y"
                },
                {
                  "alignmentgroup": "True",
                  "hovertemplate": "gender=M<br>manner_of_death=%{x}<br>age=%{y}<extra></extra>",
                  "legendgroup": "M",
                  "marker": {
                    "color": "#EF553B"
                  },
                  "name": "M",
                  "notched": false,
                  "offsetgroup": "M",
                  "orientation": "v",
                  "showlegend": true,
                  "type": "box",
                  "x": [
                    "shot",
                    "shot",
                    "shot",
                    "shot",
                    "shot",
                    "shot",
                    "shot",
                    "shot",
                    "shot",
                    "shot",
                    "shot",
                    "shot",
                    "shot",
                    "shot",
                    "shot",
                    "shot",
                    "shot",
                    "shot",
                    "shot",
                    "shot",
                    "shot",
                    "shot",
                    "shot",
                    "shot",
                    "shot",
                    "shot",
                    "shot",
                    "shot",
                    "shot",
                    "shot",
                    "shot",
                    "shot",
                    "shot",
                    "shot",
                    "shot",
                    "shot",
                    "shot",
                    "shot",
                    "shot",
                    "shot",
                    "shot",
                    "shot",
                    "shot",
                    "shot",
                    "shot",
                    "shot",
                    "shot",
                    "shot",
                    "shot",
                    "shot and Tasered",
                    "shot and Tasered",
                    "shot",
                    "shot",
                    "shot",
                    "shot",
                    "shot and Tasered",
                    "shot and Tasered",
                    "shot and Tasered",
                    "shot and Tasered",
                    "shot",
                    "shot and Tasered",
                    "shot and Tasered",
                    "shot and Tasered",
                    "shot and Tasered",
                    "shot and Tasered",
                    "shot and Tasered",
                    "shot and Tasered",
                    "shot",
                    "shot",
                    "shot",
                    "shot and Tasered",
                    "shot and Tasered",
                    "shot and Tasered",
                    "shot and Tasered",
                    "shot and Tasered",
                    "shot and Tasered",
                    "shot and Tasered",
                    "shot and Tasered",
                    "shot",
                    "shot",
                    "shot and Tasered",
                    "shot and Tasered",
                    "shot and Tasered",
                    "shot and Tasered",
                    "shot and Tasered",
                    "shot and Tasered",
                    "shot and Tasered",
                    "shot",
                    "shot",
                    "shot",
                    "shot",
                    "shot",
                    "shot",
                    "shot",
                    "shot and Tasered",
                    "shot and Tasered",
                    "shot and Tasered",
                    "shot and Tasered",
                    "shot and Tasered",
                    "shot and Tasered",
                    "shot and Tasered",
                    "shot",
                    "shot",
                    "shot",
                    "shot",
                    "shot",
                    "shot",
                    "shot and Tasered",
                    "shot and Tasered",
                    "shot and Tasered",
                    "shot and Tasered",
                    "shot and Tasered",
                    "shot and Tasered",
                    "shot and Tasered",
                    "shot and Tasered",
                    "shot and Tasered",
                    "shot and Tasered",
                    "shot and Tasered",
                    "shot and Tasered",
                    "shot and Tasered",
                    "shot and Tasered"
                  ],
                  "x0": " ",
                  "xaxis": "x",
                  "y": {
                    "bdata": "AAAAAAAAOUAAAAAAAABCQAAAAAAAADhAAAAAAAAAPUAAAAAAAAA/QAAAAAAAAEFAAAAAAACAQEAAAAAAAAA8QAAAAAAAAEBAAAAAAAAAO0AAAAAAAAA3QAAAAAAAgEFAAAAAAAAAOkAAAAAAAAA+QAAAAAAAgEJAAAAAAACARkAAAAAAAABDQAAAAAAAADZAAAAAAAAAMkAAAAAAAIBEQAAAAAAAADVAAAAAAACAQ0AAAAAAAABEQAAAAAAAADNAAAAAAAAASUAAAAAAAIBKQAAAAAAAADRAAAAAAACARUAAAAAAAIBHQAAAAAAAAEVAAAAAAACATUAAAAAAAABHQAAAAAAAgElAAAAAAACASEAAAAAAAABIQAAAAAAAAEZAAAAAAAAASkAAAAAAAABMQAAAAAAAAEtAAAAAAACAS0AAAAAAAIBMQAAAAAAAADFAAAAAAAAATUAAAAAAAAAwQAAAAAAAAE5AAAAAAACAT0AAAAAAAABPQAAAAAAAAFBAAAAAAACATkAAAAAAAAA5QAAAAAAAgEBAAAAAAAAALkAAAAAAAEBQQAAAAAAAgFBAAAAAAABAUUAAAAAAAAA+QAAAAAAAAD9AAAAAAACAQUAAAAAAAABCQAAAAAAAAFFAAAAAAAAAQEAAAAAAAAA0QAAAAAAAADpAAAAAAAAAQ0AAAAAAAIBFQAAAAAAAgEhAAAAAAAAASUAAAAAAAMBQQAAAAAAAgFFAAAAAAAAAU0AAAAAAAAA9QAAAAAAAgEJAAAAAAACAQ0AAAAAAAABFQAAAAAAAAEdAAAAAAAAASEAAAAAAAABLQAAAAAAAgE9AAAAAAADAUUAAAAAAAABSQAAAAAAAADJAAAAAAAAANUAAAAAAAAA3QAAAAAAAADxAAAAAAACAREAAAAAAAIBGQAAAAAAAAEpAAAAAAABAUkAAAAAAAIBSQAAAAAAAwFJAAAAAAABAU0AAAAAAAIBUQAAAAAAAwFRAAAAAAACAVUAAAAAAAAA2QAAAAAAAADhAAAAAAAAAO0AAAAAAAABBQAAAAAAAgEdAAAAAAACASUAAAAAAAIBKQAAAAAAAABhAAAAAAAAAKkAAAAAAAAAsQAAAAAAAwFNAAAAAAAAAVEAAAAAAAMBWQAAAAAAAAC5AAAAAAAAAMEAAAAAAAAAxQAAAAAAAADNAAAAAAAAAREAAAAAAAABGQAAAAAAAgEtAAAAAAAAATEAAAAAAAIBMQAAAAAAAAE1AAAAAAAAATkAAAAAAAMBQQAAAAAAAgFFAAAAAAAAAU0A=",
                    "dtype": "f8"
                  },
                  "y0": " ",
                  "yaxis": "y"
                }
              ],
              "layout": {
                "boxmode": "group",
                "legend": {
                  "title": {
                    "text": "gender"
                  },
                  "tracegroupgap": 0
                },
                "margin": {
                  "t": 60
                },
                "template": {
                  "data": {
                    "bar": [
                      {
                        "error_x": {
                          "color": "#f2f5fa"
                        },
                        "error_y": {
                          "color": "#f2f5fa"
                        },
                        "marker": {
                          "line": {
                            "color": "rgb(17,17,17)",
                            "width": 0.5
                          },
                          "pattern": {
                            "fillmode": "overlay",
                            "size": 10,
                            "solidity": 0.2
                          }
                        },
                        "type": "bar"
                      }
                    ],
                    "barpolar": [
                      {
                        "marker": {
                          "line": {
                            "color": "rgb(17,17,17)",
                            "width": 0.5
                          },
                          "pattern": {
                            "fillmode": "overlay",
                            "size": 10,
                            "solidity": 0.2
                          }
                        },
                        "type": "barpolar"
                      }
                    ],
                    "carpet": [
                      {
                        "aaxis": {
                          "endlinecolor": "#A2B1C6",
                          "gridcolor": "#506784",
                          "linecolor": "#506784",
                          "minorgridcolor": "#506784",
                          "startlinecolor": "#A2B1C6"
                        },
                        "baxis": {
                          "endlinecolor": "#A2B1C6",
                          "gridcolor": "#506784",
                          "linecolor": "#506784",
                          "minorgridcolor": "#506784",
                          "startlinecolor": "#A2B1C6"
                        },
                        "type": "carpet"
                      }
                    ],
                    "choropleth": [
                      {
                        "colorbar": {
                          "outlinewidth": 0,
                          "ticks": ""
                        },
                        "type": "choropleth"
                      }
                    ],
                    "contour": [
                      {
                        "colorbar": {
                          "outlinewidth": 0,
                          "ticks": ""
                        },
                        "colorscale": [
                          [
                            0,
                            "#0d0887"
                          ],
                          [
                            0.1111111111111111,
                            "#46039f"
                          ],
                          [
                            0.2222222222222222,
                            "#7201a8"
                          ],
                          [
                            0.3333333333333333,
                            "#9c179e"
                          ],
                          [
                            0.4444444444444444,
                            "#bd3786"
                          ],
                          [
                            0.5555555555555556,
                            "#d8576b"
                          ],
                          [
                            0.6666666666666666,
                            "#ed7953"
                          ],
                          [
                            0.7777777777777778,
                            "#fb9f3a"
                          ],
                          [
                            0.8888888888888888,
                            "#fdca26"
                          ],
                          [
                            1,
                            "#f0f921"
                          ]
                        ],
                        "type": "contour"
                      }
                    ],
                    "contourcarpet": [
                      {
                        "colorbar": {
                          "outlinewidth": 0,
                          "ticks": ""
                        },
                        "type": "contourcarpet"
                      }
                    ],
                    "heatmap": [
                      {
                        "colorbar": {
                          "outlinewidth": 0,
                          "ticks": ""
                        },
                        "colorscale": [
                          [
                            0,
                            "#0d0887"
                          ],
                          [
                            0.1111111111111111,
                            "#46039f"
                          ],
                          [
                            0.2222222222222222,
                            "#7201a8"
                          ],
                          [
                            0.3333333333333333,
                            "#9c179e"
                          ],
                          [
                            0.4444444444444444,
                            "#bd3786"
                          ],
                          [
                            0.5555555555555556,
                            "#d8576b"
                          ],
                          [
                            0.6666666666666666,
                            "#ed7953"
                          ],
                          [
                            0.7777777777777778,
                            "#fb9f3a"
                          ],
                          [
                            0.8888888888888888,
                            "#fdca26"
                          ],
                          [
                            1,
                            "#f0f921"
                          ]
                        ],
                        "type": "heatmap"
                      }
                    ],
                    "histogram": [
                      {
                        "marker": {
                          "pattern": {
                            "fillmode": "overlay",
                            "size": 10,
                            "solidity": 0.2
                          }
                        },
                        "type": "histogram"
                      }
                    ],
                    "histogram2d": [
                      {
                        "colorbar": {
                          "outlinewidth": 0,
                          "ticks": ""
                        },
                        "colorscale": [
                          [
                            0,
                            "#0d0887"
                          ],
                          [
                            0.1111111111111111,
                            "#46039f"
                          ],
                          [
                            0.2222222222222222,
                            "#7201a8"
                          ],
                          [
                            0.3333333333333333,
                            "#9c179e"
                          ],
                          [
                            0.4444444444444444,
                            "#bd3786"
                          ],
                          [
                            0.5555555555555556,
                            "#d8576b"
                          ],
                          [
                            0.6666666666666666,
                            "#ed7953"
                          ],
                          [
                            0.7777777777777778,
                            "#fb9f3a"
                          ],
                          [
                            0.8888888888888888,
                            "#fdca26"
                          ],
                          [
                            1,
                            "#f0f921"
                          ]
                        ],
                        "type": "histogram2d"
                      }
                    ],
                    "histogram2dcontour": [
                      {
                        "colorbar": {
                          "outlinewidth": 0,
                          "ticks": ""
                        },
                        "colorscale": [
                          [
                            0,
                            "#0d0887"
                          ],
                          [
                            0.1111111111111111,
                            "#46039f"
                          ],
                          [
                            0.2222222222222222,
                            "#7201a8"
                          ],
                          [
                            0.3333333333333333,
                            "#9c179e"
                          ],
                          [
                            0.4444444444444444,
                            "#bd3786"
                          ],
                          [
                            0.5555555555555556,
                            "#d8576b"
                          ],
                          [
                            0.6666666666666666,
                            "#ed7953"
                          ],
                          [
                            0.7777777777777778,
                            "#fb9f3a"
                          ],
                          [
                            0.8888888888888888,
                            "#fdca26"
                          ],
                          [
                            1,
                            "#f0f921"
                          ]
                        ],
                        "type": "histogram2dcontour"
                      }
                    ],
                    "mesh3d": [
                      {
                        "colorbar": {
                          "outlinewidth": 0,
                          "ticks": ""
                        },
                        "type": "mesh3d"
                      }
                    ],
                    "parcoords": [
                      {
                        "line": {
                          "colorbar": {
                            "outlinewidth": 0,
                            "ticks": ""
                          }
                        },
                        "type": "parcoords"
                      }
                    ],
                    "pie": [
                      {
                        "automargin": true,
                        "type": "pie"
                      }
                    ],
                    "scatter": [
                      {
                        "marker": {
                          "line": {
                            "color": "#283442"
                          }
                        },
                        "type": "scatter"
                      }
                    ],
                    "scatter3d": [
                      {
                        "line": {
                          "colorbar": {
                            "outlinewidth": 0,
                            "ticks": ""
                          }
                        },
                        "marker": {
                          "colorbar": {
                            "outlinewidth": 0,
                            "ticks": ""
                          }
                        },
                        "type": "scatter3d"
                      }
                    ],
                    "scattercarpet": [
                      {
                        "marker": {
                          "colorbar": {
                            "outlinewidth": 0,
                            "ticks": ""
                          }
                        },
                        "type": "scattercarpet"
                      }
                    ],
                    "scattergeo": [
                      {
                        "marker": {
                          "colorbar": {
                            "outlinewidth": 0,
                            "ticks": ""
                          }
                        },
                        "type": "scattergeo"
                      }
                    ],
                    "scattergl": [
                      {
                        "marker": {
                          "line": {
                            "color": "#283442"
                          }
                        },
                        "type": "scattergl"
                      }
                    ],
                    "scattermap": [
                      {
                        "marker": {
                          "colorbar": {
                            "outlinewidth": 0,
                            "ticks": ""
                          }
                        },
                        "type": "scattermap"
                      }
                    ],
                    "scattermapbox": [
                      {
                        "marker": {
                          "colorbar": {
                            "outlinewidth": 0,
                            "ticks": ""
                          }
                        },
                        "type": "scattermapbox"
                      }
                    ],
                    "scatterpolar": [
                      {
                        "marker": {
                          "colorbar": {
                            "outlinewidth": 0,
                            "ticks": ""
                          }
                        },
                        "type": "scatterpolar"
                      }
                    ],
                    "scatterpolargl": [
                      {
                        "marker": {
                          "colorbar": {
                            "outlinewidth": 0,
                            "ticks": ""
                          }
                        },
                        "type": "scatterpolargl"
                      }
                    ],
                    "scatterternary": [
                      {
                        "marker": {
                          "colorbar": {
                            "outlinewidth": 0,
                            "ticks": ""
                          }
                        },
                        "type": "scatterternary"
                      }
                    ],
                    "surface": [
                      {
                        "colorbar": {
                          "outlinewidth": 0,
                          "ticks": ""
                        },
                        "colorscale": [
                          [
                            0,
                            "#0d0887"
                          ],
                          [
                            0.1111111111111111,
                            "#46039f"
                          ],
                          [
                            0.2222222222222222,
                            "#7201a8"
                          ],
                          [
                            0.3333333333333333,
                            "#9c179e"
                          ],
                          [
                            0.4444444444444444,
                            "#bd3786"
                          ],
                          [
                            0.5555555555555556,
                            "#d8576b"
                          ],
                          [
                            0.6666666666666666,
                            "#ed7953"
                          ],
                          [
                            0.7777777777777778,
                            "#fb9f3a"
                          ],
                          [
                            0.8888888888888888,
                            "#fdca26"
                          ],
                          [
                            1,
                            "#f0f921"
                          ]
                        ],
                        "type": "surface"
                      }
                    ],
                    "table": [
                      {
                        "cells": {
                          "fill": {
                            "color": "#506784"
                          },
                          "line": {
                            "color": "rgb(17,17,17)"
                          }
                        },
                        "header": {
                          "fill": {
                            "color": "#2a3f5f"
                          },
                          "line": {
                            "color": "rgb(17,17,17)"
                          }
                        },
                        "type": "table"
                      }
                    ]
                  },
                  "layout": {
                    "annotationdefaults": {
                      "arrowcolor": "#f2f5fa",
                      "arrowhead": 0,
                      "arrowwidth": 1
                    },
                    "autotypenumbers": "strict",
                    "coloraxis": {
                      "colorbar": {
                        "outlinewidth": 0,
                        "ticks": ""
                      }
                    },
                    "colorscale": {
                      "diverging": [
                        [
                          0,
                          "#8e0152"
                        ],
                        [
                          0.1,
                          "#c51b7d"
                        ],
                        [
                          0.2,
                          "#de77ae"
                        ],
                        [
                          0.3,
                          "#f1b6da"
                        ],
                        [
                          0.4,
                          "#fde0ef"
                        ],
                        [
                          0.5,
                          "#f7f7f7"
                        ],
                        [
                          0.6,
                          "#e6f5d0"
                        ],
                        [
                          0.7,
                          "#b8e186"
                        ],
                        [
                          0.8,
                          "#7fbc41"
                        ],
                        [
                          0.9,
                          "#4d9221"
                        ],
                        [
                          1,
                          "#276419"
                        ]
                      ],
                      "sequential": [
                        [
                          0,
                          "#0d0887"
                        ],
                        [
                          0.1111111111111111,
                          "#46039f"
                        ],
                        [
                          0.2222222222222222,
                          "#7201a8"
                        ],
                        [
                          0.3333333333333333,
                          "#9c179e"
                        ],
                        [
                          0.4444444444444444,
                          "#bd3786"
                        ],
                        [
                          0.5555555555555556,
                          "#d8576b"
                        ],
                        [
                          0.6666666666666666,
                          "#ed7953"
                        ],
                        [
                          0.7777777777777778,
                          "#fb9f3a"
                        ],
                        [
                          0.8888888888888888,
                          "#fdca26"
                        ],
                        [
                          1,
                          "#f0f921"
                        ]
                      ],
                      "sequentialminus": [
                        [
                          0,
                          "#0d0887"
                        ],
                        [
                          0.1111111111111111,
                          "#46039f"
                        ],
                        [
                          0.2222222222222222,
                          "#7201a8"
                        ],
                        [
                          0.3333333333333333,
                          "#9c179e"
                        ],
                        [
                          0.4444444444444444,
                          "#bd3786"
                        ],
                        [
                          0.5555555555555556,
                          "#d8576b"
                        ],
                        [
                          0.6666666666666666,
                          "#ed7953"
                        ],
                        [
                          0.7777777777777778,
                          "#fb9f3a"
                        ],
                        [
                          0.8888888888888888,
                          "#fdca26"
                        ],
                        [
                          1,
                          "#f0f921"
                        ]
                      ]
                    },
                    "colorway": [
                      "#636efa",
                      "#EF553B",
                      "#00cc96",
                      "#ab63fa",
                      "#FFA15A",
                      "#19d3f3",
                      "#FF6692",
                      "#B6E880",
                      "#FF97FF",
                      "#FECB52"
                    ],
                    "font": {
                      "color": "#f2f5fa"
                    },
                    "geo": {
                      "bgcolor": "rgb(17,17,17)",
                      "lakecolor": "rgb(17,17,17)",
                      "landcolor": "rgb(17,17,17)",
                      "showlakes": true,
                      "showland": true,
                      "subunitcolor": "#506784"
                    },
                    "hoverlabel": {
                      "align": "left"
                    },
                    "hovermode": "closest",
                    "mapbox": {
                      "style": "dark"
                    },
                    "paper_bgcolor": "rgb(17,17,17)",
                    "plot_bgcolor": "rgb(17,17,17)",
                    "polar": {
                      "angularaxis": {
                        "gridcolor": "#506784",
                        "linecolor": "#506784",
                        "ticks": ""
                      },
                      "bgcolor": "rgb(17,17,17)",
                      "radialaxis": {
                        "gridcolor": "#506784",
                        "linecolor": "#506784",
                        "ticks": ""
                      }
                    },
                    "scene": {
                      "xaxis": {
                        "backgroundcolor": "rgb(17,17,17)",
                        "gridcolor": "#506784",
                        "gridwidth": 2,
                        "linecolor": "#506784",
                        "showbackground": true,
                        "ticks": "",
                        "zerolinecolor": "#C8D4E3"
                      },
                      "yaxis": {
                        "backgroundcolor": "rgb(17,17,17)",
                        "gridcolor": "#506784",
                        "gridwidth": 2,
                        "linecolor": "#506784",
                        "showbackground": true,
                        "ticks": "",
                        "zerolinecolor": "#C8D4E3"
                      },
                      "zaxis": {
                        "backgroundcolor": "rgb(17,17,17)",
                        "gridcolor": "#506784",
                        "gridwidth": 2,
                        "linecolor": "#506784",
                        "showbackground": true,
                        "ticks": "",
                        "zerolinecolor": "#C8D4E3"
                      }
                    },
                    "shapedefaults": {
                      "line": {
                        "color": "#f2f5fa"
                      }
                    },
                    "sliderdefaults": {
                      "bgcolor": "#C8D4E3",
                      "bordercolor": "rgb(17,17,17)",
                      "borderwidth": 1,
                      "tickwidth": 0
                    },
                    "ternary": {
                      "aaxis": {
                        "gridcolor": "#506784",
                        "linecolor": "#506784",
                        "ticks": ""
                      },
                      "baxis": {
                        "gridcolor": "#506784",
                        "linecolor": "#506784",
                        "ticks": ""
                      },
                      "bgcolor": "rgb(17,17,17)",
                      "caxis": {
                        "gridcolor": "#506784",
                        "linecolor": "#506784",
                        "ticks": ""
                      }
                    },
                    "title": {
                      "x": 0.05
                    },
                    "updatemenudefaults": {
                      "bgcolor": "#506784",
                      "borderwidth": 0
                    },
                    "xaxis": {
                      "automargin": true,
                      "gridcolor": "#283442",
                      "linecolor": "#506784",
                      "ticks": "",
                      "title": {
                        "standoff": 15
                      },
                      "zerolinecolor": "#283442",
                      "zerolinewidth": 2
                    },
                    "yaxis": {
                      "automargin": true,
                      "gridcolor": "#283442",
                      "linecolor": "#506784",
                      "ticks": "",
                      "title": {
                        "standoff": 15
                      },
                      "zerolinecolor": "#283442",
                      "zerolinewidth": 2
                    }
                  }
                },
                "xaxis": {
                  "anchor": "y",
                  "domain": [
                    0,
                    1
                  ],
                  "title": {
                    "text": "manner_of_death"
                  }
                },
                "yaxis": {
                  "anchor": "x",
                  "domain": [
                    0,
                    1
                  ],
                  "title": {
                    "text": "age"
                  }
                }
              }
            }
          },
          "metadata": {},
          "output_type": "display_data"
        }
      ],
      "source": [
        "fig = px.box(df_gender_death_difference,x='manner_of_death',y='age',color='gender')\n",
        "\n",
        "fig.layout.template = 'plotly_dark'\n",
        "fig.show()"
      ]
    },
    {
      "cell_type": "code",
      "execution_count": null,
      "metadata": {
        "id": "EnFbXlRm3XK6"
      },
      "outputs": [],
      "source": []
    },
    {
      "cell_type": "markdown",
      "metadata": {
        "id": "h1pAgkyb3Xb0"
      },
      "source": [
        "# Were People Armed? \n",
        "\n",
        "In what percentage of police killings were people armed? Create chart that show what kind of weapon (if any) the deceased was carrying. How many of the people killed by police were armed with guns versus unarmed? "
      ]
    },
    {
      "cell_type": "code",
      "execution_count": 80,
      "metadata": {
        "id": "0d9B3Pec4TdM"
      },
      "outputs": [
        {
          "data": {
            "application/vnd.microsoft.datawrangler.viewer.v0+json": {
              "columns": [
                {
                  "name": "index",
                  "rawType": "int64",
                  "type": "integer"
                },
                {
                  "name": "id",
                  "rawType": "int64",
                  "type": "integer"
                },
                {
                  "name": "name",
                  "rawType": "object",
                  "type": "string"
                },
                {
                  "name": "date",
                  "rawType": "object",
                  "type": "string"
                },
                {
                  "name": "manner_of_death",
                  "rawType": "object",
                  "type": "string"
                },
                {
                  "name": "armed",
                  "rawType": "object",
                  "type": "string"
                },
                {
                  "name": "age",
                  "rawType": "float64",
                  "type": "float"
                },
                {
                  "name": "gender",
                  "rawType": "object",
                  "type": "string"
                },
                {
                  "name": "race",
                  "rawType": "object",
                  "type": "string"
                },
                {
                  "name": "city",
                  "rawType": "object",
                  "type": "string"
                },
                {
                  "name": "state",
                  "rawType": "object",
                  "type": "string"
                },
                {
                  "name": "signs_of_mental_illness",
                  "rawType": "bool",
                  "type": "boolean"
                },
                {
                  "name": "threat_level",
                  "rawType": "object",
                  "type": "string"
                },
                {
                  "name": "flee",
                  "rawType": "object",
                  "type": "string"
                },
                {
                  "name": "body_camera",
                  "rawType": "bool",
                  "type": "boolean"
                }
              ],
              "conversionMethod": "pd.DataFrame",
              "ref": "994558a9-8bc3-474b-967b-6ee34fefcf31",
              "rows": [
                [
                  "0",
                  "3",
                  "Tim Elliot",
                  "02/01/15",
                  "shot",
                  "gun",
                  "53.0",
                  "M",
                  "A",
                  "Shelton",
                  "WA",
                  "True",
                  "attack",
                  "Not fleeing",
                  "False"
                ],
                [
                  "1",
                  "4",
                  "Lewis Lee Lembke",
                  "02/01/15",
                  "shot",
                  "gun",
                  "47.0",
                  "M",
                  "W",
                  "Aloha",
                  "OR",
                  "False",
                  "attack",
                  "Not fleeing",
                  "False"
                ],
                [
                  "2",
                  "5",
                  "John Paul Quintero",
                  "03/01/15",
                  "shot and Tasered",
                  "unarmed",
                  "23.0",
                  "M",
                  "H",
                  "Wichita",
                  "KS",
                  "False",
                  "other",
                  "Not fleeing",
                  "False"
                ],
                [
                  "3",
                  "8",
                  "Matthew Hoffman",
                  "04/01/15",
                  "shot",
                  "toy weapon",
                  "32.0",
                  "M",
                  "W",
                  "San Francisco",
                  "CA",
                  "True",
                  "attack",
                  "Not fleeing",
                  "False"
                ],
                [
                  "4",
                  "9",
                  "Michael Rodriguez",
                  "04/01/15",
                  "shot",
                  "nail gun",
                  "39.0",
                  "M",
                  "H",
                  "Evans",
                  "CO",
                  "False",
                  "attack",
                  "Not fleeing",
                  "False"
                ]
              ],
              "shape": {
                "columns": 14,
                "rows": 5
              }
            },
            "text/html": [
              "<div>\n",
              "<style scoped>\n",
              "    .dataframe tbody tr th:only-of-type {\n",
              "        vertical-align: middle;\n",
              "    }\n",
              "\n",
              "    .dataframe tbody tr th {\n",
              "        vertical-align: top;\n",
              "    }\n",
              "\n",
              "    .dataframe thead th {\n",
              "        text-align: right;\n",
              "    }\n",
              "</style>\n",
              "<table border=\"1\" class=\"dataframe\">\n",
              "  <thead>\n",
              "    <tr style=\"text-align: right;\">\n",
              "      <th></th>\n",
              "      <th>id</th>\n",
              "      <th>name</th>\n",
              "      <th>date</th>\n",
              "      <th>manner_of_death</th>\n",
              "      <th>armed</th>\n",
              "      <th>age</th>\n",
              "      <th>gender</th>\n",
              "      <th>race</th>\n",
              "      <th>city</th>\n",
              "      <th>state</th>\n",
              "      <th>signs_of_mental_illness</th>\n",
              "      <th>threat_level</th>\n",
              "      <th>flee</th>\n",
              "      <th>body_camera</th>\n",
              "    </tr>\n",
              "  </thead>\n",
              "  <tbody>\n",
              "    <tr>\n",
              "      <th>0</th>\n",
              "      <td>3</td>\n",
              "      <td>Tim Elliot</td>\n",
              "      <td>02/01/15</td>\n",
              "      <td>shot</td>\n",
              "      <td>gun</td>\n",
              "      <td>53.00</td>\n",
              "      <td>M</td>\n",
              "      <td>A</td>\n",
              "      <td>Shelton</td>\n",
              "      <td>WA</td>\n",
              "      <td>True</td>\n",
              "      <td>attack</td>\n",
              "      <td>Not fleeing</td>\n",
              "      <td>False</td>\n",
              "    </tr>\n",
              "    <tr>\n",
              "      <th>1</th>\n",
              "      <td>4</td>\n",
              "      <td>Lewis Lee Lembke</td>\n",
              "      <td>02/01/15</td>\n",
              "      <td>shot</td>\n",
              "      <td>gun</td>\n",
              "      <td>47.00</td>\n",
              "      <td>M</td>\n",
              "      <td>W</td>\n",
              "      <td>Aloha</td>\n",
              "      <td>OR</td>\n",
              "      <td>False</td>\n",
              "      <td>attack</td>\n",
              "      <td>Not fleeing</td>\n",
              "      <td>False</td>\n",
              "    </tr>\n",
              "    <tr>\n",
              "      <th>2</th>\n",
              "      <td>5</td>\n",
              "      <td>John Paul Quintero</td>\n",
              "      <td>03/01/15</td>\n",
              "      <td>shot and Tasered</td>\n",
              "      <td>unarmed</td>\n",
              "      <td>23.00</td>\n",
              "      <td>M</td>\n",
              "      <td>H</td>\n",
              "      <td>Wichita</td>\n",
              "      <td>KS</td>\n",
              "      <td>False</td>\n",
              "      <td>other</td>\n",
              "      <td>Not fleeing</td>\n",
              "      <td>False</td>\n",
              "    </tr>\n",
              "    <tr>\n",
              "      <th>3</th>\n",
              "      <td>8</td>\n",
              "      <td>Matthew Hoffman</td>\n",
              "      <td>04/01/15</td>\n",
              "      <td>shot</td>\n",
              "      <td>toy weapon</td>\n",
              "      <td>32.00</td>\n",
              "      <td>M</td>\n",
              "      <td>W</td>\n",
              "      <td>San Francisco</td>\n",
              "      <td>CA</td>\n",
              "      <td>True</td>\n",
              "      <td>attack</td>\n",
              "      <td>Not fleeing</td>\n",
              "      <td>False</td>\n",
              "    </tr>\n",
              "    <tr>\n",
              "      <th>4</th>\n",
              "      <td>9</td>\n",
              "      <td>Michael Rodriguez</td>\n",
              "      <td>04/01/15</td>\n",
              "      <td>shot</td>\n",
              "      <td>nail gun</td>\n",
              "      <td>39.00</td>\n",
              "      <td>M</td>\n",
              "      <td>H</td>\n",
              "      <td>Evans</td>\n",
              "      <td>CO</td>\n",
              "      <td>False</td>\n",
              "      <td>attack</td>\n",
              "      <td>Not fleeing</td>\n",
              "      <td>False</td>\n",
              "    </tr>\n",
              "  </tbody>\n",
              "</table>\n",
              "</div>"
            ],
            "text/plain": [
              "   id                name      date   manner_of_death       armed   age  \\\n",
              "0   3          Tim Elliot  02/01/15              shot         gun 53.00   \n",
              "1   4    Lewis Lee Lembke  02/01/15              shot         gun 47.00   \n",
              "2   5  John Paul Quintero  03/01/15  shot and Tasered     unarmed 23.00   \n",
              "3   8     Matthew Hoffman  04/01/15              shot  toy weapon 32.00   \n",
              "4   9   Michael Rodriguez  04/01/15              shot    nail gun 39.00   \n",
              "\n",
              "  gender race           city state  signs_of_mental_illness threat_level  \\\n",
              "0      M    A        Shelton    WA                     True       attack   \n",
              "1      M    W          Aloha    OR                    False       attack   \n",
              "2      M    H        Wichita    KS                    False        other   \n",
              "3      M    W  San Francisco    CA                     True       attack   \n",
              "4      M    H          Evans    CO                    False       attack   \n",
              "\n",
              "          flee  body_camera  \n",
              "0  Not fleeing        False  \n",
              "1  Not fleeing        False  \n",
              "2  Not fleeing        False  \n",
              "3  Not fleeing        False  \n",
              "4  Not fleeing        False  "
            ]
          },
          "execution_count": 80,
          "metadata": {},
          "output_type": "execute_result"
        }
      ],
      "source": [
        "df_fatalities.head()"
      ]
    },
    {
      "cell_type": "code",
      "execution_count": 81,
      "metadata": {
        "id": "vdGTO3pW4Tp5"
      },
      "outputs": [
        {
          "data": {
            "application/vnd.microsoft.datawrangler.viewer.v0+json": {
              "columns": [
                {
                  "name": "index",
                  "rawType": "int64",
                  "type": "integer"
                },
                {
                  "name": "id",
                  "rawType": "int64",
                  "type": "integer"
                },
                {
                  "name": "name",
                  "rawType": "object",
                  "type": "string"
                },
                {
                  "name": "date",
                  "rawType": "object",
                  "type": "string"
                },
                {
                  "name": "manner_of_death",
                  "rawType": "object",
                  "type": "string"
                },
                {
                  "name": "armed",
                  "rawType": "object",
                  "type": "string"
                },
                {
                  "name": "age",
                  "rawType": "float64",
                  "type": "float"
                },
                {
                  "name": "gender",
                  "rawType": "object",
                  "type": "string"
                },
                {
                  "name": "race",
                  "rawType": "object",
                  "type": "string"
                },
                {
                  "name": "city",
                  "rawType": "object",
                  "type": "string"
                },
                {
                  "name": "state",
                  "rawType": "object",
                  "type": "string"
                },
                {
                  "name": "signs_of_mental_illness",
                  "rawType": "bool",
                  "type": "boolean"
                },
                {
                  "name": "threat_level",
                  "rawType": "object",
                  "type": "string"
                },
                {
                  "name": "flee",
                  "rawType": "object",
                  "type": "string"
                },
                {
                  "name": "body_camera",
                  "rawType": "bool",
                  "type": "boolean"
                }
              ],
              "conversionMethod": "pd.DataFrame",
              "ref": "238d0bf8-902d-4437-bbcd-72be827ad691",
              "rows": [
                [
                  "0",
                  "3",
                  "Tim Elliot",
                  "02/01/15",
                  "shot",
                  "gun",
                  "53.0",
                  "M",
                  "A",
                  "Shelton",
                  "WA",
                  "True",
                  "attack",
                  "Not fleeing",
                  "False"
                ],
                [
                  "1",
                  "4",
                  "Lewis Lee Lembke",
                  "02/01/15",
                  "shot",
                  "gun",
                  "47.0",
                  "M",
                  "W",
                  "Aloha",
                  "OR",
                  "False",
                  "attack",
                  "Not fleeing",
                  "False"
                ],
                [
                  "2",
                  "5",
                  "John Paul Quintero",
                  "03/01/15",
                  "shot and Tasered",
                  "unarmed",
                  "23.0",
                  "M",
                  "H",
                  "Wichita",
                  "KS",
                  "False",
                  "other",
                  "Not fleeing",
                  "False"
                ],
                [
                  "3",
                  "8",
                  "Matthew Hoffman",
                  "04/01/15",
                  "shot",
                  "toy weapon",
                  "32.0",
                  "M",
                  "W",
                  "San Francisco",
                  "CA",
                  "True",
                  "attack",
                  "Not fleeing",
                  "False"
                ],
                [
                  "4",
                  "9",
                  "Michael Rodriguez",
                  "04/01/15",
                  "shot",
                  "nail gun",
                  "39.0",
                  "M",
                  "H",
                  "Evans",
                  "CO",
                  "False",
                  "attack",
                  "Not fleeing",
                  "False"
                ]
              ],
              "shape": {
                "columns": 14,
                "rows": 5
              }
            },
            "text/html": [
              "<div>\n",
              "<style scoped>\n",
              "    .dataframe tbody tr th:only-of-type {\n",
              "        vertical-align: middle;\n",
              "    }\n",
              "\n",
              "    .dataframe tbody tr th {\n",
              "        vertical-align: top;\n",
              "    }\n",
              "\n",
              "    .dataframe thead th {\n",
              "        text-align: right;\n",
              "    }\n",
              "</style>\n",
              "<table border=\"1\" class=\"dataframe\">\n",
              "  <thead>\n",
              "    <tr style=\"text-align: right;\">\n",
              "      <th></th>\n",
              "      <th>id</th>\n",
              "      <th>name</th>\n",
              "      <th>date</th>\n",
              "      <th>manner_of_death</th>\n",
              "      <th>armed</th>\n",
              "      <th>age</th>\n",
              "      <th>gender</th>\n",
              "      <th>race</th>\n",
              "      <th>city</th>\n",
              "      <th>state</th>\n",
              "      <th>signs_of_mental_illness</th>\n",
              "      <th>threat_level</th>\n",
              "      <th>flee</th>\n",
              "      <th>body_camera</th>\n",
              "    </tr>\n",
              "  </thead>\n",
              "  <tbody>\n",
              "    <tr>\n",
              "      <th>0</th>\n",
              "      <td>3</td>\n",
              "      <td>Tim Elliot</td>\n",
              "      <td>02/01/15</td>\n",
              "      <td>shot</td>\n",
              "      <td>gun</td>\n",
              "      <td>53.00</td>\n",
              "      <td>M</td>\n",
              "      <td>A</td>\n",
              "      <td>Shelton</td>\n",
              "      <td>WA</td>\n",
              "      <td>True</td>\n",
              "      <td>attack</td>\n",
              "      <td>Not fleeing</td>\n",
              "      <td>False</td>\n",
              "    </tr>\n",
              "    <tr>\n",
              "      <th>1</th>\n",
              "      <td>4</td>\n",
              "      <td>Lewis Lee Lembke</td>\n",
              "      <td>02/01/15</td>\n",
              "      <td>shot</td>\n",
              "      <td>gun</td>\n",
              "      <td>47.00</td>\n",
              "      <td>M</td>\n",
              "      <td>W</td>\n",
              "      <td>Aloha</td>\n",
              "      <td>OR</td>\n",
              "      <td>False</td>\n",
              "      <td>attack</td>\n",
              "      <td>Not fleeing</td>\n",
              "      <td>False</td>\n",
              "    </tr>\n",
              "    <tr>\n",
              "      <th>2</th>\n",
              "      <td>5</td>\n",
              "      <td>John Paul Quintero</td>\n",
              "      <td>03/01/15</td>\n",
              "      <td>shot and Tasered</td>\n",
              "      <td>unarmed</td>\n",
              "      <td>23.00</td>\n",
              "      <td>M</td>\n",
              "      <td>H</td>\n",
              "      <td>Wichita</td>\n",
              "      <td>KS</td>\n",
              "      <td>False</td>\n",
              "      <td>other</td>\n",
              "      <td>Not fleeing</td>\n",
              "      <td>False</td>\n",
              "    </tr>\n",
              "    <tr>\n",
              "      <th>3</th>\n",
              "      <td>8</td>\n",
              "      <td>Matthew Hoffman</td>\n",
              "      <td>04/01/15</td>\n",
              "      <td>shot</td>\n",
              "      <td>toy weapon</td>\n",
              "      <td>32.00</td>\n",
              "      <td>M</td>\n",
              "      <td>W</td>\n",
              "      <td>San Francisco</td>\n",
              "      <td>CA</td>\n",
              "      <td>True</td>\n",
              "      <td>attack</td>\n",
              "      <td>Not fleeing</td>\n",
              "      <td>False</td>\n",
              "    </tr>\n",
              "    <tr>\n",
              "      <th>4</th>\n",
              "      <td>9</td>\n",
              "      <td>Michael Rodriguez</td>\n",
              "      <td>04/01/15</td>\n",
              "      <td>shot</td>\n",
              "      <td>nail gun</td>\n",
              "      <td>39.00</td>\n",
              "      <td>M</td>\n",
              "      <td>H</td>\n",
              "      <td>Evans</td>\n",
              "      <td>CO</td>\n",
              "      <td>False</td>\n",
              "      <td>attack</td>\n",
              "      <td>Not fleeing</td>\n",
              "      <td>False</td>\n",
              "    </tr>\n",
              "  </tbody>\n",
              "</table>\n",
              "</div>"
            ],
            "text/plain": [
              "   id                name      date   manner_of_death       armed   age  \\\n",
              "0   3          Tim Elliot  02/01/15              shot         gun 53.00   \n",
              "1   4    Lewis Lee Lembke  02/01/15              shot         gun 47.00   \n",
              "2   5  John Paul Quintero  03/01/15  shot and Tasered     unarmed 23.00   \n",
              "3   8     Matthew Hoffman  04/01/15              shot  toy weapon 32.00   \n",
              "4   9   Michael Rodriguez  04/01/15              shot    nail gun 39.00   \n",
              "\n",
              "  gender race           city state  signs_of_mental_illness threat_level  \\\n",
              "0      M    A        Shelton    WA                     True       attack   \n",
              "1      M    W          Aloha    OR                    False       attack   \n",
              "2      M    H        Wichita    KS                    False        other   \n",
              "3      M    W  San Francisco    CA                     True       attack   \n",
              "4      M    H          Evans    CO                    False       attack   \n",
              "\n",
              "          flee  body_camera  \n",
              "0  Not fleeing        False  \n",
              "1  Not fleeing        False  \n",
              "2  Not fleeing        False  \n",
              "3  Not fleeing        False  \n",
              "4  Not fleeing        False  "
            ]
          },
          "execution_count": 81,
          "metadata": {},
          "output_type": "execute_result"
        }
      ],
      "source": [
        "df_armed = df_fatalities.copy()\n",
        "\n",
        "\n",
        "\n",
        "\n",
        "df_armed.head()"
      ]
    },
    {
      "cell_type": "code",
      "execution_count": 82,
      "metadata": {},
      "outputs": [
        {
          "data": {
            "text/plain": [
              "armed\n",
              "gun            55.34\n",
              "knife          14.77\n",
              "vehicle         7.01\n",
              "unarmed         6.77\n",
              "undetermined    4.63\n",
              "                ... \n",
              "hand torch      0.04\n",
              "garden tool     0.04\n",
              "pole            0.04\n",
              "pick-axe        0.04\n",
              "pen             0.04\n",
              "Name: count, Length: 68, dtype: float64"
            ]
          },
          "execution_count": 82,
          "metadata": {},
          "output_type": "execute_result"
        }
      ],
      "source": [
        "armed_counts= df_armed['armed'].value_counts(dropna=True)\n",
        "armed_percent = armed_counts/armed_counts.sum() * 100\n",
        "armed_percent"
      ]
    },
    {
      "cell_type": "code",
      "execution_count": 83,
      "metadata": {
        "id": "qnO_rckl4WuJ"
      },
      "outputs": [
        {
          "data": {
            "application/vnd.microsoft.datawrangler.viewer.v0+json": {
              "columns": [
                {
                  "name": "index",
                  "rawType": "int64",
                  "type": "integer"
                },
                {
                  "name": "armed",
                  "rawType": "object",
                  "type": "string"
                },
                {
                  "name": "Pct Armed",
                  "rawType": "float64",
                  "type": "float"
                }
              ],
              "conversionMethod": "pd.DataFrame",
              "ref": "2b939ee6-91f5-4f5b-937a-e5e977655d21",
              "rows": [
                [
                  "0",
                  "gun",
                  "55.34441805225653"
                ],
                [
                  "1",
                  "knife",
                  "14.766429136975457"
                ],
                [
                  "2",
                  "vehicle",
                  "7.007125890736342"
                ],
                [
                  "3",
                  "unarmed",
                  "6.7695961995249405"
                ],
                [
                  "4",
                  "undetermined",
                  "4.631828978622328"
                ]
              ],
              "shape": {
                "columns": 2,
                "rows": 5
              }
            },
            "text/html": [
              "<div>\n",
              "<style scoped>\n",
              "    .dataframe tbody tr th:only-of-type {\n",
              "        vertical-align: middle;\n",
              "    }\n",
              "\n",
              "    .dataframe tbody tr th {\n",
              "        vertical-align: top;\n",
              "    }\n",
              "\n",
              "    .dataframe thead th {\n",
              "        text-align: right;\n",
              "    }\n",
              "</style>\n",
              "<table border=\"1\" class=\"dataframe\">\n",
              "  <thead>\n",
              "    <tr style=\"text-align: right;\">\n",
              "      <th></th>\n",
              "      <th>armed</th>\n",
              "      <th>Pct Armed</th>\n",
              "    </tr>\n",
              "  </thead>\n",
              "  <tbody>\n",
              "    <tr>\n",
              "      <th>0</th>\n",
              "      <td>gun</td>\n",
              "      <td>55.34</td>\n",
              "    </tr>\n",
              "    <tr>\n",
              "      <th>1</th>\n",
              "      <td>knife</td>\n",
              "      <td>14.77</td>\n",
              "    </tr>\n",
              "    <tr>\n",
              "      <th>2</th>\n",
              "      <td>vehicle</td>\n",
              "      <td>7.01</td>\n",
              "    </tr>\n",
              "    <tr>\n",
              "      <th>3</th>\n",
              "      <td>unarmed</td>\n",
              "      <td>6.77</td>\n",
              "    </tr>\n",
              "    <tr>\n",
              "      <th>4</th>\n",
              "      <td>undetermined</td>\n",
              "      <td>4.63</td>\n",
              "    </tr>\n",
              "  </tbody>\n",
              "</table>\n",
              "</div>"
            ],
            "text/plain": [
              "          armed  Pct Armed\n",
              "0           gun      55.34\n",
              "1         knife      14.77\n",
              "2       vehicle       7.01\n",
              "3       unarmed       6.77\n",
              "4  undetermined       4.63"
            ]
          },
          "execution_count": 83,
          "metadata": {},
          "output_type": "execute_result"
        }
      ],
      "source": [
        "df_armed_percent = armed_percent.reset_index(name='Pct Armed')\n",
        "df_armed_percent.head()"
      ]
    },
    {
      "cell_type": "code",
      "execution_count": 84,
      "metadata": {},
      "outputs": [
        {
          "data": {
            "application/vnd.plotly.v1+json": {
              "config": {
                "plotlyServerURL": "https://plot.ly"
              },
              "data": [
                {
                  "hovertemplate": "armed=%{x}<br>Pct Armed=%{y}<extra></extra>",
                  "legendgroup": "",
                  "marker": {
                    "color": "#636efa",
                    "pattern": {
                      "shape": ""
                    }
                  },
                  "name": "",
                  "orientation": "v",
                  "showlegend": false,
                  "textposition": "auto",
                  "type": "bar",
                  "x": [
                    "gun",
                    "knife",
                    "vehicle",
                    "unarmed",
                    "undetermined",
                    "toy weapon",
                    "machete",
                    "unknown weapon",
                    "ax",
                    "Taser",
                    "baseball bat",
                    "sword",
                    "hammer",
                    "box cutter",
                    "metal pipe",
                    "hatchet",
                    "crossbow",
                    "gun and knife",
                    "blunt object",
                    "screwdriver",
                    "guns and explosives",
                    "rock",
                    "metal stick",
                    "scissors",
                    "beer bottle",
                    "hatchet and gun",
                    "piece of wood",
                    "chain saw",
                    "pipe",
                    "brick",
                    "shovel",
                    "metal object",
                    "metal pole",
                    "baton",
                    "meat cleaver",
                    "sharp object",
                    "metal rake",
                    "motorcycle",
                    "glass shard",
                    "baseball bat and bottle",
                    "crowbar",
                    "oar",
                    "fireworks",
                    "machete and gun",
                    "bayonet",
                    "pitchfork",
                    "tire iron",
                    "pole and knife",
                    "air conditioner",
                    "bean-bag gun",
                    "spear",
                    "flashlight",
                    "nail gun",
                    "lawn mower blade",
                    "flagpole",
                    "cordless drill",
                    "metal hand tool",
                    "carjack",
                    "chain",
                    "contractor's level",
                    "stapler",
                    "baseball bat and fireplace poker",
                    "straight edge razor",
                    "hand torch",
                    "garden tool",
                    "pole",
                    "pick-axe",
                    "pen"
                  ],
                  "xaxis": "x",
                  "y": {
                    "bdata": "AkwH5BWsS0CuBVxmaYgtQHqrbgJMBxxAkFewBhEUG0BVZP8s/oYSQNoD42D+dxBA893XmYfN5j/z3deZh83mP/Pd15mHzdY/893XmYfN1j+CU9xP6kTUP4JT3E/qRNQ/EsngBU280T8SyeAFTbzRPxLJ4AVNvNE/RH3Kd19nzj9Efcp3X2fOP2Jo0+MkVsk/YmjT4yRWyT9iaNPjJFbJP0R9yndfZ74/RH3Kd19nvj9Efcp3X2e+P0R9yndfZ74/glPcT+pEtD+CU9xP6kS0P4JT3E/qRLQ/glPcT+pEtD+CU9xP6kS0P4JT3E/qRLQ/glPcT+pEtD+CU9xP6kS0P4JT3E/qRLQ/glPcT+pEtD+CU9xP6kS0P4JT3E/qRLQ/glPcT+pEpD+CU9xP6kSkP4JT3E/qRKQ/glPcT+pEpD+CU9xP6kSkP4JT3E/qRKQ/glPcT+pEpD+CU9xP6kSkP4JT3E/qRKQ/glPcT+pEpD+CU9xP6kSkP4JT3E/qRKQ/glPcT+pEpD+CU9xP6kSkP4JT3E/qRKQ/glPcT+pEpD+CU9xP6kSkP4JT3E/qRKQ/glPcT+pEpD+CU9xP6kSkP4JT3E/qRKQ/glPcT+pEpD+CU9xP6kSkP4JT3E/qRKQ/glPcT+pEpD+CU9xP6kSkP4JT3E/qRKQ/glPcT+pEpD+CU9xP6kSkP4JT3E/qRKQ/glPcT+pEpD+CU9xP6kSkPw==",
                    "dtype": "f8"
                  },
                  "yaxis": "y"
                }
              ],
              "layout": {
                "barmode": "relative",
                "legend": {
                  "tracegroupgap": 0
                },
                "margin": {
                  "t": 60
                },
                "template": {
                  "data": {
                    "bar": [
                      {
                        "error_x": {
                          "color": "#2a3f5f"
                        },
                        "error_y": {
                          "color": "#2a3f5f"
                        },
                        "marker": {
                          "line": {
                            "color": "#E5ECF6",
                            "width": 0.5
                          },
                          "pattern": {
                            "fillmode": "overlay",
                            "size": 10,
                            "solidity": 0.2
                          }
                        },
                        "type": "bar"
                      }
                    ],
                    "barpolar": [
                      {
                        "marker": {
                          "line": {
                            "color": "#E5ECF6",
                            "width": 0.5
                          },
                          "pattern": {
                            "fillmode": "overlay",
                            "size": 10,
                            "solidity": 0.2
                          }
                        },
                        "type": "barpolar"
                      }
                    ],
                    "carpet": [
                      {
                        "aaxis": {
                          "endlinecolor": "#2a3f5f",
                          "gridcolor": "white",
                          "linecolor": "white",
                          "minorgridcolor": "white",
                          "startlinecolor": "#2a3f5f"
                        },
                        "baxis": {
                          "endlinecolor": "#2a3f5f",
                          "gridcolor": "white",
                          "linecolor": "white",
                          "minorgridcolor": "white",
                          "startlinecolor": "#2a3f5f"
                        },
                        "type": "carpet"
                      }
                    ],
                    "choropleth": [
                      {
                        "colorbar": {
                          "outlinewidth": 0,
                          "ticks": ""
                        },
                        "type": "choropleth"
                      }
                    ],
                    "contour": [
                      {
                        "colorbar": {
                          "outlinewidth": 0,
                          "ticks": ""
                        },
                        "colorscale": [
                          [
                            0,
                            "#0d0887"
                          ],
                          [
                            0.1111111111111111,
                            "#46039f"
                          ],
                          [
                            0.2222222222222222,
                            "#7201a8"
                          ],
                          [
                            0.3333333333333333,
                            "#9c179e"
                          ],
                          [
                            0.4444444444444444,
                            "#bd3786"
                          ],
                          [
                            0.5555555555555556,
                            "#d8576b"
                          ],
                          [
                            0.6666666666666666,
                            "#ed7953"
                          ],
                          [
                            0.7777777777777778,
                            "#fb9f3a"
                          ],
                          [
                            0.8888888888888888,
                            "#fdca26"
                          ],
                          [
                            1,
                            "#f0f921"
                          ]
                        ],
                        "type": "contour"
                      }
                    ],
                    "contourcarpet": [
                      {
                        "colorbar": {
                          "outlinewidth": 0,
                          "ticks": ""
                        },
                        "type": "contourcarpet"
                      }
                    ],
                    "heatmap": [
                      {
                        "colorbar": {
                          "outlinewidth": 0,
                          "ticks": ""
                        },
                        "colorscale": [
                          [
                            0,
                            "#0d0887"
                          ],
                          [
                            0.1111111111111111,
                            "#46039f"
                          ],
                          [
                            0.2222222222222222,
                            "#7201a8"
                          ],
                          [
                            0.3333333333333333,
                            "#9c179e"
                          ],
                          [
                            0.4444444444444444,
                            "#bd3786"
                          ],
                          [
                            0.5555555555555556,
                            "#d8576b"
                          ],
                          [
                            0.6666666666666666,
                            "#ed7953"
                          ],
                          [
                            0.7777777777777778,
                            "#fb9f3a"
                          ],
                          [
                            0.8888888888888888,
                            "#fdca26"
                          ],
                          [
                            1,
                            "#f0f921"
                          ]
                        ],
                        "type": "heatmap"
                      }
                    ],
                    "histogram": [
                      {
                        "marker": {
                          "pattern": {
                            "fillmode": "overlay",
                            "size": 10,
                            "solidity": 0.2
                          }
                        },
                        "type": "histogram"
                      }
                    ],
                    "histogram2d": [
                      {
                        "colorbar": {
                          "outlinewidth": 0,
                          "ticks": ""
                        },
                        "colorscale": [
                          [
                            0,
                            "#0d0887"
                          ],
                          [
                            0.1111111111111111,
                            "#46039f"
                          ],
                          [
                            0.2222222222222222,
                            "#7201a8"
                          ],
                          [
                            0.3333333333333333,
                            "#9c179e"
                          ],
                          [
                            0.4444444444444444,
                            "#bd3786"
                          ],
                          [
                            0.5555555555555556,
                            "#d8576b"
                          ],
                          [
                            0.6666666666666666,
                            "#ed7953"
                          ],
                          [
                            0.7777777777777778,
                            "#fb9f3a"
                          ],
                          [
                            0.8888888888888888,
                            "#fdca26"
                          ],
                          [
                            1,
                            "#f0f921"
                          ]
                        ],
                        "type": "histogram2d"
                      }
                    ],
                    "histogram2dcontour": [
                      {
                        "colorbar": {
                          "outlinewidth": 0,
                          "ticks": ""
                        },
                        "colorscale": [
                          [
                            0,
                            "#0d0887"
                          ],
                          [
                            0.1111111111111111,
                            "#46039f"
                          ],
                          [
                            0.2222222222222222,
                            "#7201a8"
                          ],
                          [
                            0.3333333333333333,
                            "#9c179e"
                          ],
                          [
                            0.4444444444444444,
                            "#bd3786"
                          ],
                          [
                            0.5555555555555556,
                            "#d8576b"
                          ],
                          [
                            0.6666666666666666,
                            "#ed7953"
                          ],
                          [
                            0.7777777777777778,
                            "#fb9f3a"
                          ],
                          [
                            0.8888888888888888,
                            "#fdca26"
                          ],
                          [
                            1,
                            "#f0f921"
                          ]
                        ],
                        "type": "histogram2dcontour"
                      }
                    ],
                    "mesh3d": [
                      {
                        "colorbar": {
                          "outlinewidth": 0,
                          "ticks": ""
                        },
                        "type": "mesh3d"
                      }
                    ],
                    "parcoords": [
                      {
                        "line": {
                          "colorbar": {
                            "outlinewidth": 0,
                            "ticks": ""
                          }
                        },
                        "type": "parcoords"
                      }
                    ],
                    "pie": [
                      {
                        "automargin": true,
                        "type": "pie"
                      }
                    ],
                    "scatter": [
                      {
                        "fillpattern": {
                          "fillmode": "overlay",
                          "size": 10,
                          "solidity": 0.2
                        },
                        "type": "scatter"
                      }
                    ],
                    "scatter3d": [
                      {
                        "line": {
                          "colorbar": {
                            "outlinewidth": 0,
                            "ticks": ""
                          }
                        },
                        "marker": {
                          "colorbar": {
                            "outlinewidth": 0,
                            "ticks": ""
                          }
                        },
                        "type": "scatter3d"
                      }
                    ],
                    "scattercarpet": [
                      {
                        "marker": {
                          "colorbar": {
                            "outlinewidth": 0,
                            "ticks": ""
                          }
                        },
                        "type": "scattercarpet"
                      }
                    ],
                    "scattergeo": [
                      {
                        "marker": {
                          "colorbar": {
                            "outlinewidth": 0,
                            "ticks": ""
                          }
                        },
                        "type": "scattergeo"
                      }
                    ],
                    "scattergl": [
                      {
                        "marker": {
                          "colorbar": {
                            "outlinewidth": 0,
                            "ticks": ""
                          }
                        },
                        "type": "scattergl"
                      }
                    ],
                    "scattermap": [
                      {
                        "marker": {
                          "colorbar": {
                            "outlinewidth": 0,
                            "ticks": ""
                          }
                        },
                        "type": "scattermap"
                      }
                    ],
                    "scattermapbox": [
                      {
                        "marker": {
                          "colorbar": {
                            "outlinewidth": 0,
                            "ticks": ""
                          }
                        },
                        "type": "scattermapbox"
                      }
                    ],
                    "scatterpolar": [
                      {
                        "marker": {
                          "colorbar": {
                            "outlinewidth": 0,
                            "ticks": ""
                          }
                        },
                        "type": "scatterpolar"
                      }
                    ],
                    "scatterpolargl": [
                      {
                        "marker": {
                          "colorbar": {
                            "outlinewidth": 0,
                            "ticks": ""
                          }
                        },
                        "type": "scatterpolargl"
                      }
                    ],
                    "scatterternary": [
                      {
                        "marker": {
                          "colorbar": {
                            "outlinewidth": 0,
                            "ticks": ""
                          }
                        },
                        "type": "scatterternary"
                      }
                    ],
                    "surface": [
                      {
                        "colorbar": {
                          "outlinewidth": 0,
                          "ticks": ""
                        },
                        "colorscale": [
                          [
                            0,
                            "#0d0887"
                          ],
                          [
                            0.1111111111111111,
                            "#46039f"
                          ],
                          [
                            0.2222222222222222,
                            "#7201a8"
                          ],
                          [
                            0.3333333333333333,
                            "#9c179e"
                          ],
                          [
                            0.4444444444444444,
                            "#bd3786"
                          ],
                          [
                            0.5555555555555556,
                            "#d8576b"
                          ],
                          [
                            0.6666666666666666,
                            "#ed7953"
                          ],
                          [
                            0.7777777777777778,
                            "#fb9f3a"
                          ],
                          [
                            0.8888888888888888,
                            "#fdca26"
                          ],
                          [
                            1,
                            "#f0f921"
                          ]
                        ],
                        "type": "surface"
                      }
                    ],
                    "table": [
                      {
                        "cells": {
                          "fill": {
                            "color": "#EBF0F8"
                          },
                          "line": {
                            "color": "white"
                          }
                        },
                        "header": {
                          "fill": {
                            "color": "#C8D4E3"
                          },
                          "line": {
                            "color": "white"
                          }
                        },
                        "type": "table"
                      }
                    ]
                  },
                  "layout": {
                    "annotationdefaults": {
                      "arrowcolor": "#2a3f5f",
                      "arrowhead": 0,
                      "arrowwidth": 1
                    },
                    "autotypenumbers": "strict",
                    "coloraxis": {
                      "colorbar": {
                        "outlinewidth": 0,
                        "ticks": ""
                      }
                    },
                    "colorscale": {
                      "diverging": [
                        [
                          0,
                          "#8e0152"
                        ],
                        [
                          0.1,
                          "#c51b7d"
                        ],
                        [
                          0.2,
                          "#de77ae"
                        ],
                        [
                          0.3,
                          "#f1b6da"
                        ],
                        [
                          0.4,
                          "#fde0ef"
                        ],
                        [
                          0.5,
                          "#f7f7f7"
                        ],
                        [
                          0.6,
                          "#e6f5d0"
                        ],
                        [
                          0.7,
                          "#b8e186"
                        ],
                        [
                          0.8,
                          "#7fbc41"
                        ],
                        [
                          0.9,
                          "#4d9221"
                        ],
                        [
                          1,
                          "#276419"
                        ]
                      ],
                      "sequential": [
                        [
                          0,
                          "#0d0887"
                        ],
                        [
                          0.1111111111111111,
                          "#46039f"
                        ],
                        [
                          0.2222222222222222,
                          "#7201a8"
                        ],
                        [
                          0.3333333333333333,
                          "#9c179e"
                        ],
                        [
                          0.4444444444444444,
                          "#bd3786"
                        ],
                        [
                          0.5555555555555556,
                          "#d8576b"
                        ],
                        [
                          0.6666666666666666,
                          "#ed7953"
                        ],
                        [
                          0.7777777777777778,
                          "#fb9f3a"
                        ],
                        [
                          0.8888888888888888,
                          "#fdca26"
                        ],
                        [
                          1,
                          "#f0f921"
                        ]
                      ],
                      "sequentialminus": [
                        [
                          0,
                          "#0d0887"
                        ],
                        [
                          0.1111111111111111,
                          "#46039f"
                        ],
                        [
                          0.2222222222222222,
                          "#7201a8"
                        ],
                        [
                          0.3333333333333333,
                          "#9c179e"
                        ],
                        [
                          0.4444444444444444,
                          "#bd3786"
                        ],
                        [
                          0.5555555555555556,
                          "#d8576b"
                        ],
                        [
                          0.6666666666666666,
                          "#ed7953"
                        ],
                        [
                          0.7777777777777778,
                          "#fb9f3a"
                        ],
                        [
                          0.8888888888888888,
                          "#fdca26"
                        ],
                        [
                          1,
                          "#f0f921"
                        ]
                      ]
                    },
                    "colorway": [
                      "#636efa",
                      "#EF553B",
                      "#00cc96",
                      "#ab63fa",
                      "#FFA15A",
                      "#19d3f3",
                      "#FF6692",
                      "#B6E880",
                      "#FF97FF",
                      "#FECB52"
                    ],
                    "font": {
                      "color": "#2a3f5f"
                    },
                    "geo": {
                      "bgcolor": "white",
                      "lakecolor": "white",
                      "landcolor": "#E5ECF6",
                      "showlakes": true,
                      "showland": true,
                      "subunitcolor": "white"
                    },
                    "hoverlabel": {
                      "align": "left"
                    },
                    "hovermode": "closest",
                    "mapbox": {
                      "style": "light"
                    },
                    "paper_bgcolor": "white",
                    "plot_bgcolor": "#E5ECF6",
                    "polar": {
                      "angularaxis": {
                        "gridcolor": "white",
                        "linecolor": "white",
                        "ticks": ""
                      },
                      "bgcolor": "#E5ECF6",
                      "radialaxis": {
                        "gridcolor": "white",
                        "linecolor": "white",
                        "ticks": ""
                      }
                    },
                    "scene": {
                      "xaxis": {
                        "backgroundcolor": "#E5ECF6",
                        "gridcolor": "white",
                        "gridwidth": 2,
                        "linecolor": "white",
                        "showbackground": true,
                        "ticks": "",
                        "zerolinecolor": "white"
                      },
                      "yaxis": {
                        "backgroundcolor": "#E5ECF6",
                        "gridcolor": "white",
                        "gridwidth": 2,
                        "linecolor": "white",
                        "showbackground": true,
                        "ticks": "",
                        "zerolinecolor": "white"
                      },
                      "zaxis": {
                        "backgroundcolor": "#E5ECF6",
                        "gridcolor": "white",
                        "gridwidth": 2,
                        "linecolor": "white",
                        "showbackground": true,
                        "ticks": "",
                        "zerolinecolor": "white"
                      }
                    },
                    "shapedefaults": {
                      "line": {
                        "color": "#2a3f5f"
                      }
                    },
                    "ternary": {
                      "aaxis": {
                        "gridcolor": "white",
                        "linecolor": "white",
                        "ticks": ""
                      },
                      "baxis": {
                        "gridcolor": "white",
                        "linecolor": "white",
                        "ticks": ""
                      },
                      "bgcolor": "#E5ECF6",
                      "caxis": {
                        "gridcolor": "white",
                        "linecolor": "white",
                        "ticks": ""
                      }
                    },
                    "title": {
                      "x": 0.05
                    },
                    "xaxis": {
                      "automargin": true,
                      "gridcolor": "white",
                      "linecolor": "white",
                      "ticks": "",
                      "title": {
                        "standoff": 15
                      },
                      "zerolinecolor": "white",
                      "zerolinewidth": 2
                    },
                    "yaxis": {
                      "automargin": true,
                      "gridcolor": "white",
                      "linecolor": "white",
                      "ticks": "",
                      "title": {
                        "standoff": 15
                      },
                      "zerolinecolor": "white",
                      "zerolinewidth": 2
                    }
                  }
                },
                "xaxis": {
                  "anchor": "y",
                  "domain": [
                    0,
                    1
                  ],
                  "title": {
                    "text": "armed"
                  }
                },
                "yaxis": {
                  "anchor": "x",
                  "domain": [
                    0,
                    1
                  ],
                  "title": {
                    "text": "Pct Armed"
                  }
                }
              }
            }
          },
          "metadata": {},
          "output_type": "display_data"
        }
      ],
      "source": [
        "fig = px.bar(df_armed_percent,x='armed',y='Pct Armed')\n",
        "\n",
        "\n",
        "fig.show()"
      ]
    },
    {
      "cell_type": "code",
      "execution_count": 85,
      "metadata": {},
      "outputs": [
        {
          "data": {
            "application/vnd.plotly.v1+json": {
              "config": {
                "plotlyServerURL": "https://plot.ly"
              },
              "data": [
                {
                  "domain": {
                    "x": [
                      0,
                      1
                    ],
                    "y": [
                      0,
                      1
                    ]
                  },
                  "hole": 0.4,
                  "hovertemplate": "armed=%{label}<br>Pct Armed=%{value}<extra></extra>",
                  "labels": [
                    "gun",
                    "unarmed"
                  ],
                  "legendgroup": "",
                  "name": "",
                  "showlegend": true,
                  "type": "pie",
                  "values": {
                    "bdata": "AkwH5BWsS0CQV7AGERQbQA==",
                    "dtype": "f8"
                  }
                }
              ],
              "layout": {
                "legend": {
                  "tracegroupgap": 0
                },
                "margin": {
                  "t": 60
                },
                "template": {
                  "data": {
                    "bar": [
                      {
                        "error_x": {
                          "color": "#2a3f5f"
                        },
                        "error_y": {
                          "color": "#2a3f5f"
                        },
                        "marker": {
                          "line": {
                            "color": "#E5ECF6",
                            "width": 0.5
                          },
                          "pattern": {
                            "fillmode": "overlay",
                            "size": 10,
                            "solidity": 0.2
                          }
                        },
                        "type": "bar"
                      }
                    ],
                    "barpolar": [
                      {
                        "marker": {
                          "line": {
                            "color": "#E5ECF6",
                            "width": 0.5
                          },
                          "pattern": {
                            "fillmode": "overlay",
                            "size": 10,
                            "solidity": 0.2
                          }
                        },
                        "type": "barpolar"
                      }
                    ],
                    "carpet": [
                      {
                        "aaxis": {
                          "endlinecolor": "#2a3f5f",
                          "gridcolor": "white",
                          "linecolor": "white",
                          "minorgridcolor": "white",
                          "startlinecolor": "#2a3f5f"
                        },
                        "baxis": {
                          "endlinecolor": "#2a3f5f",
                          "gridcolor": "white",
                          "linecolor": "white",
                          "minorgridcolor": "white",
                          "startlinecolor": "#2a3f5f"
                        },
                        "type": "carpet"
                      }
                    ],
                    "choropleth": [
                      {
                        "colorbar": {
                          "outlinewidth": 0,
                          "ticks": ""
                        },
                        "type": "choropleth"
                      }
                    ],
                    "contour": [
                      {
                        "colorbar": {
                          "outlinewidth": 0,
                          "ticks": ""
                        },
                        "colorscale": [
                          [
                            0,
                            "#0d0887"
                          ],
                          [
                            0.1111111111111111,
                            "#46039f"
                          ],
                          [
                            0.2222222222222222,
                            "#7201a8"
                          ],
                          [
                            0.3333333333333333,
                            "#9c179e"
                          ],
                          [
                            0.4444444444444444,
                            "#bd3786"
                          ],
                          [
                            0.5555555555555556,
                            "#d8576b"
                          ],
                          [
                            0.6666666666666666,
                            "#ed7953"
                          ],
                          [
                            0.7777777777777778,
                            "#fb9f3a"
                          ],
                          [
                            0.8888888888888888,
                            "#fdca26"
                          ],
                          [
                            1,
                            "#f0f921"
                          ]
                        ],
                        "type": "contour"
                      }
                    ],
                    "contourcarpet": [
                      {
                        "colorbar": {
                          "outlinewidth": 0,
                          "ticks": ""
                        },
                        "type": "contourcarpet"
                      }
                    ],
                    "heatmap": [
                      {
                        "colorbar": {
                          "outlinewidth": 0,
                          "ticks": ""
                        },
                        "colorscale": [
                          [
                            0,
                            "#0d0887"
                          ],
                          [
                            0.1111111111111111,
                            "#46039f"
                          ],
                          [
                            0.2222222222222222,
                            "#7201a8"
                          ],
                          [
                            0.3333333333333333,
                            "#9c179e"
                          ],
                          [
                            0.4444444444444444,
                            "#bd3786"
                          ],
                          [
                            0.5555555555555556,
                            "#d8576b"
                          ],
                          [
                            0.6666666666666666,
                            "#ed7953"
                          ],
                          [
                            0.7777777777777778,
                            "#fb9f3a"
                          ],
                          [
                            0.8888888888888888,
                            "#fdca26"
                          ],
                          [
                            1,
                            "#f0f921"
                          ]
                        ],
                        "type": "heatmap"
                      }
                    ],
                    "histogram": [
                      {
                        "marker": {
                          "pattern": {
                            "fillmode": "overlay",
                            "size": 10,
                            "solidity": 0.2
                          }
                        },
                        "type": "histogram"
                      }
                    ],
                    "histogram2d": [
                      {
                        "colorbar": {
                          "outlinewidth": 0,
                          "ticks": ""
                        },
                        "colorscale": [
                          [
                            0,
                            "#0d0887"
                          ],
                          [
                            0.1111111111111111,
                            "#46039f"
                          ],
                          [
                            0.2222222222222222,
                            "#7201a8"
                          ],
                          [
                            0.3333333333333333,
                            "#9c179e"
                          ],
                          [
                            0.4444444444444444,
                            "#bd3786"
                          ],
                          [
                            0.5555555555555556,
                            "#d8576b"
                          ],
                          [
                            0.6666666666666666,
                            "#ed7953"
                          ],
                          [
                            0.7777777777777778,
                            "#fb9f3a"
                          ],
                          [
                            0.8888888888888888,
                            "#fdca26"
                          ],
                          [
                            1,
                            "#f0f921"
                          ]
                        ],
                        "type": "histogram2d"
                      }
                    ],
                    "histogram2dcontour": [
                      {
                        "colorbar": {
                          "outlinewidth": 0,
                          "ticks": ""
                        },
                        "colorscale": [
                          [
                            0,
                            "#0d0887"
                          ],
                          [
                            0.1111111111111111,
                            "#46039f"
                          ],
                          [
                            0.2222222222222222,
                            "#7201a8"
                          ],
                          [
                            0.3333333333333333,
                            "#9c179e"
                          ],
                          [
                            0.4444444444444444,
                            "#bd3786"
                          ],
                          [
                            0.5555555555555556,
                            "#d8576b"
                          ],
                          [
                            0.6666666666666666,
                            "#ed7953"
                          ],
                          [
                            0.7777777777777778,
                            "#fb9f3a"
                          ],
                          [
                            0.8888888888888888,
                            "#fdca26"
                          ],
                          [
                            1,
                            "#f0f921"
                          ]
                        ],
                        "type": "histogram2dcontour"
                      }
                    ],
                    "mesh3d": [
                      {
                        "colorbar": {
                          "outlinewidth": 0,
                          "ticks": ""
                        },
                        "type": "mesh3d"
                      }
                    ],
                    "parcoords": [
                      {
                        "line": {
                          "colorbar": {
                            "outlinewidth": 0,
                            "ticks": ""
                          }
                        },
                        "type": "parcoords"
                      }
                    ],
                    "pie": [
                      {
                        "automargin": true,
                        "type": "pie"
                      }
                    ],
                    "scatter": [
                      {
                        "fillpattern": {
                          "fillmode": "overlay",
                          "size": 10,
                          "solidity": 0.2
                        },
                        "type": "scatter"
                      }
                    ],
                    "scatter3d": [
                      {
                        "line": {
                          "colorbar": {
                            "outlinewidth": 0,
                            "ticks": ""
                          }
                        },
                        "marker": {
                          "colorbar": {
                            "outlinewidth": 0,
                            "ticks": ""
                          }
                        },
                        "type": "scatter3d"
                      }
                    ],
                    "scattercarpet": [
                      {
                        "marker": {
                          "colorbar": {
                            "outlinewidth": 0,
                            "ticks": ""
                          }
                        },
                        "type": "scattercarpet"
                      }
                    ],
                    "scattergeo": [
                      {
                        "marker": {
                          "colorbar": {
                            "outlinewidth": 0,
                            "ticks": ""
                          }
                        },
                        "type": "scattergeo"
                      }
                    ],
                    "scattergl": [
                      {
                        "marker": {
                          "colorbar": {
                            "outlinewidth": 0,
                            "ticks": ""
                          }
                        },
                        "type": "scattergl"
                      }
                    ],
                    "scattermap": [
                      {
                        "marker": {
                          "colorbar": {
                            "outlinewidth": 0,
                            "ticks": ""
                          }
                        },
                        "type": "scattermap"
                      }
                    ],
                    "scattermapbox": [
                      {
                        "marker": {
                          "colorbar": {
                            "outlinewidth": 0,
                            "ticks": ""
                          }
                        },
                        "type": "scattermapbox"
                      }
                    ],
                    "scatterpolar": [
                      {
                        "marker": {
                          "colorbar": {
                            "outlinewidth": 0,
                            "ticks": ""
                          }
                        },
                        "type": "scatterpolar"
                      }
                    ],
                    "scatterpolargl": [
                      {
                        "marker": {
                          "colorbar": {
                            "outlinewidth": 0,
                            "ticks": ""
                          }
                        },
                        "type": "scatterpolargl"
                      }
                    ],
                    "scatterternary": [
                      {
                        "marker": {
                          "colorbar": {
                            "outlinewidth": 0,
                            "ticks": ""
                          }
                        },
                        "type": "scatterternary"
                      }
                    ],
                    "surface": [
                      {
                        "colorbar": {
                          "outlinewidth": 0,
                          "ticks": ""
                        },
                        "colorscale": [
                          [
                            0,
                            "#0d0887"
                          ],
                          [
                            0.1111111111111111,
                            "#46039f"
                          ],
                          [
                            0.2222222222222222,
                            "#7201a8"
                          ],
                          [
                            0.3333333333333333,
                            "#9c179e"
                          ],
                          [
                            0.4444444444444444,
                            "#bd3786"
                          ],
                          [
                            0.5555555555555556,
                            "#d8576b"
                          ],
                          [
                            0.6666666666666666,
                            "#ed7953"
                          ],
                          [
                            0.7777777777777778,
                            "#fb9f3a"
                          ],
                          [
                            0.8888888888888888,
                            "#fdca26"
                          ],
                          [
                            1,
                            "#f0f921"
                          ]
                        ],
                        "type": "surface"
                      }
                    ],
                    "table": [
                      {
                        "cells": {
                          "fill": {
                            "color": "#EBF0F8"
                          },
                          "line": {
                            "color": "white"
                          }
                        },
                        "header": {
                          "fill": {
                            "color": "#C8D4E3"
                          },
                          "line": {
                            "color": "white"
                          }
                        },
                        "type": "table"
                      }
                    ]
                  },
                  "layout": {
                    "annotationdefaults": {
                      "arrowcolor": "#2a3f5f",
                      "arrowhead": 0,
                      "arrowwidth": 1
                    },
                    "autotypenumbers": "strict",
                    "coloraxis": {
                      "colorbar": {
                        "outlinewidth": 0,
                        "ticks": ""
                      }
                    },
                    "colorscale": {
                      "diverging": [
                        [
                          0,
                          "#8e0152"
                        ],
                        [
                          0.1,
                          "#c51b7d"
                        ],
                        [
                          0.2,
                          "#de77ae"
                        ],
                        [
                          0.3,
                          "#f1b6da"
                        ],
                        [
                          0.4,
                          "#fde0ef"
                        ],
                        [
                          0.5,
                          "#f7f7f7"
                        ],
                        [
                          0.6,
                          "#e6f5d0"
                        ],
                        [
                          0.7,
                          "#b8e186"
                        ],
                        [
                          0.8,
                          "#7fbc41"
                        ],
                        [
                          0.9,
                          "#4d9221"
                        ],
                        [
                          1,
                          "#276419"
                        ]
                      ],
                      "sequential": [
                        [
                          0,
                          "#0d0887"
                        ],
                        [
                          0.1111111111111111,
                          "#46039f"
                        ],
                        [
                          0.2222222222222222,
                          "#7201a8"
                        ],
                        [
                          0.3333333333333333,
                          "#9c179e"
                        ],
                        [
                          0.4444444444444444,
                          "#bd3786"
                        ],
                        [
                          0.5555555555555556,
                          "#d8576b"
                        ],
                        [
                          0.6666666666666666,
                          "#ed7953"
                        ],
                        [
                          0.7777777777777778,
                          "#fb9f3a"
                        ],
                        [
                          0.8888888888888888,
                          "#fdca26"
                        ],
                        [
                          1,
                          "#f0f921"
                        ]
                      ],
                      "sequentialminus": [
                        [
                          0,
                          "#0d0887"
                        ],
                        [
                          0.1111111111111111,
                          "#46039f"
                        ],
                        [
                          0.2222222222222222,
                          "#7201a8"
                        ],
                        [
                          0.3333333333333333,
                          "#9c179e"
                        ],
                        [
                          0.4444444444444444,
                          "#bd3786"
                        ],
                        [
                          0.5555555555555556,
                          "#d8576b"
                        ],
                        [
                          0.6666666666666666,
                          "#ed7953"
                        ],
                        [
                          0.7777777777777778,
                          "#fb9f3a"
                        ],
                        [
                          0.8888888888888888,
                          "#fdca26"
                        ],
                        [
                          1,
                          "#f0f921"
                        ]
                      ]
                    },
                    "colorway": [
                      "#636efa",
                      "#EF553B",
                      "#00cc96",
                      "#ab63fa",
                      "#FFA15A",
                      "#19d3f3",
                      "#FF6692",
                      "#B6E880",
                      "#FF97FF",
                      "#FECB52"
                    ],
                    "font": {
                      "color": "#2a3f5f"
                    },
                    "geo": {
                      "bgcolor": "white",
                      "lakecolor": "white",
                      "landcolor": "#E5ECF6",
                      "showlakes": true,
                      "showland": true,
                      "subunitcolor": "white"
                    },
                    "hoverlabel": {
                      "align": "left"
                    },
                    "hovermode": "closest",
                    "mapbox": {
                      "style": "light"
                    },
                    "paper_bgcolor": "white",
                    "plot_bgcolor": "#E5ECF6",
                    "polar": {
                      "angularaxis": {
                        "gridcolor": "white",
                        "linecolor": "white",
                        "ticks": ""
                      },
                      "bgcolor": "#E5ECF6",
                      "radialaxis": {
                        "gridcolor": "white",
                        "linecolor": "white",
                        "ticks": ""
                      }
                    },
                    "scene": {
                      "xaxis": {
                        "backgroundcolor": "#E5ECF6",
                        "gridcolor": "white",
                        "gridwidth": 2,
                        "linecolor": "white",
                        "showbackground": true,
                        "ticks": "",
                        "zerolinecolor": "white"
                      },
                      "yaxis": {
                        "backgroundcolor": "#E5ECF6",
                        "gridcolor": "white",
                        "gridwidth": 2,
                        "linecolor": "white",
                        "showbackground": true,
                        "ticks": "",
                        "zerolinecolor": "white"
                      },
                      "zaxis": {
                        "backgroundcolor": "#E5ECF6",
                        "gridcolor": "white",
                        "gridwidth": 2,
                        "linecolor": "white",
                        "showbackground": true,
                        "ticks": "",
                        "zerolinecolor": "white"
                      }
                    },
                    "shapedefaults": {
                      "line": {
                        "color": "#2a3f5f"
                      }
                    },
                    "ternary": {
                      "aaxis": {
                        "gridcolor": "white",
                        "linecolor": "white",
                        "ticks": ""
                      },
                      "baxis": {
                        "gridcolor": "white",
                        "linecolor": "white",
                        "ticks": ""
                      },
                      "bgcolor": "#E5ECF6",
                      "caxis": {
                        "gridcolor": "white",
                        "linecolor": "white",
                        "ticks": ""
                      }
                    },
                    "title": {
                      "x": 0.05
                    },
                    "xaxis": {
                      "automargin": true,
                      "gridcolor": "white",
                      "linecolor": "white",
                      "ticks": "",
                      "title": {
                        "standoff": 15
                      },
                      "zerolinecolor": "white",
                      "zerolinewidth": 2
                    },
                    "yaxis": {
                      "automargin": true,
                      "gridcolor": "white",
                      "linecolor": "white",
                      "ticks": "",
                      "title": {
                        "standoff": 15
                      },
                      "zerolinecolor": "white",
                      "zerolinewidth": 2
                    }
                  }
                }
              }
            }
          },
          "metadata": {},
          "output_type": "display_data"
        }
      ],
      "source": [
        "\n",
        "\n",
        "fig = px.pie(df_armed_percent[df_armed_percent['armed'].isin(['gun','unarmed'])],names='armed',values='Pct Armed',hole=.4)\n",
        "\n",
        "fig.show()"
      ]
    },
    {
      "cell_type": "code",
      "execution_count": 86,
      "metadata": {},
      "outputs": [
        {
          "name": "stdout",
          "output_type": "stream",
          "text": [
            "There were 1398 people armed with guns and 171 people who were unarmed.\n"
          ]
        }
      ],
      "source": [
        "gun = armed_counts['gun']\n",
        "\n",
        "unarmed = armed_counts['unarmed']\n",
        "\n",
        "print(f'There were {gun} people armed with guns and {unarmed} people who were unarmed.')"
      ]
    },
    {
      "cell_type": "markdown",
      "metadata": {
        "id": "IgD2a5-L4W_I"
      },
      "source": [
        "# How Old Were the People Killed?"
      ]
    },
    {
      "cell_type": "markdown",
      "metadata": {
        "id": "BNPrdT-W9lf3"
      },
      "source": [
        "Work out what percentage of people killed were under 25 years old.  "
      ]
    },
    {
      "cell_type": "code",
      "execution_count": 87,
      "metadata": {
        "id": "zSyDgzb542O9"
      },
      "outputs": [
        {
          "name": "stdout",
          "output_type": "stream",
          "text": [
            "Percentage of people who were 25 or younger that were killed 21.81\n"
          ]
        }
      ],
      "source": [
        "df_age = df_fatalities.copy()\n",
        "\n",
        "ages = df_fatalities['age'].value_counts(normalize=True) * 100\n",
        "# df_ages = ages/ages.sum() * 100\n",
        "\n",
        "df_age['Check'] = df_age['age'] <= 25\n",
        "under_25 = df_age.Check.mean() * 100\n",
        "print(f'Percentage of people who were 25 or younger that were killed {under_25:.2f}')"
      ]
    },
    {
      "cell_type": "markdown",
      "metadata": {
        "id": "5XrAD_ey9qBB"
      },
      "source": [
        "Create a histogram and KDE plot that shows the distribution of ages of the people killed by police. "
      ]
    },
    {
      "cell_type": "code",
      "execution_count": 88,
      "metadata": {},
      "outputs": [
        {
          "data": {
            "text/plain": [
              "Index(['id', 'name', 'date', 'manner_of_death', 'armed', 'age', 'gender',\n",
              "       'race', 'city', 'state', 'signs_of_mental_illness', 'threat_level',\n",
              "       'flee', 'body_camera', 'Check'],\n",
              "      dtype='object')"
            ]
          },
          "execution_count": 88,
          "metadata": {},
          "output_type": "execute_result"
        }
      ],
      "source": [
        "df_age.dropna(subset='race',inplace=True,axis=0)\n",
        "df_age.replace({\n",
        "    \"race\":{\n",
        "        \"A\":\"Asian\",\n",
        "        \"W\":\"White\",\n",
        "        \"B\":\"Black\",\n",
        "        \"H\":\"Hispanic\",\n",
        "        \"N\":\"Native American\"\n",
        "        \n",
        "    }\n",
        "},inplace=True)\n",
        "df_age['race'].unique()\n",
        "df_age.columns"
      ]
    },
    {
      "cell_type": "code",
      "execution_count": 120,
      "metadata": {
        "id": "U6B1Qp7l42H8"
      },
      "outputs": [
        {
          "data": {
            "image/png": "[encoded data removed]",
            "text/plain": [
              "<Figure size 1500x500 with 1 Axes>"
            ]
          },
          "metadata": {},
          "output_type": "display_data"
        }
      ],
      "source": [
        "\n",
        "plt.figure(figsize=(15,5),facecolor=\"black\")\n",
        "sns.histplot(df_age,kde=True,x='age',color=\"blue\")\n",
        "\n",
        "\n",
        "plt.xlabel('Age')\n",
        "plt.ylabel('Count')\n",
        "plt.show()"
      ]
    },
    {
      "cell_type": "markdown",
      "metadata": {
        "id": "zcqqPDo79rTx"
      },
      "source": [
        "Create a seperate KDE plot for each race. Is there a difference between the distributions? "
      ]
    },
    {
      "cell_type": "code",
      "execution_count": 136,
      "metadata": {
        "id": "ubUnMjok43Zo"
      },
      "outputs": [
        {
          "data": {
            "image/png": "[encoded data removed]",
            "text/plain": [
              "<Figure size 1800x300 with 6 Axes>"
            ]
          },
          "metadata": {},
          "output_type": "display_data"
        }
      ],
      "source": [
        "df_age_grouped = df_age.groupby(['age','race'])['race'].value_counts().reset_index(name='count')\n",
        "\n",
        "g = sns.FacetGrid(df_age,col='race',hue='race')\n",
        "g.map(sns.kdeplot,'age')\n",
        "plt.show()"
      ]
    },
    {
      "cell_type": "markdown",
      "metadata": {
        "id": "JkcHvMUt43uE"
      },
      "source": [
        "# Race of People Killed\n",
        "\n",
        "Create a chart that shows the total number of people killed by race. "
      ]
    },
    {
      "cell_type": "code",
      "execution_count": null,
      "metadata": {
        "id": "e8wZvBrt5BEb"
      },
      "outputs": [],
      "source": []
    },
    {
      "cell_type": "code",
      "execution_count": null,
      "metadata": {
        "id": "_aqN0wC45BOl"
      },
      "outputs": [],
      "source": []
    },
    {
      "cell_type": "markdown",
      "metadata": {
        "id": "SJaNm4rC5nWm"
      },
      "source": [
        "# Mental Illness and Police Killings\n",
        "\n",
        "What percentage of people killed by police have been diagnosed with a mental illness?"
      ]
    },
    {
      "cell_type": "code",
      "execution_count": null,
      "metadata": {
        "id": "dbuGvCnN5ytC"
      },
      "outputs": [],
      "source": []
    },
    {
      "cell_type": "code",
      "execution_count": null,
      "metadata": {
        "id": "BsKDVLiY5CP_"
      },
      "outputs": [],
      "source": []
    },
    {
      "cell_type": "markdown",
      "metadata": {
        "id": "R0WSPeKD5Cir"
      },
      "source": [
        "# In Which Cities Do the Most Police Killings Take Place?\n",
        "\n",
        "Create a chart ranking the top 10 cities with the most police killings. Which cities are the most dangerous?  "
      ]
    },
    {
      "cell_type": "code",
      "execution_count": null,
      "metadata": {
        "id": "NYVwo3qy5UV3"
      },
      "outputs": [],
      "source": []
    },
    {
      "cell_type": "code",
      "execution_count": null,
      "metadata": {
        "id": "T_FU4GFk5Upa"
      },
      "outputs": [],
      "source": []
    },
    {
      "cell_type": "markdown",
      "metadata": {
        "id": "AqcOW6ca8JMD"
      },
      "source": [
        "# Rate of Death by Race\n",
        "\n",
        "Find the share of each race in the top 10 cities. Contrast this with the top 10 cities of police killings to work out the rate at which people are killed by race for each city. "
      ]
    },
    {
      "cell_type": "code",
      "execution_count": null,
      "metadata": {
        "id": "FkjAUlKy8I2g"
      },
      "outputs": [],
      "source": []
    },
    {
      "cell_type": "code",
      "execution_count": null,
      "metadata": {
        "id": "dA3Hs9b55V59"
      },
      "outputs": [],
      "source": []
    },
    {
      "cell_type": "markdown",
      "metadata": {
        "id": "1HUJksrI5WFb"
      },
      "source": [
        "# Create a Choropleth Map of Police Killings by US State\n",
        "\n",
        "Which states are the most dangerous? Compare your map with your previous chart. Are these the same states with high degrees of poverty? "
      ]
    },
    {
      "cell_type": "code",
      "execution_count": null,
      "metadata": {
        "id": "u3UuX4Yo5dBA"
      },
      "outputs": [],
      "source": []
    },
    {
      "cell_type": "code",
      "execution_count": null,
      "metadata": {
        "id": "Y6VLPDeN5dKO"
      },
      "outputs": [],
      "source": []
    },
    {
      "cell_type": "markdown",
      "metadata": {
        "id": "37UsmVYF6hA2"
      },
      "source": [
        "# Number of Police Killings Over Time\n",
        "\n",
        "Analyse the Number of Police Killings over Time. Is there a trend in the data? "
      ]
    },
    {
      "cell_type": "code",
      "execution_count": null,
      "metadata": {
        "id": "nITf1IhP6gpI"
      },
      "outputs": [],
      "source": []
    },
    {
      "cell_type": "code",
      "execution_count": null,
      "metadata": {
        "id": "Q_vxjD_A7JRh"
      },
      "outputs": [],
      "source": []
    },
    {
      "cell_type": "code",
      "execution_count": null,
      "metadata": {
        "id": "mOqtie707JU8"
      },
      "outputs": [],
      "source": []
    },
    {
      "cell_type": "code",
      "execution_count": null,
      "metadata": {
        "id": "5fjhL8Lk7JKa"
      },
      "outputs": [],
      "source": []
    },
    {
      "cell_type": "markdown",
      "metadata": {
        "id": "9o6uLFpS61nw"
      },
      "source": [
        "# Epilogue\n",
        "\n",
        "Now that you have analysed the data yourself, read [The Washington Post's analysis here](https://www.washingtonpost.com/graphics/investigations/police-shootings-database/)."
      ]
    },
    {
      "cell_type": "code",
      "execution_count": null,
      "metadata": {
        "id": "8PjgzuNa61I1"
      },
      "outputs": [],
      "source": []
    }
  ],
  "metadata": {
    "colab": {
      "name": "Fatal Force (start).ipynb",
      "provenance": []
    },
    "kernelspec": {
      "display_name": ".venv",
      "language": "python",
      "name": "python3"
    },
    "language_info": {
      "codemirror_mode": {
        "name": "ipython",
        "version": 3
      },
      "file_extension": ".py",
      "mimetype": "text/x-python",
      "name": "python",
      "nbconvert_exporter": "python",
      "pygments_lexer": "ipython3",
      "version": "3.13.3"
    }
  },
  "nbformat": 4,
  "nbformat_minor": 0
}
